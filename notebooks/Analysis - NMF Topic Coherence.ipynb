{
 "cells": [
  {
   "cell_type": "markdown",
   "id": "c46155cb",
   "metadata": {},
   "source": [
    "# Measures of Topic Coherence for NMF feature space"
   ]
  },
  {
   "cell_type": "code",
   "execution_count": 1,
   "id": "4b754e37",
   "metadata": {},
   "outputs": [],
   "source": [
    "import os\n",
    "import sys\n",
    "parent_dr = os.path.split(os.getcwd())[0]\n",
    "if parent_dr not in sys.path:\n",
    "    sys.path.append(parent_dr)"
   ]
  },
  {
   "cell_type": "code",
   "execution_count": 2,
   "id": "4a9cabb6",
   "metadata": {},
   "outputs": [],
   "source": [
    "from sklearn.decomposition import NMF\n",
    "from core.data.training_data import *"
   ]
  },
  {
   "cell_type": "code",
   "execution_count": 3,
   "id": "032be153",
   "metadata": {},
   "outputs": [],
   "source": [
    "# path to serialized training data\n",
    "file_name = \"tokenized_arxiv_subset_15540.pkl\"\n",
    "full_path = os.path.join(parent_dr, \"core\", \"resources\", file_name)\n",
    "\n",
    "# wrapper for training data and computed matrices\n",
    "data_obj = TrainingData(full_path)"
   ]
  },
  {
   "cell_type": "code",
   "execution_count": 4,
   "id": "a02cd4ee",
   "metadata": {},
   "outputs": [],
   "source": [
    "pd.set_option('display.max_columns', None)\n",
    "pd.set_option('display.max_rows', None)\n",
    "pd.set_option('display.max_colwidth', None)"
   ]
  },
  {
   "cell_type": "code",
   "execution_count": 5,
   "id": "641fb236",
   "metadata": {},
   "outputs": [],
   "source": [
    "# Checking train split\n",
    "assert len(data_obj.train_df)/len(data_obj.data_df) == 0.8"
   ]
  },
  {
   "cell_type": "markdown",
   "id": "8277dadb",
   "metadata": {},
   "source": [
    "# Do NMF"
   ]
  },
  {
   "cell_type": "code",
   "execution_count": 6,
   "id": "7d309a7a",
   "metadata": {},
   "outputs": [],
   "source": [
    "def compute_nmf(k, A):\n",
    "    nmf_model = NMF(n_components = k, \n",
    "                init='nndsvd', \n",
    "                max_iter=1000,\n",
    "                random_state=1)\n",
    "    W = nmf_model.fit_transform(A)\n",
    "\n",
    "    H = nmf_model.components_\n",
    "    \n",
    "    return nmf_model, W, H"
   ]
  },
  {
   "cell_type": "code",
   "execution_count": 7,
   "id": "0e284134",
   "metadata": {},
   "outputs": [],
   "source": [
    "def generate_topics(topic_model, index_to_word, top_n_words = 15, print_out = False):\n",
    "    topic_list = []\n",
    "    for topic_idx, topic in enumerate(topic_model.components_):\n",
    "        top_n = [index_to_word[i] for i in topic.argsort()[-top_n_words:]][::-1]\n",
    "        topic_list.append([topic_idx, top_n])\n",
    "        if print_out:\n",
    "            print(f\"Topic {topic_idx}:\\n{top_n}\\n\")\n",
    "    return pd.DataFrame(topic_list, columns=[\"Topic\", \"Terms\"])"
   ]
  },
  {
   "cell_type": "markdown",
   "id": "5372ffd5",
   "metadata": {},
   "source": [
    "### NMF with k = 7 (i.e. known number of cateogories)"
   ]
  },
  {
   "cell_type": "code",
   "execution_count": 8,
   "id": "058aae46",
   "metadata": {},
   "outputs": [],
   "source": [
    "model_7, W_7, H_7 = compute_nmf(k=7, A=data_obj.tfidf_train_matrix)"
   ]
  },
  {
   "cell_type": "code",
   "execution_count": 9,
   "id": "805c0510",
   "metadata": {},
   "outputs": [],
   "source": [
    "topic_terms = generate_topics(data_obj.index_to_word, top_n_words = 15)"
   ]
  },
  {
   "cell_type": "code",
   "execution_count": 10,
   "id": "4b96136e",
   "metadata": {},
   "outputs": [
    {
     "data": {
      "text/html": [
       "<div>\n",
       "<style scoped>\n",
       "    .dataframe tbody tr th:only-of-type {\n",
       "        vertical-align: middle;\n",
       "    }\n",
       "\n",
       "    .dataframe tbody tr th {\n",
       "        vertical-align: top;\n",
       "    }\n",
       "\n",
       "    .dataframe thead th {\n",
       "        text-align: right;\n",
       "    }\n",
       "</style>\n",
       "<table border=\"1\" class=\"dataframe\">\n",
       "  <thead>\n",
       "    <tr style=\"text-align: right;\">\n",
       "      <th></th>\n",
       "      <th>Topic</th>\n",
       "      <th>Terms</th>\n",
       "    </tr>\n",
       "  </thead>\n",
       "  <tbody>\n",
       "    <tr>\n",
       "      <th>0</th>\n",
       "      <td>0</td>\n",
       "      <td>[problem, algorithm, search, solution, constraint, solve, method, heuristic, planning, approach, optimization, optimal, plan, time, instance]</td>\n",
       "    </tr>\n",
       "    <tr>\n",
       "      <th>1</th>\n",
       "      <td>1</td>\n",
       "      <td>[number, study, proceeding, conference, time, result, hold, covid, bind, et, al, frac, word, dataset, set]</td>\n",
       "    </tr>\n",
       "    <tr>\n",
       "      <th>2</th>\n",
       "      <td>2</td>\n",
       "      <td>[datum, system, technology, student, ai, research, user, information, service, social, study, use, development, paper, design]</td>\n",
       "    </tr>\n",
       "    <tr>\n",
       "      <th>3</th>\n",
       "      <td>3</td>\n",
       "      <td>[network, brain, neuron, model, neural, spike, activity, dynamic, stimulus, input, connectivity, functional, cell, neuronal, synaptic]</td>\n",
       "    </tr>\n",
       "    <tr>\n",
       "      <th>4</th>\n",
       "      <td>4</td>\n",
       "      <td>[agent, game, learn, learning, environment, reinforcement, action, task, human, reward, policy, model, state, rl, ai]</td>\n",
       "    </tr>\n",
       "    <tr>\n",
       "      <th>5</th>\n",
       "      <td>5</td>\n",
       "      <td>[graph, vertex, edge, free, tree, class, problem, polynomial, coloring, set, color, np, bipartite, complete, chordal]</td>\n",
       "    </tr>\n",
       "    <tr>\n",
       "      <th>6</th>\n",
       "      <td>6</td>\n",
       "      <td>[belief, logic, probability, knowledge, rule, model, theory, reasoning, set, inference, probabilistic, fuzzy, semantic, base, decision]</td>\n",
       "    </tr>\n",
       "  </tbody>\n",
       "</table>\n",
       "</div>"
      ],
      "text/plain": [
       "   Topic  \\\n",
       "0      0   \n",
       "1      1   \n",
       "2      2   \n",
       "3      3   \n",
       "4      4   \n",
       "5      5   \n",
       "6      6   \n",
       "\n",
       "                                                                                                                                           Terms  \n",
       "0  [problem, algorithm, search, solution, constraint, solve, method, heuristic, planning, approach, optimization, optimal, plan, time, instance]  \n",
       "1                                     [number, study, proceeding, conference, time, result, hold, covid, bind, et, al, frac, word, dataset, set]  \n",
       "2                 [datum, system, technology, student, ai, research, user, information, service, social, study, use, development, paper, design]  \n",
       "3         [network, brain, neuron, model, neural, spike, activity, dynamic, stimulus, input, connectivity, functional, cell, neuronal, synaptic]  \n",
       "4                          [agent, game, learn, learning, environment, reinforcement, action, task, human, reward, policy, model, state, rl, ai]  \n",
       "5                          [graph, vertex, edge, free, tree, class, problem, polynomial, coloring, set, color, np, bipartite, complete, chordal]  \n",
       "6        [belief, logic, probability, knowledge, rule, model, theory, reasoning, set, inference, probabilistic, fuzzy, semantic, base, decision]  "
      ]
     },
     "execution_count": 10,
     "metadata": {},
     "output_type": "execute_result"
    }
   ],
   "source": [
    "topic_terms"
   ]
  },
  {
   "cell_type": "code",
   "execution_count": 11,
   "id": "265b79da",
   "metadata": {},
   "outputs": [],
   "source": [
    "topics = topic_terms['Terms'].tolist()"
   ]
  },
  {
   "cell_type": "code",
   "execution_count": 12,
   "id": "9df3f09f",
   "metadata": {},
   "outputs": [
    {
     "data": {
      "text/plain": [
       "0.6110867524097108"
      ]
     },
     "execution_count": 12,
     "metadata": {},
     "output_type": "execute_result"
    }
   ],
   "source": [
    "data_obj.compute_coherence(topics)"
   ]
  },
  {
   "cell_type": "code",
   "execution_count": null,
   "id": "0741f90b",
   "metadata": {},
   "outputs": [],
   "source": []
  }
 ],
 "metadata": {
  "kernelspec": {
   "display_name": "Python 3 (ipykernel)",
   "language": "python",
   "name": "python3"
  },
  "language_info": {
   "codemirror_mode": {
    "name": "ipython",
    "version": 3
   },
   "file_extension": ".py",
   "mimetype": "text/x-python",
   "name": "python",
   "nbconvert_exporter": "python",
   "pygments_lexer": "ipython3",
   "version": "3.9.7"
  }
 },
 "nbformat": 4,
 "nbformat_minor": 5
}
