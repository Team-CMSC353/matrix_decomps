{
 "cells": [
  {
   "cell_type": "markdown",
   "id": "c46155cb",
   "metadata": {},
   "source": [
    "# Measures of Topic Coherence for NMF feature space"
   ]
  },
  {
   "cell_type": "code",
   "execution_count": 1,
   "id": "4b754e37",
   "metadata": {},
   "outputs": [],
   "source": [
    "import os\n",
    "import sys\n",
    "parent_dr = os.path.split(os.getcwd())[0]\n",
    "if parent_dr not in sys.path:\n",
    "    sys.path.append(parent_dr)"
   ]
  },
  {
   "cell_type": "code",
   "execution_count": 2,
   "id": "4a9cabb6",
   "metadata": {},
   "outputs": [],
   "source": [
    "from sklearn.decomposition import NMF\n",
    "from core.data.training_data import *\n",
    "from core.matrix.nmf_decompositions import compute_nmf, generate_topics_from_NMF"
   ]
  },
  {
   "cell_type": "code",
   "execution_count": 3,
   "id": "032be153",
   "metadata": {},
   "outputs": [],
   "source": [
    "# path to serialized training data\n",
    "file_name = \"tokenized_arxiv_subset_15540.pkl\"\n",
    "full_path = os.path.join(parent_dr, \"core\", \"resources\", file_name)\n",
    "\n",
    "# wrapper for training data and computed matrices\n",
    "data_obj = TrainingData(full_path)"
   ]
  },
  {
   "cell_type": "code",
   "execution_count": 4,
   "id": "a02cd4ee",
   "metadata": {},
   "outputs": [],
   "source": [
    "pd.set_option('display.max_columns', None)\n",
    "pd.set_option('display.max_rows', None)\n",
    "pd.set_option('display.max_colwidth', None)"
   ]
  },
  {
   "cell_type": "code",
   "execution_count": 5,
   "id": "641fb236",
   "metadata": {},
   "outputs": [],
   "source": [
    "# Checking train split\n",
    "assert len(data_obj.train_df)/len(data_obj.data_df) == 0.8"
   ]
  },
  {
   "cell_type": "markdown",
   "id": "8277dadb",
   "metadata": {},
   "source": [
    "# Show Coherence for multiple NMF \"models\""
   ]
  },
  {
   "cell_type": "markdown",
   "id": "66ee3e14",
   "metadata": {},
   "source": [
    "## A model for k = 7 (known number of categories)\n",
    "- compute factorization\n",
    "- generate topics from H matrix\n",
    "- convert topics df to list of list\n",
    "- compute coherence on topics list"
   ]
  },
  {
   "cell_type": "code",
   "execution_count": 6,
   "id": "058aae46",
   "metadata": {},
   "outputs": [],
   "source": [
    "model_7, W_7, H_7 = compute_nmf(k=7, A=data_obj.tfidf_train_matrix)"
   ]
  },
  {
   "cell_type": "code",
   "execution_count": 7,
   "id": "805c0510",
   "metadata": {},
   "outputs": [],
   "source": [
    "topic_terms_7 = generate_topics_from_NMF(model_7.components_,\n",
    "                                         data_obj.index_to_word,\n",
    "                                         top_n_words = 15)"
   ]
  },
  {
   "cell_type": "code",
   "execution_count": 8,
   "id": "4b96136e",
   "metadata": {},
   "outputs": [
    {
     "data": {
      "text/html": [
       "<div>\n",
       "<style scoped>\n",
       "    .dataframe tbody tr th:only-of-type {\n",
       "        vertical-align: middle;\n",
       "    }\n",
       "\n",
       "    .dataframe tbody tr th {\n",
       "        vertical-align: top;\n",
       "    }\n",
       "\n",
       "    .dataframe thead th {\n",
       "        text-align: right;\n",
       "    }\n",
       "</style>\n",
       "<table border=\"1\" class=\"dataframe\">\n",
       "  <thead>\n",
       "    <tr style=\"text-align: right;\">\n",
       "      <th></th>\n",
       "      <th>Topic</th>\n",
       "      <th>Terms</th>\n",
       "    </tr>\n",
       "  </thead>\n",
       "  <tbody>\n",
       "    <tr>\n",
       "      <th>0</th>\n",
       "      <td>0</td>\n",
       "      <td>[problem, algorithm, search, solution, constraint, solve, method, heuristic, planning, approach, optimization, optimal, plan, time, instance]</td>\n",
       "    </tr>\n",
       "    <tr>\n",
       "      <th>1</th>\n",
       "      <td>1</td>\n",
       "      <td>[number, study, proceeding, conference, time, result, hold, covid, bind, et, al, frac, word, dataset, set]</td>\n",
       "    </tr>\n",
       "    <tr>\n",
       "      <th>2</th>\n",
       "      <td>2</td>\n",
       "      <td>[datum, system, technology, student, ai, research, user, information, service, social, study, use, development, paper, design]</td>\n",
       "    </tr>\n",
       "    <tr>\n",
       "      <th>3</th>\n",
       "      <td>3</td>\n",
       "      <td>[network, brain, neuron, model, neural, spike, activity, dynamic, stimulus, input, connectivity, functional, cell, neuronal, synaptic]</td>\n",
       "    </tr>\n",
       "    <tr>\n",
       "      <th>4</th>\n",
       "      <td>4</td>\n",
       "      <td>[agent, game, learn, learning, environment, reinforcement, action, task, human, reward, policy, model, state, rl, ai]</td>\n",
       "    </tr>\n",
       "    <tr>\n",
       "      <th>5</th>\n",
       "      <td>5</td>\n",
       "      <td>[graph, vertex, edge, free, tree, class, problem, polynomial, coloring, set, color, np, bipartite, complete, chordal]</td>\n",
       "    </tr>\n",
       "    <tr>\n",
       "      <th>6</th>\n",
       "      <td>6</td>\n",
       "      <td>[belief, logic, probability, knowledge, rule, model, theory, reasoning, set, inference, probabilistic, fuzzy, semantic, base, decision]</td>\n",
       "    </tr>\n",
       "  </tbody>\n",
       "</table>\n",
       "</div>"
      ],
      "text/plain": [
       "   Topic  \\\n",
       "0      0   \n",
       "1      1   \n",
       "2      2   \n",
       "3      3   \n",
       "4      4   \n",
       "5      5   \n",
       "6      6   \n",
       "\n",
       "                                                                                                                                           Terms  \n",
       "0  [problem, algorithm, search, solution, constraint, solve, method, heuristic, planning, approach, optimization, optimal, plan, time, instance]  \n",
       "1                                     [number, study, proceeding, conference, time, result, hold, covid, bind, et, al, frac, word, dataset, set]  \n",
       "2                 [datum, system, technology, student, ai, research, user, information, service, social, study, use, development, paper, design]  \n",
       "3         [network, brain, neuron, model, neural, spike, activity, dynamic, stimulus, input, connectivity, functional, cell, neuronal, synaptic]  \n",
       "4                          [agent, game, learn, learning, environment, reinforcement, action, task, human, reward, policy, model, state, rl, ai]  \n",
       "5                          [graph, vertex, edge, free, tree, class, problem, polynomial, coloring, set, color, np, bipartite, complete, chordal]  \n",
       "6        [belief, logic, probability, knowledge, rule, model, theory, reasoning, set, inference, probabilistic, fuzzy, semantic, base, decision]  "
      ]
     },
     "execution_count": 8,
     "metadata": {},
     "output_type": "execute_result"
    }
   ],
   "source": [
    "topic_terms_7"
   ]
  },
  {
   "cell_type": "code",
   "execution_count": 9,
   "id": "265b79da",
   "metadata": {},
   "outputs": [],
   "source": [
    "topics_7 = topic_terms_7['Terms'].tolist()"
   ]
  },
  {
   "cell_type": "code",
   "execution_count": 10,
   "id": "9df3f09f",
   "metadata": {},
   "outputs": [
    {
     "name": "stdout",
     "output_type": "stream",
     "text": [
      "Coherehence for NMK k=7: 0.6110867524097108\n"
     ]
    }
   ],
   "source": [
    "coherence_7 = data_obj.compute_coherence(topics_7)\n",
    "print(\"Coherehence for NMK k=7:\", coherence_7)"
   ]
  },
  {
   "cell_type": "markdown",
   "id": "11ac74a0",
   "metadata": {},
   "source": [
    "## A model for k = 2299 (from screeplot of singular values of original tfidf matrix)\n",
    "- read in serialized model components\n",
    "- generate topics from H matrix\n",
    "- convert topics df to list of list\n",
    "- compute coherence on topics list"
   ]
  },
  {
   "cell_type": "code",
   "execution_count": 11,
   "id": "37a69434",
   "metadata": {},
   "outputs": [],
   "source": [
    "# read in pickled model component\n",
    "component_file_name = \"H_2299.pkl\"\n",
    "full_path_component = os.path.join(parent_dr, \"core\", \"resources\", component_file_name)\n",
    "H_2299 = np.load(full_path_component, allow_pickle=True)"
   ]
  },
  {
   "cell_type": "code",
   "execution_count": 12,
   "id": "a8ef05bf",
   "metadata": {},
   "outputs": [],
   "source": [
    "topic_terms_2299 = generate_topics_from_NMF(H_2299,\n",
    "                                         data_obj.index_to_word,\n",
    "                                         top_n_words = 15)"
   ]
  },
  {
   "cell_type": "code",
   "execution_count": 13,
   "id": "93174272",
   "metadata": {},
   "outputs": [
    {
     "data": {
      "text/html": [
       "<div>\n",
       "<style scoped>\n",
       "    .dataframe tbody tr th:only-of-type {\n",
       "        vertical-align: middle;\n",
       "    }\n",
       "\n",
       "    .dataframe tbody tr th {\n",
       "        vertical-align: top;\n",
       "    }\n",
       "\n",
       "    .dataframe thead th {\n",
       "        text-align: right;\n",
       "    }\n",
       "</style>\n",
       "<table border=\"1\" class=\"dataframe\">\n",
       "  <thead>\n",
       "    <tr style=\"text-align: right;\">\n",
       "      <th></th>\n",
       "      <th>Topic</th>\n",
       "      <th>Terms</th>\n",
       "    </tr>\n",
       "  </thead>\n",
       "  <tbody>\n",
       "    <tr>\n",
       "      <th>2284</th>\n",
       "      <td>2284</td>\n",
       "      <td>[speech, intelligibility, speak, infant, clp, hour, rakugo, prosody, clean, divergence, fog, native, nsa, covert, tts]</td>\n",
       "    </tr>\n",
       "    <tr>\n",
       "      <th>2285</th>\n",
       "      <td>2285</td>\n",
       "      <td>[poisson, pdf, interspike, leaky, exactly, stimulate, impulse, passage, glm, renewal, binding, mid, cl, lif, weber]</td>\n",
       "    </tr>\n",
       "    <tr>\n",
       "      <th>2286</th>\n",
       "      <td>2286</td>\n",
       "      <td>[interface, gui, hoffman, usability, biopolitic, menu, rlcard, aba, fillin, proxdd, regularisation, gelisp, forcing, handwriting, netlogo]</td>\n",
       "    </tr>\n",
       "    <tr>\n",
       "      <th>2287</th>\n",
       "      <td>2287</td>\n",
       "      <td>[novel, molecule, tiva, reliably, percept, npls, likeability, literary, anesthesia, imperfection, afford, evaporation, drama, fmc, volatile]</td>\n",
       "    </tr>\n",
       "    <tr>\n",
       "      <th>2288</th>\n",
       "      <td>2288</td>\n",
       "      <td>[pandemic, covid, camera, covidnumber, corona, mec, qureshi, milan, deploy, senior, socio, alleviate, strain, march, reporter]</td>\n",
       "    </tr>\n",
       "    <tr>\n",
       "      <th>2289</th>\n",
       "      <td>2289</td>\n",
       "      <td>[technology, societal, advancement, metaverse, tnumber, rise, idt, holographic, raise, pervasive, paas, instructional, agriculture, reshape, prevail]</td>\n",
       "    </tr>\n",
       "    <tr>\n",
       "      <th>2290</th>\n",
       "      <td>2290</td>\n",
       "      <td>[time, ctbns, logn, running, iterant, kauffman, primordial, absorb, flavor, teleport, hqr, rissanen, prod, rendezvous, bearer]</td>\n",
       "    </tr>\n",
       "    <tr>\n",
       "      <th>2291</th>\n",
       "      <td>2291</td>\n",
       "      <td>[unified, episode, episodic, counting, unify, duality, correctness, intermittent, conception, pal, atlas, deepc, worth, fibrillation, recount]</td>\n",
       "    </tr>\n",
       "    <tr>\n",
       "      <th>2292</th>\n",
       "      <td>2292</td>\n",
       "      <td>[activity, ndsan, dialect, playful, modulate, dle, su, recognise, sta, walker, surveillance, aoa, aon, everyday, inertial]</td>\n",
       "    </tr>\n",
       "    <tr>\n",
       "      <th>2293</th>\n",
       "      <td>2293</td>\n",
       "      <td>[collect, gather, marketer, meme, orienteering, misogynistic, liftupp, naturalistic, researchkit, viola, cbl, haptic, village, crowdworker, algs]</td>\n",
       "    </tr>\n",
       "    <tr>\n",
       "      <th>2294</th>\n",
       "      <td>2294</td>\n",
       "      <td>[completion, kblrn, kge, kgc, timestamp, drop, ckg, ptransr, progression, serial, zsl, transr, intercompletion, identical, inductivee]</td>\n",
       "    </tr>\n",
       "    <tr>\n",
       "      <th>2295</th>\n",
       "      <td>2295</td>\n",
       "      <td>[impose, enforcement, externality, protection, edrm, gdpr, geu, modeler, obstacle, intraclass, simrank, resistance, rulebook, toll, unmeasured]</td>\n",
       "    </tr>\n",
       "    <tr>\n",
       "      <th>2296</th>\n",
       "      <td>2296</td>\n",
       "      <td>[learning, supervised, continual, blended, hebbian, lifelong, hebb, classroom, catastrophic, intranet, supervise, federated, rsnn, lunge, falsification]</td>\n",
       "    </tr>\n",
       "    <tr>\n",
       "      <th>2297</th>\n",
       "      <td>2297</td>\n",
       "      <td>[scope, mas, ivts, surgical, na, adumbrate, ve, tkb, scoping, xml, tvla, applicable, ebpds, wsns, unbounded]</td>\n",
       "    </tr>\n",
       "    <tr>\n",
       "      <th>2298</th>\n",
       "      <td>2298</td>\n",
       "      <td>[performance, zap, superior, mleann, performer, kpi, predictor, adx, adxs, degrade, catalyse, poor, comparable, ance, viewpoint]</td>\n",
       "    </tr>\n",
       "  </tbody>\n",
       "</table>\n",
       "</div>"
      ],
      "text/plain": [
       "      Topic  \\\n",
       "2284   2284   \n",
       "2285   2285   \n",
       "2286   2286   \n",
       "2287   2287   \n",
       "2288   2288   \n",
       "2289   2289   \n",
       "2290   2290   \n",
       "2291   2291   \n",
       "2292   2292   \n",
       "2293   2293   \n",
       "2294   2294   \n",
       "2295   2295   \n",
       "2296   2296   \n",
       "2297   2297   \n",
       "2298   2298   \n",
       "\n",
       "                                                                                                                                                         Terms  \n",
       "2284                                    [speech, intelligibility, speak, infant, clp, hour, rakugo, prosody, clean, divergence, fog, native, nsa, covert, tts]  \n",
       "2285                                       [poisson, pdf, interspike, leaky, exactly, stimulate, impulse, passage, glm, renewal, binding, mid, cl, lif, weber]  \n",
       "2286                [interface, gui, hoffman, usability, biopolitic, menu, rlcard, aba, fillin, proxdd, regularisation, gelisp, forcing, handwriting, netlogo]  \n",
       "2287              [novel, molecule, tiva, reliably, percept, npls, likeability, literary, anesthesia, imperfection, afford, evaporation, drama, fmc, volatile]  \n",
       "2288                            [pandemic, covid, camera, covidnumber, corona, mec, qureshi, milan, deploy, senior, socio, alleviate, strain, march, reporter]  \n",
       "2289     [technology, societal, advancement, metaverse, tnumber, rise, idt, holographic, raise, pervasive, paas, instructional, agriculture, reshape, prevail]  \n",
       "2290                            [time, ctbns, logn, running, iterant, kauffman, primordial, absorb, flavor, teleport, hqr, rissanen, prod, rendezvous, bearer]  \n",
       "2291            [unified, episode, episodic, counting, unify, duality, correctness, intermittent, conception, pal, atlas, deepc, worth, fibrillation, recount]  \n",
       "2292                                [activity, ndsan, dialect, playful, modulate, dle, su, recognise, sta, walker, surveillance, aoa, aon, everyday, inertial]  \n",
       "2293         [collect, gather, marketer, meme, orienteering, misogynistic, liftupp, naturalistic, researchkit, viola, cbl, haptic, village, crowdworker, algs]  \n",
       "2294                    [completion, kblrn, kge, kgc, timestamp, drop, ckg, ptransr, progression, serial, zsl, transr, intercompletion, identical, inductivee]  \n",
       "2295           [impose, enforcement, externality, protection, edrm, gdpr, geu, modeler, obstacle, intraclass, simrank, resistance, rulebook, toll, unmeasured]  \n",
       "2296  [learning, supervised, continual, blended, hebbian, lifelong, hebb, classroom, catastrophic, intranet, supervise, federated, rsnn, lunge, falsification]  \n",
       "2297                                              [scope, mas, ivts, surgical, na, adumbrate, ve, tkb, scoping, xml, tvla, applicable, ebpds, wsns, unbounded]  \n",
       "2298                          [performance, zap, superior, mleann, performer, kpi, predictor, adx, adxs, degrade, catalyse, poor, comparable, ance, viewpoint]  "
      ]
     },
     "execution_count": 13,
     "metadata": {},
     "output_type": "execute_result"
    }
   ],
   "source": [
    "topic_terms_2299.tail(n=15)"
   ]
  },
  {
   "cell_type": "code",
   "execution_count": 14,
   "id": "7a1ca0de",
   "metadata": {},
   "outputs": [],
   "source": [
    "topics_2299 = topic_terms_2299['Terms'].tolist()"
   ]
  },
  {
   "cell_type": "code",
   "execution_count": 15,
   "id": "e0d6f3d1",
   "metadata": {},
   "outputs": [
    {
     "name": "stdout",
     "output_type": "stream",
     "text": [
      "Coherehence for NMK k=2299: 0.4358720182045553\n"
     ]
    }
   ],
   "source": [
    "# this will be slow, don't run unless necessary\n",
    "# this is commented out to prevent it from being auto-run\n",
    "# coherence_2299 = data_obj.compute_coherence(topics_2299)\n",
    "print(\"Coherehence for NMK k=2299:\", coherence_2299)"
   ]
  },
  {
   "cell_type": "markdown",
   "id": "05d2e759",
   "metadata": {},
   "source": [
    "Coherehence for NMK k=2299: 0.4358720182045553"
   ]
  },
  {
   "cell_type": "markdown",
   "id": "91dbe341",
   "metadata": {},
   "source": [
    "## Evalaute NMF by coherence for different values for k"
   ]
  },
  {
   "cell_type": "code",
   "execution_count": 25,
   "id": "ce0ef1cb",
   "metadata": {},
   "outputs": [
    {
     "name": "stdout",
     "output_type": "stream",
     "text": [
      "Coherence for k=5: 0.5994031342453037\n",
      "Coherence for k=10: 0.6227618172152884\n",
      "Coherence for k=15: 0.6515373981532407\n",
      "Coherence for k=20: 0.6321655425990665\n",
      "Coherence for k=25: 0.6242386269296325\n",
      "Coherence for k=30: 0.6099075836438433\n",
      "Coherence for k=35: 0.6195758084283703\n",
      "Coherence for k=40: 0.590120483740036\n",
      "Coherence for k=45: 0.5847999848715\n",
      "Coherence for k=50: 0.5810316476463224\n",
      "Coherence for k=55: 0.5884311853980914\n",
      "Coherence for k=60: 0.5860333821174598\n",
      "Coherence for k=65: 0.590759261335552\n",
      "Coherence for k=70: 0.5808730212020072\n",
      "Coherence for k=75: 0.5799048917411668\n",
      "Coherence for k=80: 0.5700937151614535\n",
      "Coherence for k=85: 0.5587240494309228\n",
      "Coherence for k=90: 0.5668255707856921\n",
      "Coherence for k=95: 0.5554484800664976\n",
      "Coherence for k=100: 0.5545652721646599\n"
     ]
    }
   ],
   "source": [
    "coherence_k_list = []\n",
    "for k in range(5, 105, 5):\n",
    "    model_k, W_k, H_k = compute_nmf(k=k, A=data_obj.tfidf_train_matrix)\n",
    "    topic_terms_k = generate_topics_from_NMF(model_k.components_,\n",
    "                                         data_obj.index_to_word,\n",
    "                                         top_n_words = 10)\n",
    "    topics_k = topic_terms_k['Terms'].tolist()\n",
    "    coherence_k = data_obj.compute_coherence(topics_k)\n",
    "    print(f\"Coherence for k={k}: {coherence_k}\")\n",
    "    coherence_k_list.append([k, coherence_k])\n",
    "coherence_values_df = pd.DataFrame(coherence_k_list, columns=[\"k\", \"Coherence c_v\"])"
   ]
  },
  {
   "cell_type": "code",
   "execution_count": 26,
   "id": "f7e296cf",
   "metadata": {},
   "outputs": [
    {
     "data": {
      "text/html": [
       "<div>\n",
       "<style scoped>\n",
       "    .dataframe tbody tr th:only-of-type {\n",
       "        vertical-align: middle;\n",
       "    }\n",
       "\n",
       "    .dataframe tbody tr th {\n",
       "        vertical-align: top;\n",
       "    }\n",
       "\n",
       "    .dataframe thead th {\n",
       "        text-align: right;\n",
       "    }\n",
       "</style>\n",
       "<table border=\"1\" class=\"dataframe\">\n",
       "  <thead>\n",
       "    <tr style=\"text-align: right;\">\n",
       "      <th></th>\n",
       "      <th>k</th>\n",
       "      <th>Coherence c_v</th>\n",
       "    </tr>\n",
       "  </thead>\n",
       "  <tbody>\n",
       "    <tr>\n",
       "      <th>0</th>\n",
       "      <td>5</td>\n",
       "      <td>0.599403</td>\n",
       "    </tr>\n",
       "    <tr>\n",
       "      <th>1</th>\n",
       "      <td>10</td>\n",
       "      <td>0.622762</td>\n",
       "    </tr>\n",
       "    <tr>\n",
       "      <th>2</th>\n",
       "      <td>15</td>\n",
       "      <td>0.651537</td>\n",
       "    </tr>\n",
       "    <tr>\n",
       "      <th>3</th>\n",
       "      <td>20</td>\n",
       "      <td>0.632166</td>\n",
       "    </tr>\n",
       "    <tr>\n",
       "      <th>4</th>\n",
       "      <td>25</td>\n",
       "      <td>0.624239</td>\n",
       "    </tr>\n",
       "    <tr>\n",
       "      <th>5</th>\n",
       "      <td>30</td>\n",
       "      <td>0.609908</td>\n",
       "    </tr>\n",
       "    <tr>\n",
       "      <th>6</th>\n",
       "      <td>35</td>\n",
       "      <td>0.619576</td>\n",
       "    </tr>\n",
       "    <tr>\n",
       "      <th>7</th>\n",
       "      <td>40</td>\n",
       "      <td>0.590120</td>\n",
       "    </tr>\n",
       "    <tr>\n",
       "      <th>8</th>\n",
       "      <td>45</td>\n",
       "      <td>0.584800</td>\n",
       "    </tr>\n",
       "    <tr>\n",
       "      <th>9</th>\n",
       "      <td>50</td>\n",
       "      <td>0.581032</td>\n",
       "    </tr>\n",
       "    <tr>\n",
       "      <th>10</th>\n",
       "      <td>55</td>\n",
       "      <td>0.588431</td>\n",
       "    </tr>\n",
       "    <tr>\n",
       "      <th>11</th>\n",
       "      <td>60</td>\n",
       "      <td>0.586033</td>\n",
       "    </tr>\n",
       "    <tr>\n",
       "      <th>12</th>\n",
       "      <td>65</td>\n",
       "      <td>0.590759</td>\n",
       "    </tr>\n",
       "    <tr>\n",
       "      <th>13</th>\n",
       "      <td>70</td>\n",
       "      <td>0.580873</td>\n",
       "    </tr>\n",
       "    <tr>\n",
       "      <th>14</th>\n",
       "      <td>75</td>\n",
       "      <td>0.579905</td>\n",
       "    </tr>\n",
       "    <tr>\n",
       "      <th>15</th>\n",
       "      <td>80</td>\n",
       "      <td>0.570094</td>\n",
       "    </tr>\n",
       "    <tr>\n",
       "      <th>16</th>\n",
       "      <td>85</td>\n",
       "      <td>0.558724</td>\n",
       "    </tr>\n",
       "    <tr>\n",
       "      <th>17</th>\n",
       "      <td>90</td>\n",
       "      <td>0.566826</td>\n",
       "    </tr>\n",
       "    <tr>\n",
       "      <th>18</th>\n",
       "      <td>95</td>\n",
       "      <td>0.555448</td>\n",
       "    </tr>\n",
       "    <tr>\n",
       "      <th>19</th>\n",
       "      <td>100</td>\n",
       "      <td>0.554565</td>\n",
       "    </tr>\n",
       "  </tbody>\n",
       "</table>\n",
       "</div>"
      ],
      "text/plain": [
       "      k  Coherence c_v\n",
       "0     5       0.599403\n",
       "1    10       0.622762\n",
       "2    15       0.651537\n",
       "3    20       0.632166\n",
       "4    25       0.624239\n",
       "5    30       0.609908\n",
       "6    35       0.619576\n",
       "7    40       0.590120\n",
       "8    45       0.584800\n",
       "9    50       0.581032\n",
       "10   55       0.588431\n",
       "11   60       0.586033\n",
       "12   65       0.590759\n",
       "13   70       0.580873\n",
       "14   75       0.579905\n",
       "15   80       0.570094\n",
       "16   85       0.558724\n",
       "17   90       0.566826\n",
       "18   95       0.555448\n",
       "19  100       0.554565"
      ]
     },
     "execution_count": 26,
     "metadata": {},
     "output_type": "execute_result"
    }
   ],
   "source": [
    "coherence_values_df"
   ]
  },
  {
   "cell_type": "code",
   "execution_count": 44,
   "id": "1361e71a",
   "metadata": {},
   "outputs": [
    {
     "data": {
      "image/png": "[encoded data removed]",
      "text/plain": [
       "<Figure size 720x504 with 1 Axes>"
      ]
     },
     "metadata": {},
     "output_type": "display_data"
    }
   ],
   "source": [
    "import matplotlib.pyplot as plt\n",
    "plt.rcParams[\"figure.figsize\"] = (10,7)\n",
    "plt.plot(coherence_values_df[\"k\"], coherence_values_df[\"Coherence c_v\"])\n",
    "plt.title(\"Coherence by k\", fontsize=18)\n",
    "plt.xlabel(\"k\", fontsize=18)\n",
    "plt.xticks(coherence_values_df[\"k\"])\n",
    "plt.ylabel(\"Coherence\", fontsize=18)\n",
    "plt.show()"
   ]
  },
  {
   "cell_type": "markdown",
   "id": "ef662e24",
   "metadata": {},
   "source": [
    "## A model for k = 15 (best k for coherence)\n",
    "- compute factorization\n",
    "- generate topics from H matrix\n",
    "- convert topics df to list of list\n",
    "- compute coherence on topics list"
   ]
  },
  {
   "cell_type": "code",
   "execution_count": 46,
   "id": "1cf216f3",
   "metadata": {},
   "outputs": [],
   "source": [
    "model_15, W_15, H_15 = compute_nmf(k=15, A=data_obj.tfidf_train_matrix)"
   ]
  },
  {
   "cell_type": "code",
   "execution_count": 47,
   "id": "e145d060",
   "metadata": {},
   "outputs": [],
   "source": [
    "topic_terms_15 = generate_topics_from_NMF(model_15.components_,\n",
    "                                         data_obj.index_to_word,\n",
    "                                         top_n_words = 10)"
   ]
  },
  {
   "cell_type": "code",
   "execution_count": 48,
   "id": "970218fd",
   "metadata": {},
   "outputs": [
    {
     "data": {
      "text/html": [
       "<div>\n",
       "<style scoped>\n",
       "    .dataframe tbody tr th:only-of-type {\n",
       "        vertical-align: middle;\n",
       "    }\n",
       "\n",
       "    .dataframe tbody tr th {\n",
       "        vertical-align: top;\n",
       "    }\n",
       "\n",
       "    .dataframe thead th {\n",
       "        text-align: right;\n",
       "    }\n",
       "</style>\n",
       "<table border=\"1\" class=\"dataframe\">\n",
       "  <thead>\n",
       "    <tr style=\"text-align: right;\">\n",
       "      <th></th>\n",
       "      <th>Topic</th>\n",
       "      <th>Terms</th>\n",
       "    </tr>\n",
       "  </thead>\n",
       "  <tbody>\n",
       "    <tr>\n",
       "      <th>0</th>\n",
       "      <td>0</td>\n",
       "      <td>[algorithm, search, heuristic, method, propose, performance, tree, time, space, base]</td>\n",
       "    </tr>\n",
       "    <tr>\n",
       "      <th>1</th>\n",
       "      <td>1</td>\n",
       "      <td>[number, proceeding, study, conference, hold, time, covid, result, bind, et]</td>\n",
       "    </tr>\n",
       "    <tr>\n",
       "      <th>2</th>\n",
       "      <td>2</td>\n",
       "      <td>[datum, user, technology, service, information, research, social, system, health, privacy]</td>\n",
       "    </tr>\n",
       "    <tr>\n",
       "      <th>3</th>\n",
       "      <td>3</td>\n",
       "      <td>[network, brain, neuron, neural, spike, activity, dynamic, stimulus, connectivity, functional]</td>\n",
       "    </tr>\n",
       "    <tr>\n",
       "      <th>4</th>\n",
       "      <td>4</td>\n",
       "      <td>[agent, learn, environment, reinforcement, reward, learning, policy, task, rl, human]</td>\n",
       "    </tr>\n",
       "    <tr>\n",
       "      <th>5</th>\n",
       "      <td>5</td>\n",
       "      <td>[graph, vertex, edge, free, tree, class, coloring, polynomial, color, bipartite]</td>\n",
       "    </tr>\n",
       "    <tr>\n",
       "      <th>6</th>\n",
       "      <td>6</td>\n",
       "      <td>[knowledge, logic, rule, semantic, ontology, fuzzy, system, reasoning, set, base]</td>\n",
       "    </tr>\n",
       "    <tr>\n",
       "      <th>7</th>\n",
       "      <td>7</td>\n",
       "      <td>[ai, intelligence, system, artificial, human, machine, ethical, research, ethic, explanation]</td>\n",
       "    </tr>\n",
       "    <tr>\n",
       "      <th>8</th>\n",
       "      <td>8</td>\n",
       "      <td>[student, learn, learning, course, education, university, teacher, educational, skill, computer]</td>\n",
       "    </tr>\n",
       "    <tr>\n",
       "      <th>9</th>\n",
       "      <td>9</td>\n",
       "      <td>[belief, probability, network, inference, probabilistic, bayesian, distribution, conditional, theory, function]</td>\n",
       "    </tr>\n",
       "    <tr>\n",
       "      <th>10</th>\n",
       "      <td>10</td>\n",
       "      <td>[problem, constraint, solve, solution, solver, optimization, instance, set, approach, sit]</td>\n",
       "    </tr>\n",
       "    <tr>\n",
       "      <th>11</th>\n",
       "      <td>11</td>\n",
       "      <td>[game, player, play, strategy, video, equilibrium, level, card, board, design]</td>\n",
       "    </tr>\n",
       "    <tr>\n",
       "      <th>12</th>\n",
       "      <td>12</td>\n",
       "      <td>[model, propose, speech, approach, prediction, learn, base, method, learning, datum]</td>\n",
       "    </tr>\n",
       "    <tr>\n",
       "      <th>13</th>\n",
       "      <td>13</td>\n",
       "      <td>[plan, planning, action, domain, planner, state, goal, approach, task, heuristic]</td>\n",
       "    </tr>\n",
       "    <tr>\n",
       "      <th>14</th>\n",
       "      <td>14</td>\n",
       "      <td>[decision, make, making, value, uncertainty, policy, process, utility, diagram, maker]</td>\n",
       "    </tr>\n",
       "  </tbody>\n",
       "</table>\n",
       "</div>"
      ],
      "text/plain": [
       "    Topic  \\\n",
       "0       0   \n",
       "1       1   \n",
       "2       2   \n",
       "3       3   \n",
       "4       4   \n",
       "5       5   \n",
       "6       6   \n",
       "7       7   \n",
       "8       8   \n",
       "9       9   \n",
       "10     10   \n",
       "11     11   \n",
       "12     12   \n",
       "13     13   \n",
       "14     14   \n",
       "\n",
       "                                                                                                              Terms  \n",
       "0                             [algorithm, search, heuristic, method, propose, performance, tree, time, space, base]  \n",
       "1                                      [number, proceeding, study, conference, hold, time, covid, result, bind, et]  \n",
       "2                        [datum, user, technology, service, information, research, social, system, health, privacy]  \n",
       "3                    [network, brain, neuron, neural, spike, activity, dynamic, stimulus, connectivity, functional]  \n",
       "4                             [agent, learn, environment, reinforcement, reward, learning, policy, task, rl, human]  \n",
       "5                                  [graph, vertex, edge, free, tree, class, coloring, polynomial, color, bipartite]  \n",
       "6                                 [knowledge, logic, rule, semantic, ontology, fuzzy, system, reasoning, set, base]  \n",
       "7                     [ai, intelligence, system, artificial, human, machine, ethical, research, ethic, explanation]  \n",
       "8                  [student, learn, learning, course, education, university, teacher, educational, skill, computer]  \n",
       "9   [belief, probability, network, inference, probabilistic, bayesian, distribution, conditional, theory, function]  \n",
       "10                       [problem, constraint, solve, solution, solver, optimization, instance, set, approach, sit]  \n",
       "11                                   [game, player, play, strategy, video, equilibrium, level, card, board, design]  \n",
       "12                             [model, propose, speech, approach, prediction, learn, base, method, learning, datum]  \n",
       "13                                [plan, planning, action, domain, planner, state, goal, approach, task, heuristic]  \n",
       "14                           [decision, make, making, value, uncertainty, policy, process, utility, diagram, maker]  "
      ]
     },
     "execution_count": 48,
     "metadata": {},
     "output_type": "execute_result"
    }
   ],
   "source": [
    "topic_terms_15"
   ]
  }
 ],
 "metadata": {
  "kernelspec": {
   "display_name": "Python 3 (ipykernel)",
   "language": "python",
   "name": "python3"
  },
  "language_info": {
   "codemirror_mode": {
    "name": "ipython",
    "version": 3
   },
   "file_extension": ".py",
   "mimetype": "text/x-python",
   "name": "python",
   "nbconvert_exporter": "python",
   "pygments_lexer": "ipython3",
   "version": "3.9.7"
  }
 },
 "nbformat": 4,
 "nbformat_minor": 5
}
