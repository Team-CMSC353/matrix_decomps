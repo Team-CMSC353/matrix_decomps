{
 "cells": [
  {
   "cell_type": "markdown",
   "id": "5894ffe3",
   "metadata": {},
   "source": [
    "## SVD/PCA/NMF and choosing the best k (reduced feature dimension)"
   ]
  },
  {
   "cell_type": "code",
   "execution_count": 1,
   "id": "e7123038",
   "metadata": {},
   "outputs": [],
   "source": [
    "import os\n",
    "import sys\n",
    "parent_dr = os.path.split(os.getcwd())[0]\n",
    "if parent_dr not in sys.path:\n",
    "    sys.path.append(parent_dr)"
   ]
  },
  {
   "cell_type": "code",
   "execution_count": 47,
   "id": "59f13138",
   "metadata": {},
   "outputs": [
    {
     "name": "stdout",
     "output_type": "stream",
     "text": [
      "The autoreload extension is already loaded. To reload it, use:\n",
      "  %reload_ext autoreload\n"
     ]
    }
   ],
   "source": [
    "%load_ext autoreload\n",
    "%autoreload 2\n",
    "\n",
    "import scipy.sparse as sp\n",
    "import scipy.linalg as sla\n",
    "import pandas as pd\n",
    "from sklearn.decomposition import NMF, TruncatedSVD\n",
    "import numpy.linalg as la\n",
    "import matplotlib . pyplot as plt # plots\n",
    "from time import time\n",
    "from core.data.arxiv_data_io import *\n",
    "from core.data.text.tf_idf_helpers import *\n",
    "from core.matrix.svd_decomposition_helpers import *\n",
    "from core.matrix.nmf_decompositions import *"
   ]
  },
  {
   "cell_type": "code",
   "execution_count": 3,
   "id": "0862677f",
   "metadata": {},
   "outputs": [],
   "source": [
    "pd.set_option('display.max_columns', None)\n",
    "pd.set_option('display.max_rows', None)\n",
    "pd.set_option('display.max_colwidth', None)"
   ]
  },
  {
   "cell_type": "code",
   "execution_count": 4,
   "id": "95f4c88f",
   "metadata": {},
   "outputs": [],
   "source": [
    "#reading in the full arXiv subset df\n",
    "file_name = \"tokenized_arxiv_subset_15540.pkl\"\n",
    "full_path = os.path.join(parent_dr, \"core\", \"resources\", file_name)\n",
    "data_df = pd.read_pickle(full_path)"
   ]
  },
  {
   "cell_type": "code",
   "execution_count": 5,
   "id": "a90ae3dc",
   "metadata": {},
   "outputs": [
    {
     "data": {
      "text/html": [
       "<div>\n",
       "<style scoped>\n",
       "    .dataframe tbody tr th:only-of-type {\n",
       "        vertical-align: middle;\n",
       "    }\n",
       "\n",
       "    .dataframe tbody tr th {\n",
       "        vertical-align: top;\n",
       "    }\n",
       "\n",
       "    .dataframe thead th {\n",
       "        text-align: right;\n",
       "    }\n",
       "</style>\n",
       "<table border=\"1\" class=\"dataframe\">\n",
       "  <thead>\n",
       "    <tr style=\"text-align: right;\">\n",
       "      <th></th>\n",
       "      <th>id</th>\n",
       "      <th>authors</th>\n",
       "      <th>title</th>\n",
       "      <th>categories</th>\n",
       "      <th>abstract</th>\n",
       "      <th>update_dt</th>\n",
       "      <th>clean</th>\n",
       "      <th>tokens</th>\n",
       "    </tr>\n",
       "  </thead>\n",
       "  <tbody>\n",
       "    <tr>\n",
       "      <th>0</th>\n",
       "      <td>0704.0648</td>\n",
       "      <td>Kaushik Majumdar</td>\n",
       "      <td>Behavioral response to strong aversive stimuli: A neurodynamical model</td>\n",
       "      <td>q-bio.NC</td>\n",
       "      <td>In this paper a theoretical model of functioning of a neural circuit during a\\nbehavioral response has been proposed. A neural circuit can be thought of as a\\ndirected multigraph whose each vertex is a neuron and each edge is a synapse.\\nIt has been assumed in this paper that the behavior of such circuits is\\nmanifested through the collective behavior of neurons belonging to that\\ncircuit. Behavioral information of each neuron is contained in the coefficients\\nof the fast Fourier transform (FFT) over the output spike train. Those\\ncoefficients form a vector in a multidimensional vector space. Behavioral\\ndynamics of a neuronal network in response to strong aversive stimuli has been\\nstudied in a vector space in which a suitable pseudometric has been defined.\\nThe neurodynamical model of network behavior has been formulated in terms of\\nexisting memory, synaptic plasticity and feelings. The model has an analogy in\\nclassical electrostatics, by which the notion of force and potential energy has\\nbeen introduced. Since the model takes input from each neuron in a network and\\nproduces a behavior as the output, it would be extremely difficult or may even\\nbe impossible to implement. But with the help of the model a possible\\nexplanation for an hitherto unexplained neurological observation in human brain\\nhas been offered. The model is compatible with a recent model of sequential\\nbehavioral dynamics. The model is based on electrophysiology, but its relevance\\nto hemodynamics has been outlined.\\n</td>\n",
       "      <td>2007-05-23</td>\n",
       "      <td>in this paper a theoretical model of functioning of a neural circuit during a behavioral response has been proposed a neural circuit can be thought of as a directed multigraph whose each vertex is a neuron and each edge is a synapse it has been assumed in this paper that the behavior of such circuits is manifested through the collective behavior of neurons belonging to that circuit behavioral information of each neuron is contained in the coefficients of the fast fourier transform fft over the output spike train those coefficients form a vector in a multidimensional vector space behavioral dynamics of a neuronal network in response to strong aversive stimuli has been studied in a vector space in which a suitable pseudometric has been defined the neurodynamical model of network behavior has been formulated in terms of existing memory synaptic plasticity and feelings the model has an analogy in classical electrostatics by which the notion of force and potential energy has been introduced since the model takes input from each neuron in a network and produces a behavior as the output it would be extremely difficult or may even be impossible to implement but with the help of the model a possible explanation for an hitherto unexplained neurological observation in human brain has been offered the model is compatible with a recent model of sequential behavioral dynamics the model is based on electrophysiology but its relevance to hemodynamics has been outlined</td>\n",
       "      <td>[paper, theoretical, model, functioning, neural, circuit, behavioral, response, propose, neural, circuit, think, direct, multigraph, vertex, neuron, edge, synapse, assume, paper, behavior, circuit, manifest, collective, behavior, neuron, belong, circuit, behavioral, information, neuron, contain, coefficient, fast, fourier, transform, fft, output, spike, train, coefficient, form, vector, multidimensional, vector, space, behavioral, dynamic, neuronal, network, response, strong, aversive, stimulus, study, vector, space, suitable, pseudometric, define, neurodynamical, model, network, behavior, formulate, term, exist, memory, synaptic, plasticity, feeling, model, analogy, classical, electrostatic, notion, force, potential, energy, introduce, model, take, input, neuron, network, produce, behavior, output, extremely, difficult, impossible, implement, help, model, possible, explanation, hitherto, unexplained, neurological, observation, ...]</td>\n",
       "    </tr>\n",
       "    <tr>\n",
       "      <th>1</th>\n",
       "      <td>0704.1394</td>\n",
       "      <td>Tarik Hadzic, Rune Moller Jensen, Henrik Reif Andersen</td>\n",
       "      <td>Calculating Valid Domains for BDD-Based Interactive Configuration</td>\n",
       "      <td>cs.AI</td>\n",
       "      <td>In these notes we formally describe the functionality of Calculating Valid\\nDomains from the BDD representing the solution space of valid configurations.\\nThe formalization is largely based on the CLab configuration framework.\\n</td>\n",
       "      <td>2007-05-23</td>\n",
       "      <td>in these notes we formally describe the functionality of calculating valid domains from the bdd representing the solution space of valid configurations the formalization is largely based on the clab configuration framework</td>\n",
       "      <td>[note, formally, describe, functionality, calculate, valid, domain, bdd, represent, solution, space, valid, configuration, formalization, largely, base, clab, configuration, framework]</td>\n",
       "    </tr>\n",
       "  </tbody>\n",
       "</table>\n",
       "</div>"
      ],
      "text/plain": [
       "          id                                                 authors  \\\n",
       "0  0704.0648                                        Kaushik Majumdar   \n",
       "1  0704.1394  Tarik Hadzic, Rune Moller Jensen, Henrik Reif Andersen   \n",
       "\n",
       "                                                                    title  \\\n",
       "0  Behavioral response to strong aversive stimuli: A neurodynamical model   \n",
       "1       Calculating Valid Domains for BDD-Based Interactive Configuration   \n",
       "\n",
       "  categories  \\\n",
       "0   q-bio.NC   \n",
       "1      cs.AI   \n",
       "\n",
       "                                                                                                                                                                                                                                                                                                                                                                                                                                                                                                                                                                                                                                                                                                                                                                                                                                                                                                                                                                                                                                                                                                                                                                                                                                                                                                                                                                                                                                                                                                                                                                        abstract  \\\n",
       "0    In this paper a theoretical model of functioning of a neural circuit during a\\nbehavioral response has been proposed. A neural circuit can be thought of as a\\ndirected multigraph whose each vertex is a neuron and each edge is a synapse.\\nIt has been assumed in this paper that the behavior of such circuits is\\nmanifested through the collective behavior of neurons belonging to that\\ncircuit. Behavioral information of each neuron is contained in the coefficients\\nof the fast Fourier transform (FFT) over the output spike train. Those\\ncoefficients form a vector in a multidimensional vector space. Behavioral\\ndynamics of a neuronal network in response to strong aversive stimuli has been\\nstudied in a vector space in which a suitable pseudometric has been defined.\\nThe neurodynamical model of network behavior has been formulated in terms of\\nexisting memory, synaptic plasticity and feelings. The model has an analogy in\\nclassical electrostatics, by which the notion of force and potential energy has\\nbeen introduced. Since the model takes input from each neuron in a network and\\nproduces a behavior as the output, it would be extremely difficult or may even\\nbe impossible to implement. But with the help of the model a possible\\nexplanation for an hitherto unexplained neurological observation in human brain\\nhas been offered. The model is compatible with a recent model of sequential\\nbehavioral dynamics. The model is based on electrophysiology, but its relevance\\nto hemodynamics has been outlined.\\n   \n",
       "1                                                                                                                                                                                                                                                                                                                                                                                                                                                                                                                                                                                                                                                                                                                                                                                                                                                                                                                                                                                                                                                                                                                                                                                                                                                                                                                                           In these notes we formally describe the functionality of Calculating Valid\\nDomains from the BDD representing the solution space of valid configurations.\\nThe formalization is largely based on the CLab configuration framework.\\n   \n",
       "\n",
       "    update_dt  \\\n",
       "0  2007-05-23   \n",
       "1  2007-05-23   \n",
       "\n",
       "                                                                                                                                                                                                                                                                                                                                                                                                                                                                                                                                                                                                                                                                                                                                                                                                                                                                                                                                                                                                                                                                                                                                                                                                                                                                                                                                                                                                                                                                                                                                  clean  \\\n",
       "0  in this paper a theoretical model of functioning of a neural circuit during a behavioral response has been proposed a neural circuit can be thought of as a directed multigraph whose each vertex is a neuron and each edge is a synapse it has been assumed in this paper that the behavior of such circuits is manifested through the collective behavior of neurons belonging to that circuit behavioral information of each neuron is contained in the coefficients of the fast fourier transform fft over the output spike train those coefficients form a vector in a multidimensional vector space behavioral dynamics of a neuronal network in response to strong aversive stimuli has been studied in a vector space in which a suitable pseudometric has been defined the neurodynamical model of network behavior has been formulated in terms of existing memory synaptic plasticity and feelings the model has an analogy in classical electrostatics by which the notion of force and potential energy has been introduced since the model takes input from each neuron in a network and produces a behavior as the output it would be extremely difficult or may even be impossible to implement but with the help of the model a possible explanation for an hitherto unexplained neurological observation in human brain has been offered the model is compatible with a recent model of sequential behavioral dynamics the model is based on electrophysiology but its relevance to hemodynamics has been outlined   \n",
       "1                                                                                                                                                                                                                                                                                                                                                                                                                                                                                                                                                                                                                                                                                                                                                                                                                                                                                                                                                                                                                                                                                                                                                                                                                                                                                                        in these notes we formally describe the functionality of calculating valid domains from the bdd representing the solution space of valid configurations the formalization is largely based on the clab configuration framework   \n",
       "\n",
       "                                                                                                                                                                                                                                                                                                                                                                                                                                                                                                                                                                                                                                                                                                                                                                                                                                                                                                                                                                               tokens  \n",
       "0  [paper, theoretical, model, functioning, neural, circuit, behavioral, response, propose, neural, circuit, think, direct, multigraph, vertex, neuron, edge, synapse, assume, paper, behavior, circuit, manifest, collective, behavior, neuron, belong, circuit, behavioral, information, neuron, contain, coefficient, fast, fourier, transform, fft, output, spike, train, coefficient, form, vector, multidimensional, vector, space, behavioral, dynamic, neuronal, network, response, strong, aversive, stimulus, study, vector, space, suitable, pseudometric, define, neurodynamical, model, network, behavior, formulate, term, exist, memory, synaptic, plasticity, feeling, model, analogy, classical, electrostatic, notion, force, potential, energy, introduce, model, take, input, neuron, network, produce, behavior, output, extremely, difficult, impossible, implement, help, model, possible, explanation, hitherto, unexplained, neurological, observation, ...]  \n",
       "1                                                                                                                                                                                                                                                                                                                                                                                                                                                                                                                                                                                                                                                                                                                                                                                            [note, formally, describe, functionality, calculate, valid, domain, bdd, represent, solution, space, valid, configuration, formalization, largely, base, clab, configuration, framework]  "
      ]
     },
     "execution_count": 5,
     "metadata": {},
     "output_type": "execute_result"
    }
   ],
   "source": [
    "data_df.head(n=2)"
   ]
  },
  {
   "cell_type": "code",
   "execution_count": 6,
   "id": "9416394b",
   "metadata": {},
   "outputs": [],
   "source": [
    "# splitting out the test and train dfs\n",
    "train_df, test_df = sample_arxiv_data_by_category(data_df)\n",
    "assert len(train_df)/len(data_df) == 0.8"
   ]
  },
  {
   "cell_type": "code",
   "execution_count": 7,
   "id": "26ce2118",
   "metadata": {},
   "outputs": [
    {
     "name": "stdout",
     "output_type": "stream",
     "text": [
      "The training df has dimensions (12432, 9)\n",
      "The testing df has dimensions (3108, 9)\n"
     ]
    }
   ],
   "source": [
    "print(f'The training df has dimensions {train_df.shape}')\n",
    "print(f'The testing df has dimensions {test_df.shape}')"
   ]
  },
  {
   "cell_type": "markdown",
   "id": "dd672bc1",
   "metadata": {},
   "source": [
    "### Compute TF-IDF Matrix"
   ]
  },
  {
   "cell_type": "code",
   "execution_count": 8,
   "id": "0a8c7c89",
   "metadata": {},
   "outputs": [],
   "source": [
    "# fit the tfidf object\n",
    "train_tokens = train_df['tokens']\n",
    "tfidf_obj, index_to_word = fit_tfidf(train_df['tokens'])"
   ]
  },
  {
   "cell_type": "code",
   "execution_count": 9,
   "id": "9c97651b",
   "metadata": {},
   "outputs": [
    {
     "name": "stdout",
     "output_type": "stream",
     "text": [
      "tfidf_obj is a <class 'sklearn.feature_extraction.text.TfidfVectorizer'> \n",
      " with a vocabulary of 30460 words\n"
     ]
    }
   ],
   "source": [
    "print(f'tfidf_obj is a {type(tfidf_obj)} \\n with a vocabulary of {len(index_to_word)} words')"
   ]
  },
  {
   "cell_type": "code",
   "execution_count": 10,
   "id": "4cb883c7",
   "metadata": {},
   "outputs": [],
   "source": [
    "# generate the tfidf matrix for the training data\n",
    "tfidf_train_matrix, index_to_doc = transform_tfidf(train_df,tfidf_obj=tfidf_obj)"
   ]
  },
  {
   "cell_type": "code",
   "execution_count": 11,
   "id": "4933bd6b",
   "metadata": {},
   "outputs": [
    {
     "name": "stdout",
     "output_type": "stream",
     "text": [
      "The TF-IDF matrix is a sparse matrix with dimensions: (12432, 30460)\n"
     ]
    }
   ],
   "source": [
    "print(f'The TF-IDF matrix is a sparse matrix with dimensions: {tfidf_train_matrix.shape}')"
   ]
  },
  {
   "cell_type": "markdown",
   "id": "4752b550",
   "metadata": {},
   "source": [
    "### NMF Decomposition"
   ]
  },
  {
   "cell_type": "code",
   "execution_count": 12,
   "id": "cbafb810",
   "metadata": {},
   "outputs": [],
   "source": [
    "n_samples, n_features = tfidf_train_matrix.shape\n",
    "k = 100"
   ]
  },
  {
   "cell_type": "code",
   "execution_count": 135,
   "id": "14db5586",
   "metadata": {},
   "outputs": [
    {
     "name": "stdout",
     "output_type": "stream",
     "text": [
      "Fitting the NMF model with n_samples=12432 and n_features=30460, and n_components=100...\n",
      "done in 60.477s.\n"
     ]
    }
   ],
   "source": [
    "#this takes about a minute\n",
    "t0 = time()\n",
    "print(\"Fitting the NMF model with n_samples=%d and n_features=%d, and n_components=%d...\"\n",
    "      % (n_samples, n_features, k))\n",
    "\n",
    "nmf_model = NMF(n_components = k, init='nndsvd', max_iter=1000,random_state=1)\n",
    "W = nmf_model.fit_transform(tfidf_train_matrix)\n",
    "H = nmf_model.components_\n",
    "print(\"done in %0.3fs.\" % (time() - t0))"
   ]
  },
  {
   "cell_type": "code",
   "execution_count": 136,
   "id": "4d1978e7",
   "metadata": {},
   "outputs": [
    {
     "name": "stdout",
     "output_type": "stream",
     "text": [
      "W with dimensions: (12432, 100) \n",
      " H with dimensions:(100, 30460)\n"
     ]
    }
   ],
   "source": [
    "print(f'W with dimensions: {W.shape} \\n H with dimensions:{H.shape}')"
   ]
  },
  {
   "cell_type": "code",
   "execution_count": 137,
   "id": "9827adc0",
   "metadata": {},
   "outputs": [
    {
     "name": "stdout",
     "output_type": "stream",
     "text": [
      "Number of components: 100\n",
      "Reconstruction error:101.3534406269884\n",
      "Number of iterations to train:113\n",
      "Number of features seen during fit:30460\n"
     ]
    }
   ],
   "source": [
    "#info about the decomposition\n",
    "print(f'Number of components: {nmf_model.n_components}')\n",
    "print(f'Reconstruction error:{nmf_model.reconstruction_err_}')\n",
    "print(f'Number of iterations to train:{nmf_model.n_iter_}')\n",
    "print(f'Number of features seen during fit:{nmf_model.n_features_in_}')"
   ]
  },
  {
   "cell_type": "code",
   "execution_count": 52,
   "id": "87f9afd4",
   "metadata": {},
   "outputs": [
    {
     "name": "stdout",
     "output_type": "stream",
     "text": [
      "Now fitting NMF for k =1...\n",
      "[1, 110.14452881562842, 7, 0.17023277282714844]\n",
      "Now fitting NMF for k =11...\n",
      "[11, 107.91344005912548, 84, 1.1194350719451904]\n",
      "Now fitting NMF for k =21...\n",
      "[21, 106.65444060143894, 102, 2.4861438274383545]\n",
      "Now fitting NMF for k =31...\n",
      "[31, 105.64561412128835, 216, 9.020994186401367]\n",
      "Now fitting NMF for k =41...\n",
      "[41, 104.85066663282167, 191, 14.221587181091309]\n",
      "Now fitting NMF for k =51...\n",
      "[51, 104.13117787951383, 274, 29.182859897613525]\n",
      "Now fitting NMF for k =61...\n",
      "[61, 103.48323030595336, 117, 19.43336296081543]\n",
      "Now fitting NMF for k =71...\n",
      "[71, 102.8995530403503, 173, 49.81222224235535]\n",
      "Now fitting NMF for k =81...\n",
      "[81, 102.35225469096571, 192, 69.91597104072571]\n",
      "Now fitting NMF for k =91...\n",
      "[91, 101.82173660291447, 273, 128.1724829673767]\n"
     ]
    },
    {
     "data": {
      "text/html": [
       "<div>\n",
       "<style scoped>\n",
       "    .dataframe tbody tr th:only-of-type {\n",
       "        vertical-align: middle;\n",
       "    }\n",
       "\n",
       "    .dataframe tbody tr th {\n",
       "        vertical-align: top;\n",
       "    }\n",
       "\n",
       "    .dataframe thead th {\n",
       "        text-align: right;\n",
       "    }\n",
       "</style>\n",
       "<table border=\"1\" class=\"dataframe\">\n",
       "  <thead>\n",
       "    <tr style=\"text-align: right;\">\n",
       "      <th></th>\n",
       "      <th>k</th>\n",
       "      <th>Reconstruction Error</th>\n",
       "      <th>Iterations to convergence</th>\n",
       "      <th>Time to converge (secs)</th>\n",
       "    </tr>\n",
       "  </thead>\n",
       "  <tbody>\n",
       "    <tr>\n",
       "      <th>0</th>\n",
       "      <td>1</td>\n",
       "      <td>110.144529</td>\n",
       "      <td>7</td>\n",
       "      <td>0.170233</td>\n",
       "    </tr>\n",
       "    <tr>\n",
       "      <th>1</th>\n",
       "      <td>11</td>\n",
       "      <td>107.913440</td>\n",
       "      <td>84</td>\n",
       "      <td>1.119435</td>\n",
       "    </tr>\n",
       "    <tr>\n",
       "      <th>2</th>\n",
       "      <td>21</td>\n",
       "      <td>106.654441</td>\n",
       "      <td>102</td>\n",
       "      <td>2.486144</td>\n",
       "    </tr>\n",
       "    <tr>\n",
       "      <th>3</th>\n",
       "      <td>31</td>\n",
       "      <td>105.645614</td>\n",
       "      <td>216</td>\n",
       "      <td>9.020994</td>\n",
       "    </tr>\n",
       "    <tr>\n",
       "      <th>4</th>\n",
       "      <td>41</td>\n",
       "      <td>104.850667</td>\n",
       "      <td>191</td>\n",
       "      <td>14.221587</td>\n",
       "    </tr>\n",
       "    <tr>\n",
       "      <th>5</th>\n",
       "      <td>51</td>\n",
       "      <td>104.131178</td>\n",
       "      <td>274</td>\n",
       "      <td>29.182860</td>\n",
       "    </tr>\n",
       "    <tr>\n",
       "      <th>6</th>\n",
       "      <td>61</td>\n",
       "      <td>103.483230</td>\n",
       "      <td>117</td>\n",
       "      <td>19.433363</td>\n",
       "    </tr>\n",
       "    <tr>\n",
       "      <th>7</th>\n",
       "      <td>71</td>\n",
       "      <td>102.899553</td>\n",
       "      <td>173</td>\n",
       "      <td>49.812222</td>\n",
       "    </tr>\n",
       "    <tr>\n",
       "      <th>8</th>\n",
       "      <td>81</td>\n",
       "      <td>102.352255</td>\n",
       "      <td>192</td>\n",
       "      <td>69.915971</td>\n",
       "    </tr>\n",
       "    <tr>\n",
       "      <th>9</th>\n",
       "      <td>91</td>\n",
       "      <td>101.821737</td>\n",
       "      <td>273</td>\n",
       "      <td>128.172483</td>\n",
       "    </tr>\n",
       "  </tbody>\n",
       "</table>\n",
       "</div>"
      ],
      "text/plain": [
       "    k  Reconstruction Error  Iterations to convergence  \\\n",
       "0   1            110.144529                          7   \n",
       "1  11            107.913440                         84   \n",
       "2  21            106.654441                        102   \n",
       "3  31            105.645614                        216   \n",
       "4  41            104.850667                        191   \n",
       "5  51            104.131178                        274   \n",
       "6  61            103.483230                        117   \n",
       "7  71            102.899553                        173   \n",
       "8  81            102.352255                        192   \n",
       "9  91            101.821737                        273   \n",
       "\n",
       "   Time to converge (secs)  \n",
       "0                 0.170233  \n",
       "1                 1.119435  \n",
       "2                 2.486144  \n",
       "3                 9.020994  \n",
       "4                14.221587  \n",
       "5                29.182860  \n",
       "6                19.433363  \n",
       "7                49.812222  \n",
       "8                69.915971  \n",
       "9               128.172483  "
      ]
     },
     "execution_count": 52,
     "metadata": {},
     "output_type": "execute_result"
    }
   ],
   "source": [
    "kvals_simple = list(range(1,100,10))\n",
    "simple_results = nmf_k_search(tfidf_train_matrix, kvals_simple)\n",
    "simple_results"
   ]
  },
  {
   "cell_type": "code",
   "execution_count": 141,
   "id": "01cce59c",
   "metadata": {},
   "outputs": [
    {
     "name": "stdout",
     "output_type": "stream",
     "text": [
      "Now fitting NMF for k =150...\n"
     ]
    },
    {
     "ename": "KeyboardInterrupt",
     "evalue": "",
     "output_type": "error",
     "traceback": [
      "\u001b[0;31m---------------------------------------------------------------------------\u001b[0m",
      "\u001b[0;31mKeyboardInterrupt\u001b[0m                         Traceback (most recent call last)",
      "\u001b[0;32m/var/folders/yq/5fk4pl911495z8dhwm2zjsqc0000gn/T/ipykernel_23247/3125270828.py\u001b[0m in \u001b[0;36m<module>\u001b[0;34m\u001b[0m\n\u001b[1;32m      1\u001b[0m \u001b[0mlarger_k_vals\u001b[0m \u001b[0;34m=\u001b[0m \u001b[0;34m[\u001b[0m\u001b[0;36m150\u001b[0m\u001b[0;34m,\u001b[0m \u001b[0;36m200\u001b[0m\u001b[0;34m,\u001b[0m \u001b[0;36m300\u001b[0m\u001b[0;34m,\u001b[0m \u001b[0;36m600\u001b[0m\u001b[0;34m,\u001b[0m \u001b[0;36m1000\u001b[0m\u001b[0;34m,\u001b[0m \u001b[0;36m15000\u001b[0m\u001b[0;34m]\u001b[0m\u001b[0;34m\u001b[0m\u001b[0;34m\u001b[0m\u001b[0m\n\u001b[0;32m----> 2\u001b[0;31m \u001b[0mlarger_k_results\u001b[0m \u001b[0;34m=\u001b[0m \u001b[0mnmf_k_search\u001b[0m\u001b[0;34m(\u001b[0m\u001b[0mtfidf_train_matrix\u001b[0m\u001b[0;34m,\u001b[0m \u001b[0mlarger_k_vals\u001b[0m\u001b[0;34m)\u001b[0m\u001b[0;34m\u001b[0m\u001b[0;34m\u001b[0m\u001b[0m\n\u001b[0m\u001b[1;32m      3\u001b[0m \u001b[0mlarger_k_results\u001b[0m\u001b[0;34m\u001b[0m\u001b[0;34m\u001b[0m\u001b[0m\n",
      "\u001b[0;32m/var/folders/yq/5fk4pl911495z8dhwm2zjsqc0000gn/T/ipykernel_23247/339833127.py\u001b[0m in \u001b[0;36mnmf_k_search\u001b[0;34m(input_matrix, k_vals)\u001b[0m\n\u001b[1;32m     11\u001b[0m         nmf_model = NMF(n_components=kval, init='nndsvd',\n\u001b[1;32m     12\u001b[0m                         max_iter=1000,random_state=1)\n\u001b[0;32m---> 13\u001b[0;31m         \u001b[0mW\u001b[0m \u001b[0;34m=\u001b[0m \u001b[0mnmf_model\u001b[0m\u001b[0;34m.\u001b[0m\u001b[0mfit_transform\u001b[0m\u001b[0;34m(\u001b[0m\u001b[0minput_matrix\u001b[0m\u001b[0;34m)\u001b[0m\u001b[0;34m\u001b[0m\u001b[0;34m\u001b[0m\u001b[0m\n\u001b[0m\u001b[1;32m     14\u001b[0m         \u001b[0mtime_elapsed\u001b[0m \u001b[0;34m=\u001b[0m \u001b[0mtime\u001b[0m\u001b[0;34m(\u001b[0m\u001b[0;34m)\u001b[0m \u001b[0;34m-\u001b[0m \u001b[0mt0\u001b[0m\u001b[0;34m\u001b[0m\u001b[0;34m\u001b[0m\u001b[0m\n\u001b[1;32m     15\u001b[0m         \u001b[0mH\u001b[0m \u001b[0;34m=\u001b[0m \u001b[0mnmf_model\u001b[0m\u001b[0;34m.\u001b[0m\u001b[0mcomponents_\u001b[0m\u001b[0;34m\u001b[0m\u001b[0;34m\u001b[0m\u001b[0m\n",
      "\u001b[0;32m/opt/homebrew/lib/python3.9/site-packages/sklearn/decomposition/_nmf.py\u001b[0m in \u001b[0;36mfit_transform\u001b[0;34m(self, X, y, W, H)\u001b[0m\n\u001b[1;32m   1536\u001b[0m \u001b[0;34m\u001b[0m\u001b[0m\n\u001b[1;32m   1537\u001b[0m         \u001b[0;32mwith\u001b[0m \u001b[0mconfig_context\u001b[0m\u001b[0;34m(\u001b[0m\u001b[0massume_finite\u001b[0m\u001b[0;34m=\u001b[0m\u001b[0;32mTrue\u001b[0m\u001b[0;34m)\u001b[0m\u001b[0;34m:\u001b[0m\u001b[0;34m\u001b[0m\u001b[0;34m\u001b[0m\u001b[0m\n\u001b[0;32m-> 1538\u001b[0;31m             \u001b[0mW\u001b[0m\u001b[0;34m,\u001b[0m \u001b[0mH\u001b[0m\u001b[0;34m,\u001b[0m \u001b[0mn_iter\u001b[0m \u001b[0;34m=\u001b[0m \u001b[0mself\u001b[0m\u001b[0;34m.\u001b[0m\u001b[0m_fit_transform\u001b[0m\u001b[0;34m(\u001b[0m\u001b[0mX\u001b[0m\u001b[0;34m,\u001b[0m \u001b[0mW\u001b[0m\u001b[0;34m=\u001b[0m\u001b[0mW\u001b[0m\u001b[0;34m,\u001b[0m \u001b[0mH\u001b[0m\u001b[0;34m=\u001b[0m\u001b[0mH\u001b[0m\u001b[0;34m)\u001b[0m\u001b[0;34m\u001b[0m\u001b[0;34m\u001b[0m\u001b[0m\n\u001b[0m\u001b[1;32m   1539\u001b[0m \u001b[0;34m\u001b[0m\u001b[0m\n\u001b[1;32m   1540\u001b[0m         self.reconstruction_err_ = _beta_divergence(\n",
      "\u001b[0;32m/opt/homebrew/lib/python3.9/site-packages/sklearn/decomposition/_nmf.py\u001b[0m in \u001b[0;36m_fit_transform\u001b[0;34m(self, X, y, W, H, update_H)\u001b[0m\n\u001b[1;32m   1601\u001b[0m \u001b[0;34m\u001b[0m\u001b[0m\n\u001b[1;32m   1602\u001b[0m         \u001b[0;32mif\u001b[0m \u001b[0mself\u001b[0m\u001b[0;34m.\u001b[0m\u001b[0msolver\u001b[0m \u001b[0;34m==\u001b[0m \u001b[0;34m\"cd\"\u001b[0m\u001b[0;34m:\u001b[0m\u001b[0;34m\u001b[0m\u001b[0;34m\u001b[0m\u001b[0m\n\u001b[0;32m-> 1603\u001b[0;31m             W, H, n_iter = _fit_coordinate_descent(\n\u001b[0m\u001b[1;32m   1604\u001b[0m                 \u001b[0mX\u001b[0m\u001b[0;34m,\u001b[0m\u001b[0;34m\u001b[0m\u001b[0;34m\u001b[0m\u001b[0m\n\u001b[1;32m   1605\u001b[0m                 \u001b[0mW\u001b[0m\u001b[0;34m,\u001b[0m\u001b[0;34m\u001b[0m\u001b[0;34m\u001b[0m\u001b[0m\n",
      "\u001b[0;32m/opt/homebrew/lib/python3.9/site-packages/sklearn/decomposition/_nmf.py\u001b[0m in \u001b[0;36m_fit_coordinate_descent\u001b[0;34m(X, W, H, tol, max_iter, l1_reg_W, l1_reg_H, l2_reg_W, l2_reg_H, update_H, verbose, shuffle, random_state)\u001b[0m\n\u001b[1;32m    514\u001b[0m         \u001b[0;31m# Update H\u001b[0m\u001b[0;34m\u001b[0m\u001b[0;34m\u001b[0m\u001b[0m\n\u001b[1;32m    515\u001b[0m         \u001b[0;32mif\u001b[0m \u001b[0mupdate_H\u001b[0m\u001b[0;34m:\u001b[0m\u001b[0;34m\u001b[0m\u001b[0;34m\u001b[0m\u001b[0m\n\u001b[0;32m--> 516\u001b[0;31m             violation += _update_coordinate_descent(\n\u001b[0m\u001b[1;32m    517\u001b[0m                 \u001b[0mX\u001b[0m\u001b[0;34m.\u001b[0m\u001b[0mT\u001b[0m\u001b[0;34m,\u001b[0m \u001b[0mHt\u001b[0m\u001b[0;34m,\u001b[0m \u001b[0mW\u001b[0m\u001b[0;34m,\u001b[0m \u001b[0ml1_reg_H\u001b[0m\u001b[0;34m,\u001b[0m \u001b[0ml2_reg_H\u001b[0m\u001b[0;34m,\u001b[0m \u001b[0mshuffle\u001b[0m\u001b[0;34m,\u001b[0m \u001b[0mrng\u001b[0m\u001b[0;34m\u001b[0m\u001b[0;34m\u001b[0m\u001b[0m\n\u001b[1;32m    518\u001b[0m             )\n",
      "\u001b[0;32m/opt/homebrew/lib/python3.9/site-packages/sklearn/decomposition/_nmf.py\u001b[0m in \u001b[0;36m_update_coordinate_descent\u001b[0;34m(X, W, Ht, l1_reg, l2_reg, shuffle, random_state)\u001b[0m\n\u001b[1;32m    412\u001b[0m     \u001b[0;31m# The following seems to be required on 64-bit Windows w/ Python 3.5.\u001b[0m\u001b[0;34m\u001b[0m\u001b[0;34m\u001b[0m\u001b[0m\n\u001b[1;32m    413\u001b[0m     \u001b[0mpermutation\u001b[0m \u001b[0;34m=\u001b[0m \u001b[0mnp\u001b[0m\u001b[0;34m.\u001b[0m\u001b[0masarray\u001b[0m\u001b[0;34m(\u001b[0m\u001b[0mpermutation\u001b[0m\u001b[0;34m,\u001b[0m \u001b[0mdtype\u001b[0m\u001b[0;34m=\u001b[0m\u001b[0mnp\u001b[0m\u001b[0;34m.\u001b[0m\u001b[0mintp\u001b[0m\u001b[0;34m)\u001b[0m\u001b[0;34m\u001b[0m\u001b[0;34m\u001b[0m\u001b[0m\n\u001b[0;32m--> 414\u001b[0;31m     \u001b[0;32mreturn\u001b[0m \u001b[0m_update_cdnmf_fast\u001b[0m\u001b[0;34m(\u001b[0m\u001b[0mW\u001b[0m\u001b[0;34m,\u001b[0m \u001b[0mHHt\u001b[0m\u001b[0;34m,\u001b[0m \u001b[0mXHt\u001b[0m\u001b[0;34m,\u001b[0m \u001b[0mpermutation\u001b[0m\u001b[0;34m)\u001b[0m\u001b[0;34m\u001b[0m\u001b[0;34m\u001b[0m\u001b[0m\n\u001b[0m\u001b[1;32m    415\u001b[0m \u001b[0;34m\u001b[0m\u001b[0m\n\u001b[1;32m    416\u001b[0m \u001b[0;34m\u001b[0m\u001b[0m\n",
      "\u001b[0;31mKeyboardInterrupt\u001b[0m: "
     ]
    }
   ],
   "source": [
    "# Don't run this code it will take a very long time\n",
    "\n",
    "larger_k_vals = [150, 200, 300, 600, 1000, 15000]\n",
    "larger_k_results = nmf_k_search(tfidf_train_matrix, larger_k_vals)\n",
    "larger_k_results"
   ]
  },
  {
   "cell_type": "code",
   "execution_count": 55,
   "id": "ac04a992",
   "metadata": {},
   "outputs": [
    {
     "data": {
      "text/html": [
       "<div>\n",
       "<style scoped>\n",
       "    .dataframe tbody tr th:only-of-type {\n",
       "        vertical-align: middle;\n",
       "    }\n",
       "\n",
       "    .dataframe tbody tr th {\n",
       "        vertical-align: top;\n",
       "    }\n",
       "\n",
       "    .dataframe thead th {\n",
       "        text-align: right;\n",
       "    }\n",
       "</style>\n",
       "<table border=\"1\" class=\"dataframe\">\n",
       "  <thead>\n",
       "    <tr style=\"text-align: right;\">\n",
       "      <th></th>\n",
       "      <th>k</th>\n",
       "      <th>Reconstruction Error</th>\n",
       "      <th>Iterations to convergence</th>\n",
       "      <th>Time to converge (secs)</th>\n",
       "    </tr>\n",
       "  </thead>\n",
       "  <tbody>\n",
       "    <tr>\n",
       "      <th>0</th>\n",
       "      <td>1</td>\n",
       "      <td>110.144529</td>\n",
       "      <td>7</td>\n",
       "      <td>0.170233</td>\n",
       "    </tr>\n",
       "    <tr>\n",
       "      <th>1</th>\n",
       "      <td>11</td>\n",
       "      <td>107.913440</td>\n",
       "      <td>84</td>\n",
       "      <td>1.119435</td>\n",
       "    </tr>\n",
       "    <tr>\n",
       "      <th>2</th>\n",
       "      <td>21</td>\n",
       "      <td>106.654441</td>\n",
       "      <td>102</td>\n",
       "      <td>2.486144</td>\n",
       "    </tr>\n",
       "    <tr>\n",
       "      <th>3</th>\n",
       "      <td>31</td>\n",
       "      <td>105.645614</td>\n",
       "      <td>216</td>\n",
       "      <td>9.020994</td>\n",
       "    </tr>\n",
       "    <tr>\n",
       "      <th>4</th>\n",
       "      <td>41</td>\n",
       "      <td>104.850667</td>\n",
       "      <td>191</td>\n",
       "      <td>14.221587</td>\n",
       "    </tr>\n",
       "    <tr>\n",
       "      <th>5</th>\n",
       "      <td>51</td>\n",
       "      <td>104.131178</td>\n",
       "      <td>274</td>\n",
       "      <td>29.182860</td>\n",
       "    </tr>\n",
       "    <tr>\n",
       "      <th>6</th>\n",
       "      <td>61</td>\n",
       "      <td>103.483230</td>\n",
       "      <td>117</td>\n",
       "      <td>19.433363</td>\n",
       "    </tr>\n",
       "    <tr>\n",
       "      <th>7</th>\n",
       "      <td>71</td>\n",
       "      <td>102.899553</td>\n",
       "      <td>173</td>\n",
       "      <td>49.812222</td>\n",
       "    </tr>\n",
       "    <tr>\n",
       "      <th>8</th>\n",
       "      <td>81</td>\n",
       "      <td>102.352255</td>\n",
       "      <td>192</td>\n",
       "      <td>69.915971</td>\n",
       "    </tr>\n",
       "    <tr>\n",
       "      <th>9</th>\n",
       "      <td>91</td>\n",
       "      <td>101.821737</td>\n",
       "      <td>273</td>\n",
       "      <td>128.172483</td>\n",
       "    </tr>\n",
       "    <tr>\n",
       "      <th>0</th>\n",
       "      <td>150</td>\n",
       "      <td>99.060629</td>\n",
       "      <td>243</td>\n",
       "      <td>277.306026</td>\n",
       "    </tr>\n",
       "    <tr>\n",
       "      <th>1</th>\n",
       "      <td>200</td>\n",
       "      <td>97.013592</td>\n",
       "      <td>305</td>\n",
       "      <td>625.052509</td>\n",
       "    </tr>\n",
       "    <tr>\n",
       "      <th>2</th>\n",
       "      <td>300</td>\n",
       "      <td>93.566469</td>\n",
       "      <td>236</td>\n",
       "      <td>2153.664429</td>\n",
       "    </tr>\n",
       "    <tr>\n",
       "      <th>3</th>\n",
       "      <td>600</td>\n",
       "      <td>85.769618</td>\n",
       "      <td>119</td>\n",
       "      <td>1938.120636</td>\n",
       "    </tr>\n",
       "    <tr>\n",
       "      <th>4</th>\n",
       "      <td>1000</td>\n",
       "      <td>77.819292</td>\n",
       "      <td>105</td>\n",
       "      <td>4577.196754</td>\n",
       "    </tr>\n",
       "  </tbody>\n",
       "</table>\n",
       "</div>"
      ],
      "text/plain": [
       "      k  Reconstruction Error  Iterations to convergence  \\\n",
       "0     1            110.144529                          7   \n",
       "1    11            107.913440                         84   \n",
       "2    21            106.654441                        102   \n",
       "3    31            105.645614                        216   \n",
       "4    41            104.850667                        191   \n",
       "5    51            104.131178                        274   \n",
       "6    61            103.483230                        117   \n",
       "7    71            102.899553                        173   \n",
       "8    81            102.352255                        192   \n",
       "9    91            101.821737                        273   \n",
       "0   150             99.060629                        243   \n",
       "1   200             97.013592                        305   \n",
       "2   300             93.566469                        236   \n",
       "3   600             85.769618                        119   \n",
       "4  1000             77.819292                        105   \n",
       "\n",
       "   Time to converge (secs)  \n",
       "0                 0.170233  \n",
       "1                 1.119435  \n",
       "2                 2.486144  \n",
       "3                 9.020994  \n",
       "4                14.221587  \n",
       "5                29.182860  \n",
       "6                19.433363  \n",
       "7                49.812222  \n",
       "8                69.915971  \n",
       "9               128.172483  \n",
       "0               277.306026  \n",
       "1               625.052509  \n",
       "2              2153.664429  \n",
       "3              1938.120636  \n",
       "4              4577.196754  "
      ]
     },
     "execution_count": 55,
     "metadata": {},
     "output_type": "execute_result"
    }
   ],
   "source": [
    "nmf_larger_results = [[150, 99.06062880181726, 243, 277.3060259819031],\n",
    "                 [200, 97.01359152285178, 305, 625.0525093078613],\n",
    "                 [300, 93.5664692723195, 236, 2153.6644287109375],\n",
    "                 [600, 85.76961768114077, 119, 1938.1206359863281],\n",
    "                 [1000, 77.81929157478947, 105, 4577.196753978729]]\n",
    "\n",
    "\n",
    "nmf_larger_results_df = pd.DataFrame(larger_results, columns=['k', 'Reconstruction Error',\n",
    "                                                'Iterations to convergence',\n",
    "                                                'Time to converge (secs)'])\n",
    "nmf_full_results_df = simple_results.append(larger_results_df)\n",
    "nmf_full_results_df"
   ]
  },
  {
   "cell_type": "code",
   "execution_count": 143,
   "id": "ff8e0304",
   "metadata": {},
   "outputs": [
    {
     "data": {
      "image/png": "[encoded data removed]",
      "text/plain": [
       "<Figure size 432x288 with 1 Axes>"
      ]
     },
     "metadata": {
      "needs_background": "light"
     },
     "output_type": "display_data"
    }
   ],
   "source": [
    "fig1 = plt.figure(23)\n",
    "ax1 = plt.subplot(111)\n",
    "ax1.plot(\n",
    "    full_results_df.iloc[:,0], full_results_df.iloc[:,1], 'b.')\n",
    "ax1.set_title('Reconstruction Error for Truncated Matrices')\n",
    "ax1.set_xlabel('Dimension of Truncated Subspace')\n",
    "ax1.set_ylabel('Reconstruction Error')\n",
    "ax1.axis([0, 1010 , 0, max(full_results_df.iloc[:,1]) + 10])\n",
    "plt.show()"
   ]
  },
  {
   "cell_type": "markdown",
   "id": "e58e1330",
   "metadata": {},
   "source": [
    "#### Computing and serializing NMF for larger values of k"
   ]
  },
  {
   "cell_type": "code",
   "execution_count": 86,
   "id": "cbacc37e",
   "metadata": {},
   "outputs": [
    {
     "name": "stdout",
     "output_type": "stream",
     "text": [
      "Now fitting NMF for k =1024...\n",
      "[1024, 77.44277899510725, 81, 19004.456098794937]\n",
      "Now fitting NMF for k =2048...\n"
     ]
    },
    {
     "ename": "KeyboardInterrupt",
     "evalue": "",
     "output_type": "error",
     "traceback": [
      "\u001b[0;31m---------------------------------------------------------------------------\u001b[0m",
      "\u001b[0;31mKeyboardInterrupt\u001b[0m                         Traceback (most recent call last)",
      "\u001b[0;32m/var/folders/yq/5fk4pl911495z8dhwm2zjsqc0000gn/T/ipykernel_27733/1066230568.py\u001b[0m in \u001b[0;36m<module>\u001b[0;34m\u001b[0m\n\u001b[1;32m      1\u001b[0m \u001b[0mbig_k_nmf\u001b[0m \u001b[0;34m=\u001b[0m \u001b[0;34m[\u001b[0m\u001b[0;36m1024\u001b[0m\u001b[0;34m,\u001b[0m \u001b[0;36m2048\u001b[0m\u001b[0;34m,\u001b[0m \u001b[0;36m4096\u001b[0m\u001b[0;34m,\u001b[0m \u001b[0;36m8192\u001b[0m\u001b[0;34m,\u001b[0m \u001b[0;36m12431\u001b[0m\u001b[0;34m]\u001b[0m\u001b[0;34m\u001b[0m\u001b[0;34m\u001b[0m\u001b[0m\n\u001b[0;32m----> 2\u001b[0;31m \u001b[0mnmf_k_search\u001b[0m\u001b[0;34m(\u001b[0m\u001b[0mtfidf_train_matrix\u001b[0m\u001b[0;34m,\u001b[0m \u001b[0mbig_k_nmf\u001b[0m\u001b[0;34m,\u001b[0m \u001b[0mserialize\u001b[0m\u001b[0;34m=\u001b[0m\u001b[0;32mTrue\u001b[0m\u001b[0;34m)\u001b[0m\u001b[0;34m\u001b[0m\u001b[0;34m\u001b[0m\u001b[0m\n\u001b[0m",
      "\u001b[0;32m~/Documents/Coursework/MSCAPP/2021_Fall/CMSC35300/matrix_decomps/core/matrix/nmf_decompositions.py\u001b[0m in \u001b[0;36mnmf_k_search\u001b[0;34m(input_matrix, k_vals, serialize)\u001b[0m\n\u001b[1;32m     54\u001b[0m         nmf_model = NMF(n_components=kval, init='nndsvd',\n\u001b[1;32m     55\u001b[0m                         max_iter=1000,random_state=1)\n\u001b[0;32m---> 56\u001b[0;31m         \u001b[0mW\u001b[0m \u001b[0;34m=\u001b[0m \u001b[0mnmf_model\u001b[0m\u001b[0;34m.\u001b[0m\u001b[0mfit_transform\u001b[0m\u001b[0;34m(\u001b[0m\u001b[0minput_matrix\u001b[0m\u001b[0;34m)\u001b[0m\u001b[0;34m\u001b[0m\u001b[0;34m\u001b[0m\u001b[0m\n\u001b[0m\u001b[1;32m     57\u001b[0m         \u001b[0mtime_elapsed\u001b[0m \u001b[0;34m=\u001b[0m \u001b[0mtime\u001b[0m\u001b[0;34m(\u001b[0m\u001b[0;34m)\u001b[0m \u001b[0;34m-\u001b[0m \u001b[0mt0\u001b[0m\u001b[0;34m\u001b[0m\u001b[0;34m\u001b[0m\u001b[0m\n\u001b[1;32m     58\u001b[0m         \u001b[0mH\u001b[0m \u001b[0;34m=\u001b[0m \u001b[0mnmf_model\u001b[0m\u001b[0;34m.\u001b[0m\u001b[0mcomponents_\u001b[0m\u001b[0;34m\u001b[0m\u001b[0;34m\u001b[0m\u001b[0m\n",
      "\u001b[0;32m/opt/homebrew/lib/python3.9/site-packages/sklearn/decomposition/_nmf.py\u001b[0m in \u001b[0;36mfit_transform\u001b[0;34m(self, X, y, W, H)\u001b[0m\n\u001b[1;32m   1536\u001b[0m \u001b[0;34m\u001b[0m\u001b[0m\n\u001b[1;32m   1537\u001b[0m         \u001b[0;32mwith\u001b[0m \u001b[0mconfig_context\u001b[0m\u001b[0;34m(\u001b[0m\u001b[0massume_finite\u001b[0m\u001b[0;34m=\u001b[0m\u001b[0;32mTrue\u001b[0m\u001b[0;34m)\u001b[0m\u001b[0;34m:\u001b[0m\u001b[0;34m\u001b[0m\u001b[0;34m\u001b[0m\u001b[0m\n\u001b[0;32m-> 1538\u001b[0;31m             \u001b[0mW\u001b[0m\u001b[0;34m,\u001b[0m \u001b[0mH\u001b[0m\u001b[0;34m,\u001b[0m \u001b[0mn_iter\u001b[0m \u001b[0;34m=\u001b[0m \u001b[0mself\u001b[0m\u001b[0;34m.\u001b[0m\u001b[0m_fit_transform\u001b[0m\u001b[0;34m(\u001b[0m\u001b[0mX\u001b[0m\u001b[0;34m,\u001b[0m \u001b[0mW\u001b[0m\u001b[0;34m=\u001b[0m\u001b[0mW\u001b[0m\u001b[0;34m,\u001b[0m \u001b[0mH\u001b[0m\u001b[0;34m=\u001b[0m\u001b[0mH\u001b[0m\u001b[0;34m)\u001b[0m\u001b[0;34m\u001b[0m\u001b[0;34m\u001b[0m\u001b[0m\n\u001b[0m\u001b[1;32m   1539\u001b[0m \u001b[0;34m\u001b[0m\u001b[0m\n\u001b[1;32m   1540\u001b[0m         self.reconstruction_err_ = _beta_divergence(\n",
      "\u001b[0;32m/opt/homebrew/lib/python3.9/site-packages/sklearn/decomposition/_nmf.py\u001b[0m in \u001b[0;36m_fit_transform\u001b[0;34m(self, X, y, W, H, update_H)\u001b[0m\n\u001b[1;32m   1601\u001b[0m \u001b[0;34m\u001b[0m\u001b[0m\n\u001b[1;32m   1602\u001b[0m         \u001b[0;32mif\u001b[0m \u001b[0mself\u001b[0m\u001b[0;34m.\u001b[0m\u001b[0msolver\u001b[0m \u001b[0;34m==\u001b[0m \u001b[0;34m\"cd\"\u001b[0m\u001b[0;34m:\u001b[0m\u001b[0;34m\u001b[0m\u001b[0;34m\u001b[0m\u001b[0m\n\u001b[0;32m-> 1603\u001b[0;31m             W, H, n_iter = _fit_coordinate_descent(\n\u001b[0m\u001b[1;32m   1604\u001b[0m                 \u001b[0mX\u001b[0m\u001b[0;34m,\u001b[0m\u001b[0;34m\u001b[0m\u001b[0;34m\u001b[0m\u001b[0m\n\u001b[1;32m   1605\u001b[0m                 \u001b[0mW\u001b[0m\u001b[0;34m,\u001b[0m\u001b[0;34m\u001b[0m\u001b[0;34m\u001b[0m\u001b[0m\n",
      "\u001b[0;32m/opt/homebrew/lib/python3.9/site-packages/sklearn/decomposition/_nmf.py\u001b[0m in \u001b[0;36m_fit_coordinate_descent\u001b[0;34m(X, W, H, tol, max_iter, l1_reg_W, l1_reg_H, l2_reg_W, l2_reg_H, update_H, verbose, shuffle, random_state)\u001b[0m\n\u001b[1;32m    514\u001b[0m         \u001b[0;31m# Update H\u001b[0m\u001b[0;34m\u001b[0m\u001b[0;34m\u001b[0m\u001b[0m\n\u001b[1;32m    515\u001b[0m         \u001b[0;32mif\u001b[0m \u001b[0mupdate_H\u001b[0m\u001b[0;34m:\u001b[0m\u001b[0;34m\u001b[0m\u001b[0;34m\u001b[0m\u001b[0m\n\u001b[0;32m--> 516\u001b[0;31m             violation += _update_coordinate_descent(\n\u001b[0m\u001b[1;32m    517\u001b[0m                 \u001b[0mX\u001b[0m\u001b[0;34m.\u001b[0m\u001b[0mT\u001b[0m\u001b[0;34m,\u001b[0m \u001b[0mHt\u001b[0m\u001b[0;34m,\u001b[0m \u001b[0mW\u001b[0m\u001b[0;34m,\u001b[0m \u001b[0ml1_reg_H\u001b[0m\u001b[0;34m,\u001b[0m \u001b[0ml2_reg_H\u001b[0m\u001b[0;34m,\u001b[0m \u001b[0mshuffle\u001b[0m\u001b[0;34m,\u001b[0m \u001b[0mrng\u001b[0m\u001b[0;34m\u001b[0m\u001b[0;34m\u001b[0m\u001b[0m\n\u001b[1;32m    518\u001b[0m             )\n",
      "\u001b[0;32m/opt/homebrew/lib/python3.9/site-packages/sklearn/decomposition/_nmf.py\u001b[0m in \u001b[0;36m_update_coordinate_descent\u001b[0;34m(X, W, Ht, l1_reg, l2_reg, shuffle, random_state)\u001b[0m\n\u001b[1;32m    412\u001b[0m     \u001b[0;31m# The following seems to be required on 64-bit Windows w/ Python 3.5.\u001b[0m\u001b[0;34m\u001b[0m\u001b[0;34m\u001b[0m\u001b[0m\n\u001b[1;32m    413\u001b[0m     \u001b[0mpermutation\u001b[0m \u001b[0;34m=\u001b[0m \u001b[0mnp\u001b[0m\u001b[0;34m.\u001b[0m\u001b[0masarray\u001b[0m\u001b[0;34m(\u001b[0m\u001b[0mpermutation\u001b[0m\u001b[0;34m,\u001b[0m \u001b[0mdtype\u001b[0m\u001b[0;34m=\u001b[0m\u001b[0mnp\u001b[0m\u001b[0;34m.\u001b[0m\u001b[0mintp\u001b[0m\u001b[0;34m)\u001b[0m\u001b[0;34m\u001b[0m\u001b[0;34m\u001b[0m\u001b[0m\n\u001b[0;32m--> 414\u001b[0;31m     \u001b[0;32mreturn\u001b[0m \u001b[0m_update_cdnmf_fast\u001b[0m\u001b[0;34m(\u001b[0m\u001b[0mW\u001b[0m\u001b[0;34m,\u001b[0m \u001b[0mHHt\u001b[0m\u001b[0;34m,\u001b[0m \u001b[0mXHt\u001b[0m\u001b[0;34m,\u001b[0m \u001b[0mpermutation\u001b[0m\u001b[0;34m)\u001b[0m\u001b[0;34m\u001b[0m\u001b[0;34m\u001b[0m\u001b[0m\n\u001b[0m\u001b[1;32m    415\u001b[0m \u001b[0;34m\u001b[0m\u001b[0m\n\u001b[1;32m    416\u001b[0m \u001b[0;34m\u001b[0m\u001b[0m\n",
      "\u001b[0;31mKeyboardInterrupt\u001b[0m: "
     ]
    }
   ],
   "source": [
    "big_k_nmf = [1024, 2048, 4096, 8192, 12431]\n",
    "nmf_k_search(tfidf_train_matrix, big_k_nmf, serialize=True)"
   ]
  },
  {
   "cell_type": "markdown",
   "id": "0d51b809",
   "metadata": {},
   "source": [
    "### SVD"
   ]
  },
  {
   "cell_type": "code",
   "execution_count": 73,
   "id": "17f24be7",
   "metadata": {},
   "outputs": [
    {
     "name": "stdout",
     "output_type": "stream",
     "text": [
      "U has dimensions: (12432, 1)\n",
      "V_T has dimensions:(1, 30460)\n",
      "Number of singluar values:1\n",
      "[0.00238821]\n",
      "[0.00244164]\n",
      "0.0023882080148420214\n",
      "0.0024416385040806577\n"
     ]
    }
   ],
   "source": [
    "# TruncatedSVD code example\n",
    "trunc_svd = TruncatedSVD(n_components=1, algorithm='randomized', n_iter=5, random_state=1)\n",
    "U = trunc_svd.fit_transform(tfidf_train_matrix)\n",
    "V_T = trunc_svd.components_\n",
    "sigmas = trunc_svd.singular_values_\n",
    "\n",
    "print(f'U has dimensions: {U.shape}')\n",
    "print(f'V_T has dimensions:{V_T.shape}')\n",
    "print(f'Number of singluar values:{len(sigmas)}')\n",
    "\n",
    "print(trunc_svd.explained_variance_)\n",
    "print(trunc_svd.explained_variance_ratio_)\n",
    "print(trunc_svd.explained_variance_.sum())\n",
    "print(trunc_svd.explained_variance_ratio_.sum())"
   ]
  },
  {
   "cell_type": "code",
   "execution_count": 63,
   "id": "5d88e0eb",
   "metadata": {},
   "outputs": [
    {
     "name": "stdout",
     "output_type": "stream",
     "text": [
      "U has dimensions: (12432, 1000)\n",
      "V_T has dimensions:(1000, 30460)\n",
      "Number of singluar values:1000\n"
     ]
    }
   ],
   "source": [
    "#alternative scipy sparse svd method\n",
    "U_sp, sigmas_sp, V_T_sp = sp.linalg.svds(tfidf_train_matrix,\n",
    "                                         k=1000, which='LM', maxiter=20)\n",
    "\n",
    "print(f'U has dimensions: {U_sp.shape}')\n",
    "print(f'V_T has dimensions:{V_T_sp.shape}')\n",
    "print(f'Number of singluar values:{len(sigmas_sp)}')"
   ]
  },
  {
   "cell_type": "code",
   "execution_count": 28,
   "id": "09c341dc",
   "metadata": {},
   "outputs": [
    {
     "name": "stdout",
     "output_type": "stream",
     "text": [
      "unadjusted: 311.93168939539225 \n",
      " dense: 311.93168939539225\n"
     ]
    }
   ],
   "source": [
    "# Reconstruction error for scikit TruncatedSVD method\n",
    "# this code demonstrates that we don't need to convert the sparse matrix\n",
    "# to a dense matrix to find the reconstruction error\n",
    "reconstruc = U @ np.diag(sigmas) @ V_T\n",
    "diff_unadj = tfidf_train_matrix - reconstruc\n",
    "dense_tfidf = tfidf_train_matrix.toarray()\n",
    "diff_to_dense = dense_tfidf - reconstruc\n",
    "unadj = la.norm(diff_unadj, ord='fro')\n",
    "dense = la.norm(diff_to_dense, ord='fro')\n",
    "print(f'unadjusted: {unadj} \\n dense: {dense}')"
   ]
  },
  {
   "cell_type": "code",
   "execution_count": 60,
   "id": "a0159f9a",
   "metadata": {},
   "outputs": [
    {
     "data": {
      "text/plain": [
       "numpy.matrix"
      ]
     },
     "execution_count": 60,
     "metadata": {},
     "output_type": "execute_result"
    }
   ],
   "source": [
    "type(tfidf_train_matrix - reconstruc)"
   ]
  },
  {
   "cell_type": "code",
   "execution_count": 65,
   "id": "fb9fa538",
   "metadata": {},
   "outputs": [],
   "source": [
    "def svd_k_search(input_matrix, k_vals):\n",
    "    \"\"\"\n",
    "    function for searching over different values of k\n",
    "    \"\"\"\n",
    "    \n",
    "    results = []\n",
    "    for kval in k_vals:\n",
    "        print(f\"Now fitting truncated SVD for k ={kval}...\")\n",
    "        \n",
    "        t0=time()\n",
    "        #trunc_svd = TruncatedSVD(n_components=kval, algorithm='randomized',\n",
    "        #                         n_iter=20, random_state=1)\n",
    "        \n",
    "        U, sigmas, V_T = sp.linalg.svds(input_matrix, k=kval, which='LM')\n",
    "        time_elapsed = time() - t0\n",
    "        \n",
    "        # U = trunc_svd.fit_transform(input_matrix)\n",
    "        # V_T = trunc_svd.components_\n",
    "        # sigmas = trunc_svd.singular_values_\n",
    "        \n",
    "        # print(f'U has dimensions: {U.shape}')\n",
    "        # print(f'V_T has dimensions:{V_T.shape}')\n",
    "        # print(f'Number of singluar values:{len(sigmas)}')\n",
    "        \n",
    "        t_prime = time()\n",
    "        recon_matrix = U @ np.diag(sigmas) @ V_T\n",
    "        reconstruction_err = la.norm(input_matrix - recon_matrix, ord='fro')\n",
    "        recon_time = time() - t_prime\n",
    "        \n",
    "        entry = [kval, reconstruction_err, time_elapsed, recon_time]\n",
    "        print(entry)\n",
    "        results.append(entry)\n",
    "        \n",
    "    results_df = pd.DataFrame(results, columns=['k', 'Reconstruction Error',\n",
    "                                                'Time to converge (secs)',\n",
    "                                                'Time to compute reconstruction err'])\n",
    "    \n",
    "    return results_df"
   ]
  },
  {
   "cell_type": "code",
   "execution_count": 66,
   "id": "4350fcbf",
   "metadata": {},
   "outputs": [
    {
     "name": "stdout",
     "output_type": "stream",
     "text": [
      "Now fitting truncated SVD for k =1...\n",
      "[1, 110.14452881561618, 0.06408095359802246, 4.836601972579956]\n",
      "Now fitting truncated SVD for k =2...\n",
      "[2, 109.77423610044545, 0.06250905990600586, 2.6673479080200195]\n",
      "Now fitting truncated SVD for k =3...\n",
      "[3, 109.45102036800031, 0.08362412452697754, 2.8702948093414307]\n",
      "Now fitting truncated SVD for k =4...\n",
      "[4, 109.15283265475175, 0.0795598030090332, 2.8350830078125]\n",
      "Now fitting truncated SVD for k =5...\n",
      "[5, 108.90614901410868, 0.07708597183227539, 2.813563108444214]\n",
      "Now fitting truncated SVD for k =10...\n",
      "[10, 107.94607181258625, 0.12374615669250488, 2.8766908645629883]\n",
      "Now fitting truncated SVD for k =15...\n",
      "[15, 107.17989248752093, 0.15616297721862793, 3.2897369861602783]\n",
      "Now fitting truncated SVD for k =35...\n",
      "[35, 105.03796179224288, 0.2901010513305664, 2.682055950164795]\n",
      "Now fitting truncated SVD for k =70...\n",
      "[70, 102.47529485296124, 0.5776321887969971, 3.2944090366363525]\n",
      "Now fitting truncated SVD for k =100...\n",
      "[100, 100.71650128699613, 1.1693780422210693, 3.505222797393799]\n",
      "Now fitting truncated SVD for k =150...\n",
      "[150, 98.17502928831226, 1.988163709640503, 3.2106359004974365]\n",
      "Now fitting truncated SVD for k =300...\n",
      "[300, 92.17491235396996, 5.801501750946045, 4.432115077972412]\n",
      "Now fitting truncated SVD for k =500...\n",
      "[500, 86.03953290230548, 15.112267017364502, 5.347621202468872]\n"
     ]
    },
    {
     "data": {
      "text/html": [
       "<div>\n",
       "<style scoped>\n",
       "    .dataframe tbody tr th:only-of-type {\n",
       "        vertical-align: middle;\n",
       "    }\n",
       "\n",
       "    .dataframe tbody tr th {\n",
       "        vertical-align: top;\n",
       "    }\n",
       "\n",
       "    .dataframe thead th {\n",
       "        text-align: right;\n",
       "    }\n",
       "</style>\n",
       "<table border=\"1\" class=\"dataframe\">\n",
       "  <thead>\n",
       "    <tr style=\"text-align: right;\">\n",
       "      <th></th>\n",
       "      <th>k</th>\n",
       "      <th>Reconstruction Error</th>\n",
       "      <th>Time to converge (secs)</th>\n",
       "      <th>Time to compute reconstruction err</th>\n",
       "    </tr>\n",
       "  </thead>\n",
       "  <tbody>\n",
       "    <tr>\n",
       "      <th>0</th>\n",
       "      <td>1</td>\n",
       "      <td>110.144529</td>\n",
       "      <td>0.064081</td>\n",
       "      <td>4.836602</td>\n",
       "    </tr>\n",
       "    <tr>\n",
       "      <th>1</th>\n",
       "      <td>2</td>\n",
       "      <td>109.774236</td>\n",
       "      <td>0.062509</td>\n",
       "      <td>2.667348</td>\n",
       "    </tr>\n",
       "    <tr>\n",
       "      <th>2</th>\n",
       "      <td>3</td>\n",
       "      <td>109.451020</td>\n",
       "      <td>0.083624</td>\n",
       "      <td>2.870295</td>\n",
       "    </tr>\n",
       "    <tr>\n",
       "      <th>3</th>\n",
       "      <td>4</td>\n",
       "      <td>109.152833</td>\n",
       "      <td>0.079560</td>\n",
       "      <td>2.835083</td>\n",
       "    </tr>\n",
       "    <tr>\n",
       "      <th>4</th>\n",
       "      <td>5</td>\n",
       "      <td>108.906149</td>\n",
       "      <td>0.077086</td>\n",
       "      <td>2.813563</td>\n",
       "    </tr>\n",
       "    <tr>\n",
       "      <th>5</th>\n",
       "      <td>10</td>\n",
       "      <td>107.946072</td>\n",
       "      <td>0.123746</td>\n",
       "      <td>2.876691</td>\n",
       "    </tr>\n",
       "    <tr>\n",
       "      <th>6</th>\n",
       "      <td>15</td>\n",
       "      <td>107.179892</td>\n",
       "      <td>0.156163</td>\n",
       "      <td>3.289737</td>\n",
       "    </tr>\n",
       "    <tr>\n",
       "      <th>7</th>\n",
       "      <td>35</td>\n",
       "      <td>105.037962</td>\n",
       "      <td>0.290101</td>\n",
       "      <td>2.682056</td>\n",
       "    </tr>\n",
       "    <tr>\n",
       "      <th>8</th>\n",
       "      <td>70</td>\n",
       "      <td>102.475295</td>\n",
       "      <td>0.577632</td>\n",
       "      <td>3.294409</td>\n",
       "    </tr>\n",
       "    <tr>\n",
       "      <th>9</th>\n",
       "      <td>100</td>\n",
       "      <td>100.716501</td>\n",
       "      <td>1.169378</td>\n",
       "      <td>3.505223</td>\n",
       "    </tr>\n",
       "    <tr>\n",
       "      <th>10</th>\n",
       "      <td>150</td>\n",
       "      <td>98.175029</td>\n",
       "      <td>1.988164</td>\n",
       "      <td>3.210636</td>\n",
       "    </tr>\n",
       "    <tr>\n",
       "      <th>11</th>\n",
       "      <td>300</td>\n",
       "      <td>92.174912</td>\n",
       "      <td>5.801502</td>\n",
       "      <td>4.432115</td>\n",
       "    </tr>\n",
       "    <tr>\n",
       "      <th>12</th>\n",
       "      <td>500</td>\n",
       "      <td>86.039533</td>\n",
       "      <td>15.112267</td>\n",
       "      <td>5.347621</td>\n",
       "    </tr>\n",
       "  </tbody>\n",
       "</table>\n",
       "</div>"
      ],
      "text/plain": [
       "      k  Reconstruction Error  Time to converge (secs)  \\\n",
       "0     1            110.144529                 0.064081   \n",
       "1     2            109.774236                 0.062509   \n",
       "2     3            109.451020                 0.083624   \n",
       "3     4            109.152833                 0.079560   \n",
       "4     5            108.906149                 0.077086   \n",
       "5    10            107.946072                 0.123746   \n",
       "6    15            107.179892                 0.156163   \n",
       "7    35            105.037962                 0.290101   \n",
       "8    70            102.475295                 0.577632   \n",
       "9   100            100.716501                 1.169378   \n",
       "10  150             98.175029                 1.988164   \n",
       "11  300             92.174912                 5.801502   \n",
       "12  500             86.039533                15.112267   \n",
       "\n",
       "    Time to compute reconstruction err  \n",
       "0                             4.836602  \n",
       "1                             2.667348  \n",
       "2                             2.870295  \n",
       "3                             2.835083  \n",
       "4                             2.813563  \n",
       "5                             2.876691  \n",
       "6                             3.289737  \n",
       "7                             2.682056  \n",
       "8                             3.294409  \n",
       "9                             3.505223  \n",
       "10                            3.210636  \n",
       "11                            4.432115  \n",
       "12                            5.347621  "
      ]
     },
     "execution_count": 66,
     "metadata": {},
     "output_type": "execute_result"
    }
   ],
   "source": [
    "#svd_k_vals = larger_k_vals\n",
    "svd_k_search(tfidf_train_matrix,[1,2,3,4,5,10, 15,35,70,100,150,300,500])"
   ]
  },
  {
   "cell_type": "markdown",
   "id": "6b123bde",
   "metadata": {},
   "source": [
    "#### Computing the Full SVD\n",
    "The internet said that scipy's svd implementation of SVD is faster than numpy's so using that"
   ]
  },
  {
   "cell_type": "code",
   "execution_count": 13,
   "id": "e8b7bddb",
   "metadata": {},
   "outputs": [
    {
     "name": "stdout",
     "output_type": "stream",
     "text": [
      "computing full SVD of the sparse tfidf matrix...\n",
      "SVD complete in 3252.1491236686707 seconds\n"
     ]
    }
   ],
   "source": [
    "# Code for computing the full SVD of the sparse matrix\n",
    "\n",
    "print(\"computing full SVD of the sparse tfidf matrix...\")\n",
    "t0 = time()\n",
    "U_, sigmas_, V_T_ = sp.linalg.svds(tfidf_train_matrix,k=12431,which='LM', maxiter=None)\n",
    "time_elapsed = time() - t0\n",
    "print(f\"SVD complete in {time_elapsed} seconds\")"
   ]
  },
  {
   "cell_type": "code",
   "execution_count": 14,
   "id": "655f08e0",
   "metadata": {},
   "outputs": [],
   "source": [
    "#copies just to be safe\n",
    "U_copy = U_.copy()\n",
    "sigmas_copy = sigmas_.copy()\n",
    "V_T_copy = V_T_.copy"
   ]
  },
  {
   "cell_type": "code",
   "execution_count": 15,
   "id": "3cbedea7",
   "metadata": {},
   "outputs": [
    {
     "name": "stdout",
     "output_type": "stream",
     "text": [
      "U_ has dimensions: (12432, 12431)\n",
      "V_T_ has dimensions:(12431, 30460)\n",
      "Number of singluar values:(12431,)\n"
     ]
    }
   ],
   "source": [
    "print(f'U_ has dimensions: {U_.shape}')\n",
    "print(f'V_T_ has dimensions:{V_T_.shape}')\n",
    "print(f'Number of singluar values:{sigmas_.shape}')"
   ]
  },
  {
   "cell_type": "code",
   "execution_count": 16,
   "id": "18c9345f",
   "metadata": {},
   "outputs": [
    {
     "data": {
      "text/plain": [
       "1.6606730721042668e-12"
      ]
     },
     "execution_count": 16,
     "metadata": {},
     "output_type": "execute_result"
    }
   ],
   "source": [
    "reconstruc_u = U_ @ np.diag(sigmas_) @ V_T_\n",
    "reconstruction_err_u = la.norm(tfidf_train_matrix - reconstruc_u, ord='fro')"
   ]
  },
  {
   "cell_type": "code",
   "execution_count": 18,
   "id": "4ca679e4",
   "metadata": {},
   "outputs": [
    {
     "name": "stdout",
     "output_type": "stream",
     "text": [
      "Reconstruction error using the full SVD: 1.6606730721042668e-12\n"
     ]
    }
   ],
   "source": [
    "print(f'Reconstruction error using the full SVD: {reconstruction_err_u}')"
   ]
  },
  {
   "cell_type": "markdown",
   "id": "e814fbfb",
   "metadata": {},
   "source": [
    "### Serializing the full SVD matrices"
   ]
  },
  {
   "cell_type": "markdown",
   "id": "250a1895",
   "metadata": {},
   "source": [
    "Scipy sparse SVD returns the singular values and vectors in reverse order (smallest singular values first). So first need to reverse the order of everything\n",
    "https://docs.scipy.org/doc/scipy/reference/generated/scipy.sparse.linalg.svds.html"
   ]
  },
  {
   "cell_type": "code",
   "execution_count": 19,
   "id": "c1aa95c7",
   "metadata": {},
   "outputs": [],
   "source": [
    "# function in core/matrix/svd_decomposition_helpers that fixes the order\n",
    "U_full, sigmas_full, V_T_full = fix_scipy_svds(U_, sigmas_,V_T_)"
   ]
  },
  {
   "cell_type": "code",
   "execution_count": 20,
   "id": "016c0157",
   "metadata": {},
   "outputs": [
    {
     "name": "stdout",
     "output_type": "stream",
     "text": [
      "U_full has dimensions: (12432, 12431)\n",
      "V_T_full has dimensions:(12431, 30460)\n",
      "Number of singluar values:(12431,)\n"
     ]
    }
   ],
   "source": [
    "print(f'U_full has dimensions: {U_full.shape}')\n",
    "print(f'V_T_full has dimensions:{V_T_full.shape}')\n",
    "print(f'Number of singluar values:{sigmas_full.shape}')"
   ]
  },
  {
   "cell_type": "markdown",
   "id": "0b967250",
   "metadata": {},
   "source": [
    "Now serialize these reordered matrices"
   ]
  },
  {
   "cell_type": "code",
   "execution_count": 24,
   "id": "c065d78d",
   "metadata": {},
   "outputs": [],
   "source": [
    "#serialize full SVD\n",
    "\n",
    "output_file_names = [\"tfidf_train_full_svd_U.pkl\",\n",
    "                     \"tfidf_train_full_svd_sigmas.pkl\",\n",
    "                      \"tfidf_train_full_svd_V_T.pkl\"]\n",
    "\n",
    "serialize_SVD(U_full, sigmas_full, V_T_full, output_file_names)"
   ]
  },
  {
   "cell_type": "code",
   "execution_count": 25,
   "id": "2fe41ad1",
   "metadata": {},
   "outputs": [],
   "source": [
    "def compute_size(input_array):\n",
    "    size = input_array.size\n",
    "    item_size = input_array.itemsize\n",
    "    num_bytes = size * item_size\n",
    "    num_mb = num_bytes / 1000000\n",
    "    return num_mb"
   ]
  },
  {
   "cell_type": "code",
   "execution_count": 26,
   "id": "c6fc885e",
   "metadata": {},
   "outputs": [
    {
     "name": "stdout",
     "output_type": "stream",
     "text": [
      "3029.18608\n"
     ]
    }
   ],
   "source": [
    "# checking the size of the V_T array\n",
    "print(compute_size(V_T_full))"
   ]
  },
  {
   "cell_type": "code",
   "execution_count": 29,
   "id": "dd6e8f17",
   "metadata": {},
   "outputs": [
    {
     "data": {
      "text/plain": [
       "True"
      ]
     },
     "execution_count": 29,
     "metadata": {},
     "output_type": "execute_result"
    }
   ],
   "source": [
    "# load in a serialized df to make sure it matches original df\n",
    "# I also do this within the serialize_svd() function--just double checking here\n",
    "sigmas_reloaded = np.load(\"output/tfidf_train_full_svd_sigmas.pkl\", allow_pickle=True)\n",
    "np.array_equal(sigmas_reloaded,sigmas_full)"
   ]
  },
  {
   "cell_type": "markdown",
   "id": "7f490a27",
   "metadata": {},
   "source": [
    "### Finding the optimal k with now that we have the full SVD\n",
    "First read in the full SVD matrice we found above"
   ]
  },
  {
   "cell_type": "code",
   "execution_count": 12,
   "id": "676ea993",
   "metadata": {},
   "outputs": [
    {
     "name": "stdout",
     "output_type": "stream",
     "text": [
      "U_from_pkl has dimensions: (12432, 12431)\n",
      "V_T_from_pkl has dimensions:(12431, 30460)\n",
      "Number of singluar values:(12431,)\n"
     ]
    }
   ],
   "source": [
    "# Reading in the matrices we just serialized for reproducibility's sake\n",
    "\n",
    "U_from_pkl = np.load(\"output/tfidf_train_full_svd_U.pkl\", allow_pickle=True)\n",
    "V_T_from_pkl = np.load(\"output/tfidf_train_full_svd_V_T.pkl\", allow_pickle=True)\n",
    "sigmas_from_pkl = np.load(\"output/tfidf_train_full_svd_sigmas.pkl\", allow_pickle=True)\n",
    "\n",
    "\n",
    "print(f'U_from_pkl has dimensions: {U_from_pkl.shape}')\n",
    "print(f'V_T_from_pkl has dimensions:{V_T_from_pkl.shape}')\n",
    "print(f'Number of singluar values:{sigmas_from_pkl.shape}')"
   ]
  },
  {
   "cell_type": "code",
   "execution_count": 48,
   "id": "51f0d75c",
   "metadata": {},
   "outputs": [
    {
     "data": {
      "text/plain": [
       "74.63781969649462"
      ]
     },
     "execution_count": 48,
     "metadata": {},
     "output_type": "execute_result"
    }
   ],
   "source": [
    "compute_truncated_svd_recon_err(sigmas_from_pkl, 1000)"
   ]
  },
  {
   "cell_type": "code",
   "execution_count": 46,
   "id": "9a1fed29",
   "metadata": {},
   "outputs": [
    {
     "data": {
      "text/plain": [
       "74.63781969649462"
      ]
     },
     "execution_count": 46,
     "metadata": {},
     "output_type": "execute_result"
    }
   ],
   "source": [
    "np.sqrt((sigmas_from_pkl[1000:]**2).sum())"
   ]
  },
  {
   "cell_type": "code",
   "execution_count": 53,
   "id": "253ee43d",
   "metadata": {},
   "outputs": [
    {
     "data": {
      "text/html": [
       "<div>\n",
       "<style scoped>\n",
       "    .dataframe tbody tr th:only-of-type {\n",
       "        vertical-align: middle;\n",
       "    }\n",
       "\n",
       "    .dataframe tbody tr th {\n",
       "        vertical-align: top;\n",
       "    }\n",
       "\n",
       "    .dataframe thead th {\n",
       "        text-align: right;\n",
       "    }\n",
       "</style>\n",
       "<table border=\"1\" class=\"dataframe\">\n",
       "  <thead>\n",
       "    <tr style=\"text-align: right;\">\n",
       "      <th></th>\n",
       "      <th>k</th>\n",
       "      <th>SVD Reconstruction Error</th>\n",
       "    </tr>\n",
       "  </thead>\n",
       "  <tbody>\n",
       "    <tr>\n",
       "      <th>0</th>\n",
       "      <td>1</td>\n",
       "      <td>110.144529</td>\n",
       "    </tr>\n",
       "    <tr>\n",
       "      <th>1</th>\n",
       "      <td>11</td>\n",
       "      <td>107.779599</td>\n",
       "    </tr>\n",
       "    <tr>\n",
       "      <th>2</th>\n",
       "      <td>21</td>\n",
       "      <td>106.439330</td>\n",
       "    </tr>\n",
       "    <tr>\n",
       "      <th>3</th>\n",
       "      <td>31</td>\n",
       "      <td>105.399028</td>\n",
       "    </tr>\n",
       "    <tr>\n",
       "      <th>4</th>\n",
       "      <td>41</td>\n",
       "      <td>104.534186</td>\n",
       "    </tr>\n",
       "    <tr>\n",
       "      <th>5</th>\n",
       "      <td>51</td>\n",
       "      <td>103.763963</td>\n",
       "    </tr>\n",
       "    <tr>\n",
       "      <th>6</th>\n",
       "      <td>61</td>\n",
       "      <td>103.062262</td>\n",
       "    </tr>\n",
       "    <tr>\n",
       "      <th>7</th>\n",
       "      <td>71</td>\n",
       "      <td>102.412272</td>\n",
       "    </tr>\n",
       "    <tr>\n",
       "      <th>8</th>\n",
       "      <td>81</td>\n",
       "      <td>101.802566</td>\n",
       "    </tr>\n",
       "    <tr>\n",
       "      <th>9</th>\n",
       "      <td>91</td>\n",
       "      <td>101.220245</td>\n",
       "    </tr>\n",
       "    <tr>\n",
       "      <th>10</th>\n",
       "      <td>150</td>\n",
       "      <td>98.175029</td>\n",
       "    </tr>\n",
       "    <tr>\n",
       "      <th>11</th>\n",
       "      <td>200</td>\n",
       "      <td>95.960608</td>\n",
       "    </tr>\n",
       "    <tr>\n",
       "      <th>12</th>\n",
       "      <td>300</td>\n",
       "      <td>92.174912</td>\n",
       "    </tr>\n",
       "    <tr>\n",
       "      <th>13</th>\n",
       "      <td>600</td>\n",
       "      <td>83.405979</td>\n",
       "    </tr>\n",
       "    <tr>\n",
       "      <th>14</th>\n",
       "      <td>1000</td>\n",
       "      <td>74.637820</td>\n",
       "    </tr>\n",
       "  </tbody>\n",
       "</table>\n",
       "</div>"
      ],
      "text/plain": [
       "       k  SVD Reconstruction Error\n",
       "0      1                110.144529\n",
       "1     11                107.779599\n",
       "2     21                106.439330\n",
       "3     31                105.399028\n",
       "4     41                104.534186\n",
       "5     51                103.763963\n",
       "6     61                103.062262\n",
       "7     71                102.412272\n",
       "8     81                101.802566\n",
       "9     91                101.220245\n",
       "10   150                 98.175029\n",
       "11   200                 95.960608\n",
       "12   300                 92.174912\n",
       "13   600                 83.405979\n",
       "14  1000                 74.637820"
      ]
     },
     "execution_count": 53,
     "metadata": {},
     "output_type": "execute_result"
    }
   ],
   "source": [
    "nmf_test_kvals =[1, 11, 21, 31, 41, 51, 61, 71, 81, 91, 150, 200, 300, 600,1000]\n",
    "\n",
    "svd_results_df = svd_k_search(U_from_pkl, sigmas_from_pkl, V_T_from_pkl, nmf_test_kvals)\n",
    "\n",
    "svd_results_df.rename(columns={'Reconstruction Error': 'SVD Reconstruction Error'})"
   ]
  },
  {
   "cell_type": "code",
   "execution_count": 64,
   "id": "00e6f83a",
   "metadata": {},
   "outputs": [
    {
     "data": {
      "text/html": [
       "<div>\n",
       "<style scoped>\n",
       "    .dataframe tbody tr th:only-of-type {\n",
       "        vertical-align: middle;\n",
       "    }\n",
       "\n",
       "    .dataframe tbody tr th {\n",
       "        vertical-align: top;\n",
       "    }\n",
       "\n",
       "    .dataframe thead th {\n",
       "        text-align: right;\n",
       "    }\n",
       "</style>\n",
       "<table border=\"1\" class=\"dataframe\">\n",
       "  <thead>\n",
       "    <tr style=\"text-align: right;\">\n",
       "      <th></th>\n",
       "      <th>k</th>\n",
       "      <th>SVD Reconstruction Err</th>\n",
       "      <th>NMF_Reconstruction_Err</th>\n",
       "    </tr>\n",
       "  </thead>\n",
       "  <tbody>\n",
       "    <tr>\n",
       "      <th>0</th>\n",
       "      <td>1</td>\n",
       "      <td>110.144529</td>\n",
       "      <td>110.144529</td>\n",
       "    </tr>\n",
       "    <tr>\n",
       "      <th>1</th>\n",
       "      <td>11</td>\n",
       "      <td>107.779599</td>\n",
       "      <td>107.913440</td>\n",
       "    </tr>\n",
       "    <tr>\n",
       "      <th>2</th>\n",
       "      <td>21</td>\n",
       "      <td>106.439330</td>\n",
       "      <td>106.654441</td>\n",
       "    </tr>\n",
       "    <tr>\n",
       "      <th>3</th>\n",
       "      <td>31</td>\n",
       "      <td>105.399028</td>\n",
       "      <td>105.645614</td>\n",
       "    </tr>\n",
       "    <tr>\n",
       "      <th>4</th>\n",
       "      <td>41</td>\n",
       "      <td>104.534186</td>\n",
       "      <td>104.850667</td>\n",
       "    </tr>\n",
       "    <tr>\n",
       "      <th>5</th>\n",
       "      <td>51</td>\n",
       "      <td>103.763963</td>\n",
       "      <td>104.131178</td>\n",
       "    </tr>\n",
       "    <tr>\n",
       "      <th>6</th>\n",
       "      <td>61</td>\n",
       "      <td>103.062262</td>\n",
       "      <td>103.483230</td>\n",
       "    </tr>\n",
       "    <tr>\n",
       "      <th>7</th>\n",
       "      <td>71</td>\n",
       "      <td>102.412272</td>\n",
       "      <td>102.899553</td>\n",
       "    </tr>\n",
       "    <tr>\n",
       "      <th>8</th>\n",
       "      <td>81</td>\n",
       "      <td>101.802566</td>\n",
       "      <td>102.352255</td>\n",
       "    </tr>\n",
       "    <tr>\n",
       "      <th>9</th>\n",
       "      <td>91</td>\n",
       "      <td>101.220245</td>\n",
       "      <td>101.821737</td>\n",
       "    </tr>\n",
       "    <tr>\n",
       "      <th>10</th>\n",
       "      <td>150</td>\n",
       "      <td>98.175029</td>\n",
       "      <td>99.060629</td>\n",
       "    </tr>\n",
       "    <tr>\n",
       "      <th>11</th>\n",
       "      <td>200</td>\n",
       "      <td>95.960608</td>\n",
       "      <td>97.013592</td>\n",
       "    </tr>\n",
       "    <tr>\n",
       "      <th>12</th>\n",
       "      <td>300</td>\n",
       "      <td>92.174912</td>\n",
       "      <td>93.566469</td>\n",
       "    </tr>\n",
       "    <tr>\n",
       "      <th>13</th>\n",
       "      <td>600</td>\n",
       "      <td>83.405979</td>\n",
       "      <td>85.769618</td>\n",
       "    </tr>\n",
       "    <tr>\n",
       "      <th>14</th>\n",
       "      <td>1000</td>\n",
       "      <td>74.637820</td>\n",
       "      <td>77.819292</td>\n",
       "    </tr>\n",
       "  </tbody>\n",
       "</table>\n",
       "</div>"
      ],
      "text/plain": [
       "       k  SVD Reconstruction Err  NMF_Reconstruction_Err\n",
       "0      1              110.144529              110.144529\n",
       "1     11              107.779599              107.913440\n",
       "2     21              106.439330              106.654441\n",
       "3     31              105.399028              105.645614\n",
       "4     41              104.534186              104.850667\n",
       "5     51              103.763963              104.131178\n",
       "6     61              103.062262              103.483230\n",
       "7     71              102.412272              102.899553\n",
       "8     81              101.802566              102.352255\n",
       "9     91              101.220245              101.821737\n",
       "10   150               98.175029               99.060629\n",
       "11   200               95.960608               97.013592\n",
       "12   300               92.174912               93.566469\n",
       "13   600               83.405979               85.769618\n",
       "14  1000               74.637820               77.819292"
      ]
     },
     "execution_count": 64,
     "metadata": {},
     "output_type": "execute_result"
    }
   ],
   "source": [
    "results_df = svd_results_df.rename(columns={'Reconstruction Error': 'SVD Reconstruction Err'})\n",
    "results_df['NMF_Reconstruction_Err'] = list(nmf_full_results_df['Reconstruction Error'])\n",
    "results_df"
   ]
  },
  {
   "cell_type": "code",
   "execution_count": 65,
   "id": "37fb5675",
   "metadata": {},
   "outputs": [
    {
     "data": {
      "text/html": [
       "<div>\n",
       "<style scoped>\n",
       "    .dataframe tbody tr th:only-of-type {\n",
       "        vertical-align: middle;\n",
       "    }\n",
       "\n",
       "    .dataframe tbody tr th {\n",
       "        vertical-align: top;\n",
       "    }\n",
       "\n",
       "    .dataframe thead th {\n",
       "        text-align: right;\n",
       "    }\n",
       "</style>\n",
       "<table border=\"1\" class=\"dataframe\">\n",
       "  <thead>\n",
       "    <tr style=\"text-align: right;\">\n",
       "      <th></th>\n",
       "      <th>k</th>\n",
       "      <th>Reconstruction Error</th>\n",
       "    </tr>\n",
       "  </thead>\n",
       "  <tbody>\n",
       "    <tr>\n",
       "      <th>0</th>\n",
       "      <td>1</td>\n",
       "      <td>110.144529</td>\n",
       "    </tr>\n",
       "    <tr>\n",
       "      <th>1</th>\n",
       "      <td>11</td>\n",
       "      <td>107.779599</td>\n",
       "    </tr>\n",
       "    <tr>\n",
       "      <th>2</th>\n",
       "      <td>21</td>\n",
       "      <td>106.439330</td>\n",
       "    </tr>\n",
       "    <tr>\n",
       "      <th>3</th>\n",
       "      <td>31</td>\n",
       "      <td>105.399028</td>\n",
       "    </tr>\n",
       "    <tr>\n",
       "      <th>4</th>\n",
       "      <td>41</td>\n",
       "      <td>104.534186</td>\n",
       "    </tr>\n",
       "    <tr>\n",
       "      <th>5</th>\n",
       "      <td>51</td>\n",
       "      <td>103.763963</td>\n",
       "    </tr>\n",
       "    <tr>\n",
       "      <th>6</th>\n",
       "      <td>61</td>\n",
       "      <td>103.062262</td>\n",
       "    </tr>\n",
       "    <tr>\n",
       "      <th>7</th>\n",
       "      <td>71</td>\n",
       "      <td>102.412272</td>\n",
       "    </tr>\n",
       "    <tr>\n",
       "      <th>8</th>\n",
       "      <td>81</td>\n",
       "      <td>101.802566</td>\n",
       "    </tr>\n",
       "    <tr>\n",
       "      <th>9</th>\n",
       "      <td>91</td>\n",
       "      <td>101.220245</td>\n",
       "    </tr>\n",
       "    <tr>\n",
       "      <th>10</th>\n",
       "      <td>150</td>\n",
       "      <td>98.175029</td>\n",
       "    </tr>\n",
       "    <tr>\n",
       "      <th>11</th>\n",
       "      <td>200</td>\n",
       "      <td>95.960608</td>\n",
       "    </tr>\n",
       "    <tr>\n",
       "      <th>12</th>\n",
       "      <td>300</td>\n",
       "      <td>92.174912</td>\n",
       "    </tr>\n",
       "    <tr>\n",
       "      <th>13</th>\n",
       "      <td>600</td>\n",
       "      <td>83.405979</td>\n",
       "    </tr>\n",
       "    <tr>\n",
       "      <th>14</th>\n",
       "      <td>1000</td>\n",
       "      <td>74.637820</td>\n",
       "    </tr>\n",
       "  </tbody>\n",
       "</table>\n",
       "</div>"
      ],
      "text/plain": [
       "       k  Reconstruction Error\n",
       "0      1            110.144529\n",
       "1     11            107.779599\n",
       "2     21            106.439330\n",
       "3     31            105.399028\n",
       "4     41            104.534186\n",
       "5     51            103.763963\n",
       "6     61            103.062262\n",
       "7     71            102.412272\n",
       "8     81            101.802566\n",
       "9     91            101.220245\n",
       "10   150             98.175029\n",
       "11   200             95.960608\n",
       "12   300             92.174912\n",
       "13   600             83.405979\n",
       "14  1000             74.637820"
      ]
     },
     "execution_count": 65,
     "metadata": {},
     "output_type": "execute_result"
    }
   ],
   "source": [
    "#rereun this when you have bandwidth\n",
    "more_svd_kvals = [1,2,4,8,16,32,64,128,256,512,1024,2048,4096]\n",
    "more_svd_results_df = svd_k_search(U_from_pkl, sigmas_from_pkl, V_T_from_pkl, more_svd_kvals)\n",
    "more_svd_results_df"
   ]
  },
  {
   "cell_type": "code",
   "execution_count": 75,
   "id": "b6be15a7",
   "metadata": {},
   "outputs": [
    {
     "data": {
      "image/png": "[encoded data removed]",
      "text/plain": [
       "<Figure size 432x288 with 1 Axes>"
      ]
     },
     "metadata": {
      "needs_background": "light"
     },
     "output_type": "display_data"
    }
   ],
   "source": [
    "fig2 = plt.figure(23)\n",
    "ax2 = plt.subplot(111)\n",
    "ax2.plot(\n",
    "    np.arange(1,12432,1), sigmas_from_pkl, 'b.')\n",
    "ax2.set_title('Singluar Values of the TF-IDF Matrix')\n",
    "ax2.set_xlabel('Number')\n",
    "ax2.set_ylabel('Singular Value')\n",
    "ax2.axis([-150, 12432 , 0, 20])\n",
    "plt.show()"
   ]
  },
  {
   "cell_type": "code",
   "execution_count": 89,
   "id": "a4820b62",
   "metadata": {},
   "outputs": [
    {
     "data": {
      "image/png": "[encoded data removed]",
      "text/plain": [
       "<Figure size 432x288 with 1 Axes>"
      ]
     },
     "metadata": {
      "needs_background": "light"
     },
     "output_type": "display_data"
    }
   ],
   "source": [
    "fig3 = plt.figure(23)\n",
    "ax3 = plt.subplot(111)\n",
    "ax3.plot(\n",
    "    np.arange(1,12432,1), sigmas_from_pkl, 'b.')\n",
    "ax3.set_title('Zooming In on Singluar Values of the TF-IDF Matrix')\n",
    "ax3.set_xlabel('Number')\n",
    "ax3.set_ylabel('Singular Value')\n",
    "ax3.axis([-150, 12432 , 0, 5])\n",
    "plt.show()"
   ]
  },
  {
   "cell_type": "code",
   "execution_count": 90,
   "id": "85c5632b",
   "metadata": {},
   "outputs": [
    {
     "data": {
      "image/png": "[encoded data removed]",
      "text/plain": [
       "<Figure size 432x288 with 1 Axes>"
      ]
     },
     "metadata": {
      "needs_background": "light"
     },
     "output_type": "display_data"
    }
   ],
   "source": [
    "fig4 = plt.figure(23)\n",
    "ax4 = plt.subplot(111)\n",
    "ax4.plot(\n",
    "    np.arange(1,12432,1), sigmas_from_pkl, 'b.')\n",
    "ax4.set_title('Zooming In on Singluar Values of the TF-IDF Matrix')\n",
    "ax4.set_xlabel('Number')\n",
    "ax4.set_ylabel('Singular Value')\n",
    "ax4.axis([-150, 6000 , 0, 3])\n",
    "plt.show()"
   ]
  },
  {
   "cell_type": "markdown",
   "id": "311bf328",
   "metadata": {},
   "source": [
    "Based on these plots, it appears the \"elbow\" of the scree plot occurs around the 1000th singular values. Meaning the optimal value of k for truncated SVD feature reduction is ~1000"
   ]
  },
  {
   "cell_type": "code",
   "execution_count": 69,
   "id": "a315a4e0",
   "metadata": {},
   "outputs": [
    {
     "data": {
      "text/html": [
       "<div>\n",
       "<style scoped>\n",
       "    .dataframe tbody tr th:only-of-type {\n",
       "        vertical-align: middle;\n",
       "    }\n",
       "\n",
       "    .dataframe tbody tr th {\n",
       "        vertical-align: top;\n",
       "    }\n",
       "\n",
       "    .dataframe thead th {\n",
       "        text-align: right;\n",
       "    }\n",
       "</style>\n",
       "<table border=\"1\" class=\"dataframe\">\n",
       "  <thead>\n",
       "    <tr style=\"text-align: right;\">\n",
       "      <th></th>\n",
       "      <th>k</th>\n",
       "      <th>recon_err</th>\n",
       "      <th>pct_explained</th>\n",
       "    </tr>\n",
       "  </thead>\n",
       "  <tbody>\n",
       "    <tr>\n",
       "      <th>0</th>\n",
       "      <td>1</td>\n",
       "      <td>110.144529</td>\n",
       "      <td>0.012147</td>\n",
       "    </tr>\n",
       "    <tr>\n",
       "      <th>1</th>\n",
       "      <td>2</td>\n",
       "      <td>109.774236</td>\n",
       "      <td>0.015468</td>\n",
       "    </tr>\n",
       "    <tr>\n",
       "      <th>2</th>\n",
       "      <td>3</td>\n",
       "      <td>109.451020</td>\n",
       "      <td>0.018367</td>\n",
       "    </tr>\n",
       "    <tr>\n",
       "      <th>3</th>\n",
       "      <td>4</td>\n",
       "      <td>109.152833</td>\n",
       "      <td>0.021041</td>\n",
       "    </tr>\n",
       "    <tr>\n",
       "      <th>4</th>\n",
       "      <td>5</td>\n",
       "      <td>108.906149</td>\n",
       "      <td>0.023253</td>\n",
       "    </tr>\n",
       "    <tr>\n",
       "      <th>5</th>\n",
       "      <td>6</td>\n",
       "      <td>108.681007</td>\n",
       "      <td>0.025273</td>\n",
       "    </tr>\n",
       "  </tbody>\n",
       "</table>\n",
       "</div>"
      ],
      "text/plain": [
       "   k   recon_err  pct_explained\n",
       "0  1  110.144529       0.012147\n",
       "1  2  109.774236       0.015468\n",
       "2  3  109.451020       0.018367\n",
       "3  4  109.152833       0.021041\n",
       "4  5  108.906149       0.023253\n",
       "5  6  108.681007       0.025273"
      ]
     },
     "execution_count": 69,
     "metadata": {},
     "output_type": "execute_result"
    }
   ],
   "source": [
    "err_df = pd.DataFrame(np.arange(1,12432,1),columns=['k'])\n",
    "err_df['recon_err'] = ndf['k'].apply(lambda x : compute_truncated_svd_recon_err(sigmas_from_pkl,x))\n",
    "total_recon_err = compute_truncated_svd_recon_err(sigmas_from_pkl,0)\n",
    "err_df['pct_explained'] = 1 - (err_df['recon_err'] / total_recon_err)\n",
    "err_df.head(6)\n"
   ]
  },
  {
   "cell_type": "code",
   "execution_count": 80,
   "id": "544d4fdd",
   "metadata": {},
   "outputs": [
    {
     "data": {
      "image/png": "[encoded data removed]",
      "text/plain": [
       "<Figure size 432x288 with 1 Axes>"
      ]
     },
     "metadata": {
      "needs_background": "light"
     },
     "output_type": "display_data"
    }
   ],
   "source": [
    "fig5 = plt.figure(23)\n",
    "ax5 = plt.subplot(111)\n",
    "ax5.plot(\n",
    "    err_df['k'], err_df['recon_err'], 'r.')\n",
    "ax5.set_title('Reconstruction error at truncated k')\n",
    "ax5.set_xlabel('k')\n",
    "ax5.set_ylabel('Recon error')\n",
    "ax5.axis([-150, 12500 , 0, 120])\n",
    "plt.show()"
   ]
  },
  {
   "cell_type": "code",
   "execution_count": 81,
   "id": "0b8d86da",
   "metadata": {},
   "outputs": [
    {
     "data": {
      "image/png": "[encoded data removed]",
      "text/plain": [
       "<Figure size 432x288 with 1 Axes>"
      ]
     },
     "metadata": {
      "needs_background": "light"
     },
     "output_type": "display_data"
    }
   ],
   "source": [
    "fig6 = plt.figure(23)\n",
    "ax6 = plt.subplot(111)\n",
    "ax6.plot(\n",
    "    err_df['k'], err_df['pct_explained'], 'g.')\n",
    "ax6.set_title('Reconstruction error at truncated k')\n",
    "ax6.set_xlabel('k')\n",
    "ax6.set_ylabel('Recon error')\n",
    "ax6.axis([-150, 12500 , 0, 1])\n",
    "plt.show()"
   ]
  },
  {
   "cell_type": "code",
   "execution_count": 79,
   "id": "42fb67e8",
   "metadata": {},
   "outputs": [
    {
     "name": "stderr",
     "output_type": "stream",
     "text": [
      "/var/folders/yq/5fk4pl911495z8dhwm2zjsqc0000gn/T/ipykernel_39952/1509173999.py:4: RuntimeWarning: divide by zero encountered in log\n",
      "  np.arange(1,12432,1), np.log(sigmas_from_pkl), 'b.')\n"
     ]
    },
    {
     "data": {
      "image/png": "[encoded data removed]",
      "text/plain": [
       "<Figure size 432x288 with 1 Axes>"
      ]
     },
     "metadata": {
      "needs_background": "light"
     },
     "output_type": "display_data"
    }
   ],
   "source": [
    "fig2 = plt.figure(23)\n",
    "ax2 = plt.subplot(111)\n",
    "ax2.plot(\n",
    "    np.arange(1,12432,1), np.log(sigmas_from_pkl), 'b.')\n",
    "ax2.set_title('Singluar Values of the TF-IDF Matrix')\n",
    "ax2.set_xlabel('Number')\n",
    "ax2.set_ylabel('Log(Singular Value)')\n",
    "ax2.axis([-150, 12500 , -10, 4])\n",
    "plt.show()"
   ]
  },
  {
   "cell_type": "code",
   "execution_count": 85,
   "id": "192121cb",
   "metadata": {},
   "outputs": [],
   "source": [
    "def omega_approx(beta):\n",
    "    \"\"\"Return an approximate omega value for given beta. Equation (5) from Gavish 2014.\"\"\"\n",
    "    return 0.56 * beta**3 - 0.95 * beta**2 + 1.82 * beta + 1.43\n",
    "\n",
    "def svht(X, sigma=None, sv=None):\n",
    "    \"\"\"Return the optimal singular value hard threshold (SVHT) value.\n",
    "    `X` is any m-by-n matrix. `sigma` is the standard deviation of the \n",
    "    noise, if known. Optionally supply the vector of singular values `sv`\n",
    "    for the matrix (only necessary when `sigma` is unknown). If `sigma`\n",
    "    is unknown and `sv` is not supplied, then the method automatically\n",
    "    computes the singular values.\"\"\"\n",
    "\n",
    "    try:\n",
    "        m,n = sorted(X.shape) # ensures m <= n\n",
    "    except:\n",
    "        raise ValueError('invalid input matrix')\n",
    "    beta = m / n # ratio between 0 and 1\n",
    "    if sigma is None: # sigma unknown\n",
    "        if sv is None:\n",
    "            sv = svdvals(X)\n",
    "        sv = np.squeeze(sv)\n",
    "        if sv.ndim != 1:\n",
    "            raise ValueError('vector of singular values must be 1-dimensional')\n",
    "        return np.median(sv) * omega_approx(beta)\n",
    "    else: # sigma known\n",
    "        return lambda_star(beta) * np.sqrt(n) * sigma"
   ]
  },
  {
   "cell_type": "code",
   "execution_count": 87,
   "id": "834b2f2e",
   "metadata": {},
   "outputs": [
    {
     "data": {
      "text/plain": [
       "1.1145142456140364"
      ]
     },
     "execution_count": 87,
     "metadata": {},
     "output_type": "execute_result"
    }
   ],
   "source": [
    "tau = svht(tfidf_train_matrix, sv=sigmas_from_pkl)\n",
    "tau"
   ]
  },
  {
   "cell_type": "code",
   "execution_count": 98,
   "id": "5c8fd2b1",
   "metadata": {},
   "outputs": [
    {
     "data": {
      "text/plain": [
       "2299"
      ]
     },
     "execution_count": 98,
     "metadata": {},
     "output_type": "execute_result"
    }
   ],
   "source": [
    "(sigmas_from_pkl > tau).sum()"
   ]
  },
  {
   "cell_type": "code",
   "execution_count": 99,
   "id": "54756227",
   "metadata": {},
   "outputs": [
    {
     "data": {
      "text/plain": [
       "1.1140157508082946"
      ]
     },
     "execution_count": 99,
     "metadata": {},
     "output_type": "execute_result"
    }
   ],
   "source": [
    "sigmas_from_pkl[2299]"
   ]
  }
 ],
 "metadata": {
  "kernelspec": {
   "display_name": "Python 3.9.7 64-bit",
   "language": "python",
   "name": "python397jvsc74a57bd0b0fa6594d8f4cbf19f97940f81e996739fb7646882a419484c72d19e05852a7e"
  },
  "language_info": {
   "codemirror_mode": {
    "name": "ipython",
    "version": 3
   },
   "file_extension": ".py",
   "mimetype": "text/x-python",
   "name": "python",
   "nbconvert_exporter": "python",
   "pygments_lexer": "ipython3",
   "version": "3.9.7"
  }
 },
 "nbformat": 4,
 "nbformat_minor": 5
}
