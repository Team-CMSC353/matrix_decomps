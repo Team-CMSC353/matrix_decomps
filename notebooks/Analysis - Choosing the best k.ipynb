{
 "cells": [
  {
   "cell_type": "markdown",
   "id": "5894ffe3",
   "metadata": {},
   "source": [
    "## SVD/PCA/NMF and choosing the best k (reduced feature dimension)"
   ]
  },
  {
   "cell_type": "code",
   "execution_count": 29,
   "id": "e7123038",
   "metadata": {},
   "outputs": [],
   "source": [
    "import os\n",
    "import sys\n",
    "parent_dr = os.path.split(os.getcwd())[0]\n",
    "if parent_dr not in sys.path:\n",
    "    sys.path.append(parent_dr)"
   ]
  },
  {
   "cell_type": "code",
   "execution_count": 30,
   "id": "59f13138",
   "metadata": {},
   "outputs": [
    {
     "name": "stdout",
     "output_type": "stream",
     "text": [
      "The autoreload extension is already loaded. To reload it, use:\n",
      "  %reload_ext autoreload\n"
     ]
    }
   ],
   "source": [
    "%load_ext autoreload\n",
    "%autoreload 2\n",
    "\n",
    "import scipy.sparse as sp\n",
    "import scipy.linalg as sla\n",
    "import pandas as pd\n",
    "from sklearn.decomposition import NMF, TruncatedSVD\n",
    "import numpy.linalg as la\n",
    "import matplotlib . pyplot as plt # plots\n",
    "from time import time\n",
    "from core.data.arxiv_data_io import *\n",
    "from core.data.text.tf_idf_helpers import *\n",
    "from core.matrix.svd_decomposition_helpers import *\n",
    "from core.matrix.nmf_decompositions import *"
   ]
  },
  {
   "cell_type": "code",
   "execution_count": 3,
   "id": "0862677f",
   "metadata": {},
   "outputs": [],
   "source": [
    "pd.set_option('display.max_columns', None)\n",
    "pd.set_option('display.max_rows', None)\n",
    "pd.set_option('display.max_colwidth', None)"
   ]
  },
  {
   "cell_type": "code",
   "execution_count": 4,
   "id": "95f4c88f",
   "metadata": {},
   "outputs": [],
   "source": [
    "#reading in the full arXiv subset df\n",
    "file_name = \"tokenized_arxiv_subset_15540.pkl\"\n",
    "full_path = os.path.join(parent_dr, \"core\", \"resources\", file_name)\n",
    "data_df = pd.read_pickle(full_path)"
   ]
  },
  {
   "cell_type": "code",
   "execution_count": 5,
   "id": "a90ae3dc",
   "metadata": {},
   "outputs": [
    {
     "data": {
      "text/html": [
       "<div>\n",
       "<style scoped>\n",
       "    .dataframe tbody tr th:only-of-type {\n",
       "        vertical-align: middle;\n",
       "    }\n",
       "\n",
       "    .dataframe tbody tr th {\n",
       "        vertical-align: top;\n",
       "    }\n",
       "\n",
       "    .dataframe thead th {\n",
       "        text-align: right;\n",
       "    }\n",
       "</style>\n",
       "<table border=\"1\" class=\"dataframe\">\n",
       "  <thead>\n",
       "    <tr style=\"text-align: right;\">\n",
       "      <th></th>\n",
       "      <th>id</th>\n",
       "      <th>authors</th>\n",
       "      <th>title</th>\n",
       "      <th>categories</th>\n",
       "      <th>abstract</th>\n",
       "      <th>update_dt</th>\n",
       "      <th>clean</th>\n",
       "      <th>tokens</th>\n",
       "    </tr>\n",
       "  </thead>\n",
       "  <tbody>\n",
       "    <tr>\n",
       "      <th>0</th>\n",
       "      <td>0704.0648</td>\n",
       "      <td>Kaushik Majumdar</td>\n",
       "      <td>Behavioral response to strong aversive stimuli: A neurodynamical model</td>\n",
       "      <td>q-bio.NC</td>\n",
       "      <td>In this paper a theoretical model of functioning of a neural circuit during a\\nbehavioral response has been proposed. A neural circuit can be thought of as a\\ndirected multigraph whose each vertex is a neuron and each edge is a synapse.\\nIt has been assumed in this paper that the behavior of such circuits is\\nmanifested through the collective behavior of neurons belonging to that\\ncircuit. Behavioral information of each neuron is contained in the coefficients\\nof the fast Fourier transform (FFT) over the output spike train. Those\\ncoefficients form a vector in a multidimensional vector space. Behavioral\\ndynamics of a neuronal network in response to strong aversive stimuli has been\\nstudied in a vector space in which a suitable pseudometric has been defined.\\nThe neurodynamical model of network behavior has been formulated in terms of\\nexisting memory, synaptic plasticity and feelings. The model has an analogy in\\nclassical electrostatics, by which the notion of force and potential energy has\\nbeen introduced. Since the model takes input from each neuron in a network and\\nproduces a behavior as the output, it would be extremely difficult or may even\\nbe impossible to implement. But with the help of the model a possible\\nexplanation for an hitherto unexplained neurological observation in human brain\\nhas been offered. The model is compatible with a recent model of sequential\\nbehavioral dynamics. The model is based on electrophysiology, but its relevance\\nto hemodynamics has been outlined.\\n</td>\n",
       "      <td>2007-05-23</td>\n",
       "      <td>in this paper a theoretical model of functioning of a neural circuit during a behavioral response has been proposed a neural circuit can be thought of as a directed multigraph whose each vertex is a neuron and each edge is a synapse it has been assumed in this paper that the behavior of such circuits is manifested through the collective behavior of neurons belonging to that circuit behavioral information of each neuron is contained in the coefficients of the fast fourier transform fft over the output spike train those coefficients form a vector in a multidimensional vector space behavioral dynamics of a neuronal network in response to strong aversive stimuli has been studied in a vector space in which a suitable pseudometric has been defined the neurodynamical model of network behavior has been formulated in terms of existing memory synaptic plasticity and feelings the model has an analogy in classical electrostatics by which the notion of force and potential energy has been introduced since the model takes input from each neuron in a network and produces a behavior as the output it would be extremely difficult or may even be impossible to implement but with the help of the model a possible explanation for an hitherto unexplained neurological observation in human brain has been offered the model is compatible with a recent model of sequential behavioral dynamics the model is based on electrophysiology but its relevance to hemodynamics has been outlined</td>\n",
       "      <td>[paper, theoretical, model, functioning, neural, circuit, behavioral, response, propose, neural, circuit, think, direct, multigraph, vertex, neuron, edge, synapse, assume, paper, behavior, circuit, manifest, collective, behavior, neuron, belong, circuit, behavioral, information, neuron, contain, coefficient, fast, fourier, transform, fft, output, spike, train, coefficient, form, vector, multidimensional, vector, space, behavioral, dynamic, neuronal, network, response, strong, aversive, stimulus, study, vector, space, suitable, pseudometric, define, neurodynamical, model, network, behavior, formulate, term, exist, memory, synaptic, plasticity, feeling, model, analogy, classical, electrostatic, notion, force, potential, energy, introduce, model, take, input, neuron, network, produce, behavior, output, extremely, difficult, impossible, implement, help, model, possible, explanation, hitherto, unexplained, neurological, observation, ...]</td>\n",
       "    </tr>\n",
       "    <tr>\n",
       "      <th>1</th>\n",
       "      <td>0704.1394</td>\n",
       "      <td>Tarik Hadzic, Rune Moller Jensen, Henrik Reif Andersen</td>\n",
       "      <td>Calculating Valid Domains for BDD-Based Interactive Configuration</td>\n",
       "      <td>cs.AI</td>\n",
       "      <td>In these notes we formally describe the functionality of Calculating Valid\\nDomains from the BDD representing the solution space of valid configurations.\\nThe formalization is largely based on the CLab configuration framework.\\n</td>\n",
       "      <td>2007-05-23</td>\n",
       "      <td>in these notes we formally describe the functionality of calculating valid domains from the bdd representing the solution space of valid configurations the formalization is largely based on the clab configuration framework</td>\n",
       "      <td>[note, formally, describe, functionality, calculate, valid, domain, bdd, represent, solution, space, valid, configuration, formalization, largely, base, clab, configuration, framework]</td>\n",
       "    </tr>\n",
       "  </tbody>\n",
       "</table>\n",
       "</div>"
      ],
      "text/plain": [
       "          id                                                 authors  \\\n",
       "0  0704.0648                                        Kaushik Majumdar   \n",
       "1  0704.1394  Tarik Hadzic, Rune Moller Jensen, Henrik Reif Andersen   \n",
       "\n",
       "                                                                    title  \\\n",
       "0  Behavioral response to strong aversive stimuli: A neurodynamical model   \n",
       "1       Calculating Valid Domains for BDD-Based Interactive Configuration   \n",
       "\n",
       "  categories  \\\n",
       "0   q-bio.NC   \n",
       "1      cs.AI   \n",
       "\n",
       "                                                                                                                                                                                                                                                                                                                                                                                                                                                                                                                                                                                                                                                                                                                                                                                                                                                                                                                                                                                                                                                                                                                                                                                                                                                                                                                                                                                                                                                                                                                                                                        abstract  \\\n",
       "0    In this paper a theoretical model of functioning of a neural circuit during a\\nbehavioral response has been proposed. A neural circuit can be thought of as a\\ndirected multigraph whose each vertex is a neuron and each edge is a synapse.\\nIt has been assumed in this paper that the behavior of such circuits is\\nmanifested through the collective behavior of neurons belonging to that\\ncircuit. Behavioral information of each neuron is contained in the coefficients\\nof the fast Fourier transform (FFT) over the output spike train. Those\\ncoefficients form a vector in a multidimensional vector space. Behavioral\\ndynamics of a neuronal network in response to strong aversive stimuli has been\\nstudied in a vector space in which a suitable pseudometric has been defined.\\nThe neurodynamical model of network behavior has been formulated in terms of\\nexisting memory, synaptic plasticity and feelings. The model has an analogy in\\nclassical electrostatics, by which the notion of force and potential energy has\\nbeen introduced. Since the model takes input from each neuron in a network and\\nproduces a behavior as the output, it would be extremely difficult or may even\\nbe impossible to implement. But with the help of the model a possible\\nexplanation for an hitherto unexplained neurological observation in human brain\\nhas been offered. The model is compatible with a recent model of sequential\\nbehavioral dynamics. The model is based on electrophysiology, but its relevance\\nto hemodynamics has been outlined.\\n   \n",
       "1                                                                                                                                                                                                                                                                                                                                                                                                                                                                                                                                                                                                                                                                                                                                                                                                                                                                                                                                                                                                                                                                                                                                                                                                                                                                                                                                           In these notes we formally describe the functionality of Calculating Valid\\nDomains from the BDD representing the solution space of valid configurations.\\nThe formalization is largely based on the CLab configuration framework.\\n   \n",
       "\n",
       "    update_dt  \\\n",
       "0  2007-05-23   \n",
       "1  2007-05-23   \n",
       "\n",
       "                                                                                                                                                                                                                                                                                                                                                                                                                                                                                                                                                                                                                                                                                                                                                                                                                                                                                                                                                                                                                                                                                                                                                                                                                                                                                                                                                                                                                                                                                                                                  clean  \\\n",
       "0  in this paper a theoretical model of functioning of a neural circuit during a behavioral response has been proposed a neural circuit can be thought of as a directed multigraph whose each vertex is a neuron and each edge is a synapse it has been assumed in this paper that the behavior of such circuits is manifested through the collective behavior of neurons belonging to that circuit behavioral information of each neuron is contained in the coefficients of the fast fourier transform fft over the output spike train those coefficients form a vector in a multidimensional vector space behavioral dynamics of a neuronal network in response to strong aversive stimuli has been studied in a vector space in which a suitable pseudometric has been defined the neurodynamical model of network behavior has been formulated in terms of existing memory synaptic plasticity and feelings the model has an analogy in classical electrostatics by which the notion of force and potential energy has been introduced since the model takes input from each neuron in a network and produces a behavior as the output it would be extremely difficult or may even be impossible to implement but with the help of the model a possible explanation for an hitherto unexplained neurological observation in human brain has been offered the model is compatible with a recent model of sequential behavioral dynamics the model is based on electrophysiology but its relevance to hemodynamics has been outlined   \n",
       "1                                                                                                                                                                                                                                                                                                                                                                                                                                                                                                                                                                                                                                                                                                                                                                                                                                                                                                                                                                                                                                                                                                                                                                                                                                                                                                        in these notes we formally describe the functionality of calculating valid domains from the bdd representing the solution space of valid configurations the formalization is largely based on the clab configuration framework   \n",
       "\n",
       "                                                                                                                                                                                                                                                                                                                                                                                                                                                                                                                                                                                                                                                                                                                                                                                                                                                                                                                                                                               tokens  \n",
       "0  [paper, theoretical, model, functioning, neural, circuit, behavioral, response, propose, neural, circuit, think, direct, multigraph, vertex, neuron, edge, synapse, assume, paper, behavior, circuit, manifest, collective, behavior, neuron, belong, circuit, behavioral, information, neuron, contain, coefficient, fast, fourier, transform, fft, output, spike, train, coefficient, form, vector, multidimensional, vector, space, behavioral, dynamic, neuronal, network, response, strong, aversive, stimulus, study, vector, space, suitable, pseudometric, define, neurodynamical, model, network, behavior, formulate, term, exist, memory, synaptic, plasticity, feeling, model, analogy, classical, electrostatic, notion, force, potential, energy, introduce, model, take, input, neuron, network, produce, behavior, output, extremely, difficult, impossible, implement, help, model, possible, explanation, hitherto, unexplained, neurological, observation, ...]  \n",
       "1                                                                                                                                                                                                                                                                                                                                                                                                                                                                                                                                                                                                                                                                                                                                                                                            [note, formally, describe, functionality, calculate, valid, domain, bdd, represent, solution, space, valid, configuration, formalization, largely, base, clab, configuration, framework]  "
      ]
     },
     "execution_count": 5,
     "metadata": {},
     "output_type": "execute_result"
    }
   ],
   "source": [
    "data_df.head(n=2)"
   ]
  },
  {
   "cell_type": "code",
   "execution_count": 6,
   "id": "9416394b",
   "metadata": {},
   "outputs": [],
   "source": [
    "# splitting out the test and train dfs\n",
    "train_df, test_df = sample_arxiv_data_by_category(data_df)\n",
    "assert len(train_df)/len(data_df) == 0.8"
   ]
  },
  {
   "cell_type": "code",
   "execution_count": 7,
   "id": "26ce2118",
   "metadata": {},
   "outputs": [
    {
     "name": "stdout",
     "output_type": "stream",
     "text": [
      "The training df has dimensions (12432, 9)\n",
      "The testing df has dimensions (3108, 9)\n"
     ]
    }
   ],
   "source": [
    "print(f'The training df has dimensions {train_df.shape}')\n",
    "print(f'The testing df has dimensions {test_df.shape}')"
   ]
  },
  {
   "cell_type": "markdown",
   "id": "dd672bc1",
   "metadata": {},
   "source": [
    "### Compute TF-IDF Matrix"
   ]
  },
  {
   "cell_type": "code",
   "execution_count": 8,
   "id": "0a8c7c89",
   "metadata": {},
   "outputs": [],
   "source": [
    "# fit the tfidf object\n",
    "train_tokens = train_df['tokens']\n",
    "tfidf_obj, index_to_word = fit_tfidf(train_df['tokens'])"
   ]
  },
  {
   "cell_type": "code",
   "execution_count": 9,
   "id": "9c97651b",
   "metadata": {},
   "outputs": [
    {
     "name": "stdout",
     "output_type": "stream",
     "text": [
      "tfidf_obj is a <class 'sklearn.feature_extraction.text.TfidfVectorizer'> \n",
      " with a vocabulary of 30460 words\n"
     ]
    }
   ],
   "source": [
    "print(f'tfidf_obj is a {type(tfidf_obj)} \\n with a vocabulary of {len(index_to_word)} words')"
   ]
  },
  {
   "cell_type": "code",
   "execution_count": 10,
   "id": "4cb883c7",
   "metadata": {},
   "outputs": [],
   "source": [
    "# generate the tfidf matrix for the training data\n",
    "tfidf_train_matrix, index_to_doc = transform_tfidf(train_df,tfidf_obj=tfidf_obj)"
   ]
  },
  {
   "cell_type": "code",
   "execution_count": 11,
   "id": "4933bd6b",
   "metadata": {},
   "outputs": [
    {
     "name": "stdout",
     "output_type": "stream",
     "text": [
      "The TF-IDF matrix is a sparse matrix with dimensions: (12432, 30460)\n"
     ]
    }
   ],
   "source": [
    "print(f'The TF-IDF matrix is a sparse matrix with dimensions: {tfidf_train_matrix.shape}')"
   ]
  },
  {
   "cell_type": "markdown",
   "id": "4752b550",
   "metadata": {},
   "source": [
    "### NMF Decomposition"
   ]
  },
  {
   "cell_type": "code",
   "execution_count": 15,
   "id": "87f9afd4",
   "metadata": {},
   "outputs": [
    {
     "name": "stdout",
     "output_type": "stream",
     "text": [
      "Now fitting NMF for k =1...\n",
      "[1, 110.14452881562842, 7, 0.139725923538208]\n",
      "Now fitting NMF for k =11...\n",
      "[11, 107.91344005912548, 84, 1.0930120944976807]\n",
      "Now fitting NMF for k =21...\n",
      "[21, 106.65444060143894, 102, 2.466398000717163]\n",
      "Now fitting NMF for k =31...\n",
      "[31, 105.64561412128835, 216, 8.840849876403809]\n",
      "Now fitting NMF for k =41...\n",
      "[41, 104.85066663282167, 191, 14.576015949249268]\n",
      "Now fitting NMF for k =51...\n",
      "[51, 104.13117787951383, 274, 29.192205905914307]\n",
      "Now fitting NMF for k =61...\n",
      "[61, 103.48323030595336, 117, 19.17770504951477]\n",
      "Now fitting NMF for k =71...\n",
      "[71, 102.8995530403503, 173, 44.91907000541687]\n",
      "Now fitting NMF for k =81...\n",
      "[81, 102.35225469096571, 192, 66.88933610916138]\n",
      "Now fitting NMF for k =91...\n",
      "[91, 101.82173660291447, 273, 125.00171995162964]\n"
     ]
    },
    {
     "data": {
      "text/html": [
       "<div>\n",
       "<style scoped>\n",
       "    .dataframe tbody tr th:only-of-type {\n",
       "        vertical-align: middle;\n",
       "    }\n",
       "\n",
       "    .dataframe tbody tr th {\n",
       "        vertical-align: top;\n",
       "    }\n",
       "\n",
       "    .dataframe thead th {\n",
       "        text-align: right;\n",
       "    }\n",
       "</style>\n",
       "<table border=\"1\" class=\"dataframe\">\n",
       "  <thead>\n",
       "    <tr style=\"text-align: right;\">\n",
       "      <th></th>\n",
       "      <th>k</th>\n",
       "      <th>Reconstruction Error</th>\n",
       "      <th>Iterations to convergence</th>\n",
       "      <th>Time to converge (secs)</th>\n",
       "    </tr>\n",
       "  </thead>\n",
       "  <tbody>\n",
       "    <tr>\n",
       "      <th>0</th>\n",
       "      <td>1</td>\n",
       "      <td>110.144529</td>\n",
       "      <td>7</td>\n",
       "      <td>0.139726</td>\n",
       "    </tr>\n",
       "    <tr>\n",
       "      <th>1</th>\n",
       "      <td>11</td>\n",
       "      <td>107.913440</td>\n",
       "      <td>84</td>\n",
       "      <td>1.093012</td>\n",
       "    </tr>\n",
       "    <tr>\n",
       "      <th>2</th>\n",
       "      <td>21</td>\n",
       "      <td>106.654441</td>\n",
       "      <td>102</td>\n",
       "      <td>2.466398</td>\n",
       "    </tr>\n",
       "    <tr>\n",
       "      <th>3</th>\n",
       "      <td>31</td>\n",
       "      <td>105.645614</td>\n",
       "      <td>216</td>\n",
       "      <td>8.840850</td>\n",
       "    </tr>\n",
       "    <tr>\n",
       "      <th>4</th>\n",
       "      <td>41</td>\n",
       "      <td>104.850667</td>\n",
       "      <td>191</td>\n",
       "      <td>14.576016</td>\n",
       "    </tr>\n",
       "    <tr>\n",
       "      <th>5</th>\n",
       "      <td>51</td>\n",
       "      <td>104.131178</td>\n",
       "      <td>274</td>\n",
       "      <td>29.192206</td>\n",
       "    </tr>\n",
       "    <tr>\n",
       "      <th>6</th>\n",
       "      <td>61</td>\n",
       "      <td>103.483230</td>\n",
       "      <td>117</td>\n",
       "      <td>19.177705</td>\n",
       "    </tr>\n",
       "    <tr>\n",
       "      <th>7</th>\n",
       "      <td>71</td>\n",
       "      <td>102.899553</td>\n",
       "      <td>173</td>\n",
       "      <td>44.919070</td>\n",
       "    </tr>\n",
       "    <tr>\n",
       "      <th>8</th>\n",
       "      <td>81</td>\n",
       "      <td>102.352255</td>\n",
       "      <td>192</td>\n",
       "      <td>66.889336</td>\n",
       "    </tr>\n",
       "    <tr>\n",
       "      <th>9</th>\n",
       "      <td>91</td>\n",
       "      <td>101.821737</td>\n",
       "      <td>273</td>\n",
       "      <td>125.001720</td>\n",
       "    </tr>\n",
       "  </tbody>\n",
       "</table>\n",
       "</div>"
      ],
      "text/plain": [
       "    k  Reconstruction Error  Iterations to convergence  \\\n",
       "0   1            110.144529                          7   \n",
       "1  11            107.913440                         84   \n",
       "2  21            106.654441                        102   \n",
       "3  31            105.645614                        216   \n",
       "4  41            104.850667                        191   \n",
       "5  51            104.131178                        274   \n",
       "6  61            103.483230                        117   \n",
       "7  71            102.899553                        173   \n",
       "8  81            102.352255                        192   \n",
       "9  91            101.821737                        273   \n",
       "\n",
       "   Time to converge (secs)  \n",
       "0                 0.139726  \n",
       "1                 1.093012  \n",
       "2                 2.466398  \n",
       "3                 8.840850  \n",
       "4                14.576016  \n",
       "5                29.192206  \n",
       "6                19.177705  \n",
       "7                44.919070  \n",
       "8                66.889336  \n",
       "9               125.001720  "
      ]
     },
     "execution_count": 15,
     "metadata": {},
     "output_type": "execute_result"
    }
   ],
   "source": [
    "# This will take a few minutes\n",
    "\n",
    "kvals_simple = list(range(1,100,10))\n",
    "simple_results = nmf_k_search(tfidf_train_matrix, kvals_simple)\n",
    "simple_results"
   ]
  },
  {
   "cell_type": "code",
   "execution_count": 12,
   "id": "01cce59c",
   "metadata": {},
   "outputs": [],
   "source": [
    "# Don't run this code it will take a very long time\n",
    "\n",
    "# larger_k_vals = [150, 200, 300, 600, 1000, 15000]\n",
    "# larger_k_results = nmf_k_search(tfidf_train_matrix, larger_k_vals)\n",
    "# larger_k_results"
   ]
  },
  {
   "cell_type": "code",
   "execution_count": 21,
   "id": "77d5d3e3",
   "metadata": {},
   "outputs": [
    {
     "name": "stdout",
     "output_type": "stream",
     "text": [
      "Reconstruction error for NMF k = 2299 is : 60.512932882382444\n"
     ]
    }
   ],
   "source": [
    "# matrix reconstruction error for serialized k = 2299\n",
    "W_2299 = np.load(\"output/W_2299.pkl\", allow_pickle=True)\n",
    "H_2299 = np.load(\"output/H_2299.pkl\", allow_pickle=True)\n",
    "X_r = W_2299 @ H_2299\n",
    "err_2299 = la.norm(tfidf_train_matrix - X_r, ord='fro')\n",
    "print(f'Reconstruction error for NMF k = 2299 is : {err_2299}')"
   ]
  },
  {
   "cell_type": "code",
   "execution_count": 22,
   "id": "ac04a992",
   "metadata": {},
   "outputs": [
    {
     "data": {
      "text/html": [
       "<div>\n",
       "<style scoped>\n",
       "    .dataframe tbody tr th:only-of-type {\n",
       "        vertical-align: middle;\n",
       "    }\n",
       "\n",
       "    .dataframe tbody tr th {\n",
       "        vertical-align: top;\n",
       "    }\n",
       "\n",
       "    .dataframe thead th {\n",
       "        text-align: right;\n",
       "    }\n",
       "</style>\n",
       "<table border=\"1\" class=\"dataframe\">\n",
       "  <thead>\n",
       "    <tr style=\"text-align: right;\">\n",
       "      <th></th>\n",
       "      <th>k</th>\n",
       "      <th>Reconstruction Error</th>\n",
       "      <th>Iterations to convergence</th>\n",
       "      <th>Time to converge (secs)</th>\n",
       "    </tr>\n",
       "  </thead>\n",
       "  <tbody>\n",
       "    <tr>\n",
       "      <th>0</th>\n",
       "      <td>1</td>\n",
       "      <td>110.144529</td>\n",
       "      <td>7.0</td>\n",
       "      <td>0.139726</td>\n",
       "    </tr>\n",
       "    <tr>\n",
       "      <th>1</th>\n",
       "      <td>11</td>\n",
       "      <td>107.913440</td>\n",
       "      <td>84.0</td>\n",
       "      <td>1.093012</td>\n",
       "    </tr>\n",
       "    <tr>\n",
       "      <th>2</th>\n",
       "      <td>21</td>\n",
       "      <td>106.654441</td>\n",
       "      <td>102.0</td>\n",
       "      <td>2.466398</td>\n",
       "    </tr>\n",
       "    <tr>\n",
       "      <th>3</th>\n",
       "      <td>31</td>\n",
       "      <td>105.645614</td>\n",
       "      <td>216.0</td>\n",
       "      <td>8.840850</td>\n",
       "    </tr>\n",
       "    <tr>\n",
       "      <th>4</th>\n",
       "      <td>41</td>\n",
       "      <td>104.850667</td>\n",
       "      <td>191.0</td>\n",
       "      <td>14.576016</td>\n",
       "    </tr>\n",
       "    <tr>\n",
       "      <th>5</th>\n",
       "      <td>51</td>\n",
       "      <td>104.131178</td>\n",
       "      <td>274.0</td>\n",
       "      <td>29.192206</td>\n",
       "    </tr>\n",
       "    <tr>\n",
       "      <th>6</th>\n",
       "      <td>61</td>\n",
       "      <td>103.483230</td>\n",
       "      <td>117.0</td>\n",
       "      <td>19.177705</td>\n",
       "    </tr>\n",
       "    <tr>\n",
       "      <th>7</th>\n",
       "      <td>71</td>\n",
       "      <td>102.899553</td>\n",
       "      <td>173.0</td>\n",
       "      <td>44.919070</td>\n",
       "    </tr>\n",
       "    <tr>\n",
       "      <th>8</th>\n",
       "      <td>81</td>\n",
       "      <td>102.352255</td>\n",
       "      <td>192.0</td>\n",
       "      <td>66.889336</td>\n",
       "    </tr>\n",
       "    <tr>\n",
       "      <th>9</th>\n",
       "      <td>91</td>\n",
       "      <td>101.821737</td>\n",
       "      <td>273.0</td>\n",
       "      <td>125.001720</td>\n",
       "    </tr>\n",
       "    <tr>\n",
       "      <th>0</th>\n",
       "      <td>150</td>\n",
       "      <td>99.060629</td>\n",
       "      <td>243.0</td>\n",
       "      <td>277.306026</td>\n",
       "    </tr>\n",
       "    <tr>\n",
       "      <th>1</th>\n",
       "      <td>200</td>\n",
       "      <td>97.013592</td>\n",
       "      <td>305.0</td>\n",
       "      <td>625.052509</td>\n",
       "    </tr>\n",
       "    <tr>\n",
       "      <th>2</th>\n",
       "      <td>300</td>\n",
       "      <td>93.566469</td>\n",
       "      <td>236.0</td>\n",
       "      <td>2153.664429</td>\n",
       "    </tr>\n",
       "    <tr>\n",
       "      <th>3</th>\n",
       "      <td>600</td>\n",
       "      <td>85.769618</td>\n",
       "      <td>119.0</td>\n",
       "      <td>1938.120636</td>\n",
       "    </tr>\n",
       "    <tr>\n",
       "      <th>4</th>\n",
       "      <td>1000</td>\n",
       "      <td>77.819292</td>\n",
       "      <td>105.0</td>\n",
       "      <td>4577.196754</td>\n",
       "    </tr>\n",
       "    <tr>\n",
       "      <th>5</th>\n",
       "      <td>2299</td>\n",
       "      <td>60.512933</td>\n",
       "      <td>NaN</td>\n",
       "      <td>NaN</td>\n",
       "    </tr>\n",
       "  </tbody>\n",
       "</table>\n",
       "</div>"
      ],
      "text/plain": [
       "      k  Reconstruction Error  Iterations to convergence  \\\n",
       "0     1            110.144529                        7.0   \n",
       "1    11            107.913440                       84.0   \n",
       "2    21            106.654441                      102.0   \n",
       "3    31            105.645614                      216.0   \n",
       "4    41            104.850667                      191.0   \n",
       "5    51            104.131178                      274.0   \n",
       "6    61            103.483230                      117.0   \n",
       "7    71            102.899553                      173.0   \n",
       "8    81            102.352255                      192.0   \n",
       "9    91            101.821737                      273.0   \n",
       "0   150             99.060629                      243.0   \n",
       "1   200             97.013592                      305.0   \n",
       "2   300             93.566469                      236.0   \n",
       "3   600             85.769618                      119.0   \n",
       "4  1000             77.819292                      105.0   \n",
       "5  2299             60.512933                        NaN   \n",
       "\n",
       "   Time to converge (secs)  \n",
       "0                 0.139726  \n",
       "1                 1.093012  \n",
       "2                 2.466398  \n",
       "3                 8.840850  \n",
       "4                14.576016  \n",
       "5                29.192206  \n",
       "6                19.177705  \n",
       "7                44.919070  \n",
       "8                66.889336  \n",
       "9               125.001720  \n",
       "0               277.306026  \n",
       "1               625.052509  \n",
       "2              2153.664429  \n",
       "3              1938.120636  \n",
       "4              4577.196754  \n",
       "5                      NaN  "
      ]
     },
     "execution_count": 22,
     "metadata": {},
     "output_type": "execute_result"
    }
   ],
   "source": [
    "#results from larger k's that I didn't save else where\n",
    "nmf_larger_results = [[150, 99.06062880181726, 243, 277.3060259819031],\n",
    "                 [200, 97.01359152285178, 305, 625.0525093078613],\n",
    "                 [300, 93.5664692723195, 236, 2153.6644287109375],\n",
    "                 [600, 85.76961768114077, 119, 1938.1206359863281],\n",
    "                 [1000, 77.81929157478947, 105, 4577.196753978729],\n",
    "                 [2299, 60.512932882382444, np.nan,np.nan]]\n",
    "\n",
    "\n",
    "nmf_larger_results_df = pd.DataFrame(nmf_larger_results, columns=['k', 'Reconstruction Error',\n",
    "                                                'Iterations to convergence',\n",
    "                                                'Time to converge (secs)'])\n",
    "nmf_full_results_df = simple_results.append(nmf_larger_results_df)\n",
    "nmf_full_results_df"
   ]
  },
  {
   "cell_type": "code",
   "execution_count": 26,
   "id": "ff8e0304",
   "metadata": {},
   "outputs": [
    {
     "data": {
      "image/png": "[encoded data removed]",
      "text/plain": [
       "<Figure size 432x288 with 1 Axes>"
      ]
     },
     "metadata": {
      "needs_background": "light"
     },
     "output_type": "display_data"
    }
   ],
   "source": [
    "fig1 = plt.figure(23)\n",
    "ax1 = plt.subplot(111)\n",
    "ax1.plot(\n",
    "    nmf_full_results_df.iloc[:,0], nmf_full_results_df.iloc[:,1], 'b.')\n",
    "ax1.set_title('Reconstruction Error for Truncated Matrices')\n",
    "ax1.set_xlabel('Dimension of Truncated Subspace')\n",
    "ax1.set_ylabel('Reconstruction Error')\n",
    "ax1.axis([0, 2500 , 0, max(nmf_full_results_df.iloc[:,1]) + 10])\n",
    "plt.show()"
   ]
  },
  {
   "cell_type": "markdown",
   "id": "e58e1330",
   "metadata": {},
   "source": [
    "#### Computing and serializing NMF for larger values of k"
   ]
  },
  {
   "cell_type": "code",
   "execution_count": 18,
   "id": "cbacc37e",
   "metadata": {},
   "outputs": [],
   "source": [
    "\n",
    "#big_k_nmf = [1024, 2048, 4096, 8192, 12431]\n",
    "#nmf_k_search(tfidf_train_matrix, big_k_nmf, serialize=True)"
   ]
  },
  {
   "cell_type": "markdown",
   "id": "0d51b809",
   "metadata": {},
   "source": [
    "### SVD"
   ]
  },
  {
   "cell_type": "markdown",
   "id": "6b123bde",
   "metadata": {},
   "source": [
    "#### Computing the Full SVD\n",
    "The internet said that scipy's svd implementation of SVD is faster than numpy's so using that"
   ]
  },
  {
   "cell_type": "code",
   "execution_count": 13,
   "id": "e8b7bddb",
   "metadata": {},
   "outputs": [
    {
     "name": "stdout",
     "output_type": "stream",
     "text": [
      "computing full SVD of the sparse tfidf matrix...\n",
      "SVD complete in 3252.1491236686707 seconds\n"
     ]
    }
   ],
   "source": [
    "# Code for computing the full SVD of the sparse matrix\n",
    "# This took about an hour\n",
    "\n",
    "print(\"computing full SVD of the sparse tfidf matrix...\")\n",
    "t0 = time()\n",
    "U_, sigmas_, V_T_ = sp.linalg.svds(tfidf_train_matrix,k=12431,which='LM', maxiter=None)\n",
    "time_elapsed = time() - t0\n",
    "print(f\"SVD complete in {time_elapsed} seconds\")"
   ]
  },
  {
   "cell_type": "code",
   "execution_count": 15,
   "id": "3cbedea7",
   "metadata": {},
   "outputs": [
    {
     "name": "stdout",
     "output_type": "stream",
     "text": [
      "U_ has dimensions: (12432, 12431)\n",
      "V_T_ has dimensions:(12431, 30460)\n",
      "Number of singluar values:(12431,)\n"
     ]
    }
   ],
   "source": [
    "print(f'U_ has dimensions: {U_.shape}')\n",
    "print(f'V_T_ has dimensions:{V_T_.shape}')\n",
    "print(f'Number of singluar values:{sigmas_.shape}')"
   ]
  },
  {
   "cell_type": "code",
   "execution_count": 16,
   "id": "18c9345f",
   "metadata": {},
   "outputs": [
    {
     "data": {
      "text/plain": [
       "1.6606730721042668e-12"
      ]
     },
     "execution_count": 16,
     "metadata": {},
     "output_type": "execute_result"
    }
   ],
   "source": [
    "reconstruc_u = U_ @ np.diag(sigmas_) @ V_T_\n",
    "reconstruction_err_u = la.norm(tfidf_train_matrix - reconstruc_u, ord='fro')"
   ]
  },
  {
   "cell_type": "code",
   "execution_count": 18,
   "id": "4ca679e4",
   "metadata": {},
   "outputs": [
    {
     "name": "stdout",
     "output_type": "stream",
     "text": [
      "Reconstruction error using the full SVD: 1.6606730721042668e-12\n"
     ]
    }
   ],
   "source": [
    "print(f'Reconstruction error using the full SVD: {reconstruction_err_u}')"
   ]
  },
  {
   "cell_type": "markdown",
   "id": "e814fbfb",
   "metadata": {},
   "source": [
    "### Serializing the full SVD matrices"
   ]
  },
  {
   "cell_type": "markdown",
   "id": "250a1895",
   "metadata": {},
   "source": [
    "Scipy sparse SVD returns the singular values and vectors in reverse order (smallest singular values first). So first need to reverse the order of everything\n",
    "https://docs.scipy.org/doc/scipy/reference/generated/scipy.sparse.linalg.svds.html"
   ]
  },
  {
   "cell_type": "code",
   "execution_count": 19,
   "id": "c1aa95c7",
   "metadata": {},
   "outputs": [],
   "source": [
    "# function in core/matrix/svd_decomposition_helpers that fixes the order\n",
    "U_full, sigmas_full, V_T_full = fix_scipy_svds(U_, sigmas_,V_T_)"
   ]
  },
  {
   "cell_type": "code",
   "execution_count": 20,
   "id": "016c0157",
   "metadata": {},
   "outputs": [
    {
     "name": "stdout",
     "output_type": "stream",
     "text": [
      "U_full has dimensions: (12432, 12431)\n",
      "V_T_full has dimensions:(12431, 30460)\n",
      "Number of singluar values:(12431,)\n"
     ]
    }
   ],
   "source": [
    "print(f'U_full has dimensions: {U_full.shape}')\n",
    "print(f'V_T_full has dimensions:{V_T_full.shape}')\n",
    "print(f'Number of singluar values:{sigmas_full.shape}')"
   ]
  },
  {
   "cell_type": "markdown",
   "id": "0b967250",
   "metadata": {},
   "source": [
    "Now serialize these reordered matrices"
   ]
  },
  {
   "cell_type": "code",
   "execution_count": 24,
   "id": "c065d78d",
   "metadata": {},
   "outputs": [],
   "source": [
    "#serialize full SVD\n",
    "\n",
    "output_file_names = [\"tfidf_train_full_svd_U.pkl\",\n",
    "                     \"tfidf_train_full_svd_sigmas.pkl\",\n",
    "                      \"tfidf_train_full_svd_V_T.pkl\"]\n",
    "\n",
    "serialize_SVD(U_full, sigmas_full, V_T_full, output_file_names)"
   ]
  },
  {
   "cell_type": "code",
   "execution_count": 25,
   "id": "2fe41ad1",
   "metadata": {},
   "outputs": [],
   "source": [
    "def compute_size(input_array):\n",
    "    size = input_array.size\n",
    "    item_size = input_array.itemsize\n",
    "    num_bytes = size * item_size\n",
    "    num_mb = num_bytes / 1000000\n",
    "    return num_mb"
   ]
  },
  {
   "cell_type": "code",
   "execution_count": 26,
   "id": "c6fc885e",
   "metadata": {},
   "outputs": [
    {
     "name": "stdout",
     "output_type": "stream",
     "text": [
      "3029.18608\n"
     ]
    }
   ],
   "source": [
    "# checking the size of the V_T array\n",
    "print(compute_size(V_T_full))"
   ]
  },
  {
   "cell_type": "markdown",
   "id": "7f490a27",
   "metadata": {},
   "source": [
    "### Finding the optimal k with now that we have the full SVD\n",
    "First read in the full SVD matrice we found above"
   ]
  },
  {
   "cell_type": "code",
   "execution_count": 27,
   "id": "676ea993",
   "metadata": {},
   "outputs": [
    {
     "name": "stdout",
     "output_type": "stream",
     "text": [
      "U_from_pkl has dimensions: (12432, 12431)\n",
      "V_T_from_pkl has dimensions:(12431, 30460)\n",
      "Number of singluar values:(12431,)\n"
     ]
    }
   ],
   "source": [
    "# Reading in the matrices we just serialized for reproducibility's sake\n",
    "\n",
    "U_from_pkl = np.load(\"output/tfidf_train_full_svd_U.pkl\", allow_pickle=True)\n",
    "V_T_from_pkl = np.load(\"output/tfidf_train_full_svd_V_T.pkl\", allow_pickle=True)\n",
    "sigmas_from_pkl = np.load(\"output/tfidf_train_full_svd_sigmas.pkl\", allow_pickle=True)\n",
    "\n",
    "\n",
    "print(f'U_from_pkl has dimensions: {U_from_pkl.shape}')\n",
    "print(f'V_T_from_pkl has dimensions:{V_T_from_pkl.shape}')\n",
    "print(f'Number of singluar values:{sigmas_from_pkl.shape}')"
   ]
  },
  {
   "cell_type": "code",
   "execution_count": 33,
   "id": "253ee43d",
   "metadata": {},
   "outputs": [
    {
     "data": {
      "text/html": [
       "<div>\n",
       "<style scoped>\n",
       "    .dataframe tbody tr th:only-of-type {\n",
       "        vertical-align: middle;\n",
       "    }\n",
       "\n",
       "    .dataframe tbody tr th {\n",
       "        vertical-align: top;\n",
       "    }\n",
       "\n",
       "    .dataframe thead th {\n",
       "        text-align: right;\n",
       "    }\n",
       "</style>\n",
       "<table border=\"1\" class=\"dataframe\">\n",
       "  <thead>\n",
       "    <tr style=\"text-align: right;\">\n",
       "      <th></th>\n",
       "      <th>k</th>\n",
       "      <th>SVD Reconstruction Err</th>\n",
       "      <th>NMF_Reconstruction_Err</th>\n",
       "    </tr>\n",
       "  </thead>\n",
       "  <tbody>\n",
       "    <tr>\n",
       "      <th>0</th>\n",
       "      <td>1</td>\n",
       "      <td>110.144529</td>\n",
       "      <td>110.144529</td>\n",
       "    </tr>\n",
       "    <tr>\n",
       "      <th>1</th>\n",
       "      <td>11</td>\n",
       "      <td>107.779599</td>\n",
       "      <td>107.913440</td>\n",
       "    </tr>\n",
       "    <tr>\n",
       "      <th>2</th>\n",
       "      <td>21</td>\n",
       "      <td>106.439330</td>\n",
       "      <td>106.654441</td>\n",
       "    </tr>\n",
       "    <tr>\n",
       "      <th>3</th>\n",
       "      <td>31</td>\n",
       "      <td>105.399028</td>\n",
       "      <td>105.645614</td>\n",
       "    </tr>\n",
       "    <tr>\n",
       "      <th>4</th>\n",
       "      <td>41</td>\n",
       "      <td>104.534186</td>\n",
       "      <td>104.850667</td>\n",
       "    </tr>\n",
       "    <tr>\n",
       "      <th>5</th>\n",
       "      <td>51</td>\n",
       "      <td>103.763963</td>\n",
       "      <td>104.131178</td>\n",
       "    </tr>\n",
       "    <tr>\n",
       "      <th>6</th>\n",
       "      <td>61</td>\n",
       "      <td>103.062262</td>\n",
       "      <td>103.483230</td>\n",
       "    </tr>\n",
       "    <tr>\n",
       "      <th>7</th>\n",
       "      <td>71</td>\n",
       "      <td>102.412272</td>\n",
       "      <td>102.899553</td>\n",
       "    </tr>\n",
       "    <tr>\n",
       "      <th>8</th>\n",
       "      <td>81</td>\n",
       "      <td>101.802566</td>\n",
       "      <td>102.352255</td>\n",
       "    </tr>\n",
       "    <tr>\n",
       "      <th>9</th>\n",
       "      <td>91</td>\n",
       "      <td>101.220245</td>\n",
       "      <td>101.821737</td>\n",
       "    </tr>\n",
       "    <tr>\n",
       "      <th>10</th>\n",
       "      <td>150</td>\n",
       "      <td>98.175029</td>\n",
       "      <td>99.060629</td>\n",
       "    </tr>\n",
       "    <tr>\n",
       "      <th>11</th>\n",
       "      <td>200</td>\n",
       "      <td>95.960608</td>\n",
       "      <td>97.013592</td>\n",
       "    </tr>\n",
       "    <tr>\n",
       "      <th>12</th>\n",
       "      <td>300</td>\n",
       "      <td>92.174912</td>\n",
       "      <td>93.566469</td>\n",
       "    </tr>\n",
       "    <tr>\n",
       "      <th>13</th>\n",
       "      <td>600</td>\n",
       "      <td>83.405979</td>\n",
       "      <td>85.769618</td>\n",
       "    </tr>\n",
       "    <tr>\n",
       "      <th>14</th>\n",
       "      <td>1000</td>\n",
       "      <td>74.637820</td>\n",
       "      <td>77.819292</td>\n",
       "    </tr>\n",
       "    <tr>\n",
       "      <th>15</th>\n",
       "      <td>2299</td>\n",
       "      <td>55.980473</td>\n",
       "      <td>60.512933</td>\n",
       "    </tr>\n",
       "  </tbody>\n",
       "</table>\n",
       "</div>"
      ],
      "text/plain": [
       "       k  SVD Reconstruction Err  NMF_Reconstruction_Err\n",
       "0      1              110.144529              110.144529\n",
       "1     11              107.779599              107.913440\n",
       "2     21              106.439330              106.654441\n",
       "3     31              105.399028              105.645614\n",
       "4     41              104.534186              104.850667\n",
       "5     51              103.763963              104.131178\n",
       "6     61              103.062262              103.483230\n",
       "7     71              102.412272              102.899553\n",
       "8     81              101.802566              102.352255\n",
       "9     91              101.220245              101.821737\n",
       "10   150               98.175029               99.060629\n",
       "11   200               95.960608               97.013592\n",
       "12   300               92.174912               93.566469\n",
       "13   600               83.405979               85.769618\n",
       "14  1000               74.637820               77.819292\n",
       "15  2299               55.980473               60.512933"
      ]
     },
     "execution_count": 33,
     "metadata": {},
     "output_type": "execute_result"
    }
   ],
   "source": [
    "nmf_test_kvals =[1, 11, 21, 31, 41, 51, 61, 71, 81, 91, 150, 200, 300, 600,1000, 2299]\n",
    "svd_results_df = svd_k_search(U_from_pkl, sigmas_from_pkl, V_T_from_pkl, nmf_test_kvals)\n",
    "# attach NMF results for comparison\n",
    "results_df = svd_results_df.rename(columns={'Reconstruction Error': 'SVD Reconstruction Err'})\n",
    "results_df['NMF_Reconstruction_Err'] = list(nmf_full_results_df['Reconstruction Error'])\n",
    "results_df\n"
   ]
  },
  {
   "cell_type": "code",
   "execution_count": 34,
   "id": "b6be15a7",
   "metadata": {},
   "outputs": [
    {
     "data": {
      "image/png": "[encoded data removed]",
      "text/plain": [
       "<Figure size 432x288 with 1 Axes>"
      ]
     },
     "metadata": {
      "needs_background": "light"
     },
     "output_type": "display_data"
    }
   ],
   "source": [
    "fig2 = plt.figure(23)\n",
    "ax2 = plt.subplot(111)\n",
    "ax2.plot(\n",
    "    np.arange(1,12432,1), sigmas_from_pkl, 'b.')\n",
    "ax2.set_title('Singluar Values of the TF-IDF Matrix')\n",
    "ax2.set_xlabel('Number')\n",
    "ax2.set_ylabel('Singular Value')\n",
    "ax2.axis([-150, 12432 , 0, 20])\n",
    "plt.show()"
   ]
  },
  {
   "cell_type": "code",
   "execution_count": 35,
   "id": "a4820b62",
   "metadata": {},
   "outputs": [
    {
     "data": {
      "image/png": "[encoded data removed]",
      "text/plain": [
       "<Figure size 432x288 with 1 Axes>"
      ]
     },
     "metadata": {
      "needs_background": "light"
     },
     "output_type": "display_data"
    }
   ],
   "source": [
    "fig3 = plt.figure(23)\n",
    "ax3 = plt.subplot(111)\n",
    "ax3.plot(\n",
    "    np.arange(1,12432,1), sigmas_from_pkl, 'b.')\n",
    "ax3.set_title('Zooming In on Singluar Values of the TF-IDF Matrix')\n",
    "ax3.set_xlabel('Number')\n",
    "ax3.set_ylabel('Singular Value')\n",
    "ax3.axis([-150, 12432 , 0, 5])\n",
    "plt.show()"
   ]
  },
  {
   "cell_type": "code",
   "execution_count": 36,
   "id": "85c5632b",
   "metadata": {},
   "outputs": [
    {
     "data": {
      "image/png": "[encoded data removed]",
      "text/plain": [
       "<Figure size 432x288 with 1 Axes>"
      ]
     },
     "metadata": {
      "needs_background": "light"
     },
     "output_type": "display_data"
    }
   ],
   "source": [
    "fig4 = plt.figure(23)\n",
    "ax4 = plt.subplot(111)\n",
    "ax4.plot(\n",
    "    np.arange(1,12432,1), sigmas_from_pkl, 'b.')\n",
    "ax4.set_title('Zooming In on Singluar Values of the TF-IDF Matrix')\n",
    "ax4.set_xlabel('Number')\n",
    "ax4.set_ylabel('Singular Value')\n",
    "ax4.axis([-150, 6000 , 0, 3])\n",
    "plt.show()"
   ]
  },
  {
   "cell_type": "markdown",
   "id": "311bf328",
   "metadata": {},
   "source": [
    "Based on these plots, there's no obvious \"elbow\" to the scree plot."
   ]
  },
  {
   "cell_type": "code",
   "execution_count": 41,
   "id": "a315a4e0",
   "metadata": {},
   "outputs": [
    {
     "data": {
      "text/html": [
       "<div>\n",
       "<style scoped>\n",
       "    .dataframe tbody tr th:only-of-type {\n",
       "        vertical-align: middle;\n",
       "    }\n",
       "\n",
       "    .dataframe tbody tr th {\n",
       "        vertical-align: top;\n",
       "    }\n",
       "\n",
       "    .dataframe thead th {\n",
       "        text-align: right;\n",
       "    }\n",
       "</style>\n",
       "<table border=\"1\" class=\"dataframe\">\n",
       "  <thead>\n",
       "    <tr style=\"text-align: right;\">\n",
       "      <th></th>\n",
       "      <th>k</th>\n",
       "      <th>recon_err</th>\n",
       "      <th>pct_explained</th>\n",
       "    </tr>\n",
       "  </thead>\n",
       "  <tbody>\n",
       "    <tr>\n",
       "      <th>12425</th>\n",
       "      <td>12426</td>\n",
       "      <td>0.00502</td>\n",
       "      <td>0.999955</td>\n",
       "    </tr>\n",
       "    <tr>\n",
       "      <th>12426</th>\n",
       "      <td>12427</td>\n",
       "      <td>0.00000</td>\n",
       "      <td>1.000000</td>\n",
       "    </tr>\n",
       "    <tr>\n",
       "      <th>12427</th>\n",
       "      <td>12428</td>\n",
       "      <td>0.00000</td>\n",
       "      <td>1.000000</td>\n",
       "    </tr>\n",
       "    <tr>\n",
       "      <th>12428</th>\n",
       "      <td>12429</td>\n",
       "      <td>0.00000</td>\n",
       "      <td>1.000000</td>\n",
       "    </tr>\n",
       "    <tr>\n",
       "      <th>12429</th>\n",
       "      <td>12430</td>\n",
       "      <td>0.00000</td>\n",
       "      <td>1.000000</td>\n",
       "    </tr>\n",
       "    <tr>\n",
       "      <th>12430</th>\n",
       "      <td>12431</td>\n",
       "      <td>0.00000</td>\n",
       "      <td>1.000000</td>\n",
       "    </tr>\n",
       "  </tbody>\n",
       "</table>\n",
       "</div>"
      ],
      "text/plain": [
       "           k  recon_err  pct_explained\n",
       "12425  12426    0.00502       0.999955\n",
       "12426  12427    0.00000       1.000000\n",
       "12427  12428    0.00000       1.000000\n",
       "12428  12429    0.00000       1.000000\n",
       "12429  12430    0.00000       1.000000\n",
       "12430  12431    0.00000       1.000000"
      ]
     },
     "execution_count": 41,
     "metadata": {},
     "output_type": "execute_result"
    }
   ],
   "source": [
    "# Computing SVD reconstruction error for every value of k\n",
    "err_df = pd.DataFrame(np.arange(1,12432,1),columns=['k'])\n",
    "err_df['recon_err'] = err_df['k'].apply(lambda x : compute_truncated_svd_recon_err(sigmas_from_pkl,x))\n",
    "total_recon_err = compute_truncated_svd_recon_err(sigmas_from_pkl,0)\n",
    "err_df['pct_explained'] = 1 - (err_df['recon_err'] / total_recon_err)\n",
    "err_df.tail(6)"
   ]
  },
  {
   "cell_type": "code",
   "execution_count": 44,
   "id": "544d4fdd",
   "metadata": {},
   "outputs": [
    {
     "data": {
      "image/png": "[encoded data removed]",
      "text/plain": [
       "<Figure size 432x288 with 1 Axes>"
      ]
     },
     "metadata": {
      "needs_background": "light"
     },
     "output_type": "display_data"
    }
   ],
   "source": [
    "fig5 = plt.figure(23)\n",
    "ax5 = plt.subplot(111)\n",
    "ax5.plot(\n",
    "    err_df['k'], err_df['recon_err'], 'r.')\n",
    "ax5.set_title('Reconstruction error at truncated k')\n",
    "ax5.set_xlabel('k')\n",
    "ax5.set_ylabel('Recon error (Frobenius(X - X-reconstruct)')\n",
    "ax5.axis([-150, 12500 , 0, 120])\n",
    "plt.show()"
   ]
  },
  {
   "cell_type": "code",
   "execution_count": 47,
   "id": "0b8d86da",
   "metadata": {},
   "outputs": [
    {
     "data": {
      "image/png": "[encoded data removed]",
      "text/plain": [
       "<Figure size 432x288 with 1 Axes>"
      ]
     },
     "metadata": {
      "needs_background": "light"
     },
     "output_type": "display_data"
    }
   ],
   "source": [
    "fig6 = plt.figure(23)\n",
    "ax6 = plt.subplot(111)\n",
    "ax6.plot(\n",
    "    err_df['k'], err_df['pct_explained'], 'g.')\n",
    "ax6.set_title('Percent of variance explained')\n",
    "ax6.set_xlabel('k')\n",
    "ax6.set_ylabel('$ Variance Explained')\n",
    "ax6.axis([-150, 12500 , 0, 1])\n",
    "plt.show()"
   ]
  },
  {
   "cell_type": "code",
   "execution_count": 48,
   "id": "42fb67e8",
   "metadata": {},
   "outputs": [
    {
     "name": "stderr",
     "output_type": "stream",
     "text": [
      "/var/folders/yq/5fk4pl911495z8dhwm2zjsqc0000gn/T/ipykernel_4302/2679304936.py:4: RuntimeWarning: divide by zero encountered in log\n",
      "  np.arange(1,12432,1), np.log(sigmas_from_pkl), 'b.')\n"
     ]
    },
    {
     "data": {
      "image/png": "[encoded data removed]",
      "text/plain": [
       "<Figure size 432x288 with 1 Axes>"
      ]
     },
     "metadata": {
      "needs_background": "light"
     },
     "output_type": "display_data"
    }
   ],
   "source": [
    "fig2 = plt.figure(23)\n",
    "ax2 = plt.subplot(111)\n",
    "ax2.plot(\n",
    "    np.arange(1,12432,1), np.log(sigmas_from_pkl), 'b.')\n",
    "ax2.set_title('Log of the Singluar Values of the TF-IDF Matrix')\n",
    "ax2.set_xlabel('Number')\n",
    "ax2.set_ylabel('Log(Singular Value)')\n",
    "ax2.axis([-150, 12500 , -10, 4])\n",
    "plt.show()"
   ]
  },
  {
   "cell_type": "code",
   "execution_count": 51,
   "id": "192121cb",
   "metadata": {},
   "outputs": [],
   "source": [
    "# Computing optimal k based on Singular Value Hard Thresholding method\n",
    "# Code is adapted from: http://www.pyrunner.com/weblog/2016/08/01/optimal-svht/\n",
    "def omega_approx(beta):\n",
    "    \"\"\"Return an approximate omega value for given beta. Equation (5) from Gavish 2014.\"\"\"\n",
    "    return 0.56 * beta**3 - 0.95 * beta**2 + 1.82 * beta + 1.43\n",
    "\n",
    "def svht(X, sigma=None, sv=None):\n",
    "    \"\"\"\n",
    "    Return the optimal singular value hard threshold (SVHT) value.\n",
    "    `X` is any m-by-n matrix. \n",
    "    `sv` is the vector of singular values \n",
    "    \"\"\"\n",
    "\n",
    "    try:\n",
    "        m,n = sorted(X.shape) # ensures m <= n\n",
    "    except:\n",
    "        raise ValueError('invalid input matrix')\n",
    "    beta = m / n # ratio between 0 and 1\n",
    "    sv = np.squeeze(sv)\n",
    "    if sv.ndim != 1:\n",
    "        raise ValueError('vector of singular values must be 1-dimensional')\n",
    "    return np.median(sv) * omega_approx(beta)\n"
   ]
  },
  {
   "cell_type": "code",
   "execution_count": 56,
   "id": "834b2f2e",
   "metadata": {},
   "outputs": [
    {
     "name": "stdout",
     "output_type": "stream",
     "text": [
      "The threshold value for singular values is 1.1145142456140364\n"
     ]
    }
   ],
   "source": [
    "tau = svht(tfidf_train_matrix, sv=sigmas_from_pkl)\n",
    "print(f'The threshold value for singular values is {tau}')"
   ]
  },
  {
   "cell_type": "code",
   "execution_count": 58,
   "id": "5c8fd2b1",
   "metadata": {},
   "outputs": [
    {
     "name": "stdout",
     "output_type": "stream",
     "text": [
      "The full SVD has 2299 singular values greater than 1.1145142456140364\n"
     ]
    }
   ],
   "source": [
    "tau_k = (sigmas_from_pkl > tau).sum()\n",
    "print(f\"The full SVD has {tau_k} singular values greater than {tau}\")"
   ]
  }
 ],
 "metadata": {
  "kernelspec": {
   "display_name": "Python 3.9.7 64-bit",
   "language": "python",
   "name": "python397jvsc74a57bd0b0fa6594d8f4cbf19f97940f81e996739fb7646882a419484c72d19e05852a7e"
  },
  "language_info": {
   "codemirror_mode": {
    "name": "ipython",
    "version": 3
   },
   "file_extension": ".py",
   "mimetype": "text/x-python",
   "name": "python",
   "nbconvert_exporter": "python",
   "pygments_lexer": "ipython3",
   "version": "3.9.7"
  }
 },
 "nbformat": 4,
 "nbformat_minor": 5
}
