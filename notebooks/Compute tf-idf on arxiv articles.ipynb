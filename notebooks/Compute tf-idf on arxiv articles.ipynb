{
 "cells": [
  {
   "cell_type": "markdown",
   "id": "8e3bc755",
   "metadata": {},
   "source": [
    "# arXiv data subset - tfidf"
   ]
  },
  {
   "cell_type": "code",
   "execution_count": 1,
   "id": "a899c679",
   "metadata": {},
   "outputs": [],
   "source": [
    "import os\n",
    "import sys\n",
    "parent_dr = os.path.split(os.getcwd())[0]\n",
    "if parent_dr not in sys.path:\n",
    "    sys.path.append(parent_dr)"
   ]
  },
  {
   "cell_type": "code",
   "execution_count": 4,
   "id": "1372880b",
   "metadata": {},
   "outputs": [],
   "source": [
    "import pandas as pd\n",
    "from sklearn.feature_extraction.text import TfidfVectorizer"
   ]
  },
  {
   "cell_type": "code",
   "execution_count": 5,
   "id": "b6ca1ca2",
   "metadata": {},
   "outputs": [],
   "source": [
    "pd.set_option('display.max_columns', None)\n",
    "pd.set_option('display.max_rows', None)\n",
    "pd.set_option('display.max_colwidth', None)"
   ]
  },
  {
   "cell_type": "markdown",
   "id": "185054bf",
   "metadata": {},
   "source": [
    "Pickle file can be found:\n",
    "https://drive.google.com/drive/folders/1CQx3y_9vWHt9Zi9aJWp9lK0W__9T7zTY?usp=sharing"
   ]
  },
  {
   "cell_type": "code",
   "execution_count": 6,
   "id": "882900b1",
   "metadata": {},
   "outputs": [],
   "source": [
    "file_name = \"tokenized_arxiv_subset_15540.pkl\"\n",
    "full_path = os.path.join(parent_dr, \"core\", \"resources\", file_name)\n",
    "data_df = pd.read_pickle(full_path)"
   ]
  },
  {
   "cell_type": "code",
   "execution_count": 80,
   "id": "285cb1bc",
   "metadata": {
    "scrolled": true
   },
   "outputs": [
    {
     "data": {
      "text/html": [
       "<div>\n",
       "<style scoped>\n",
       "    .dataframe tbody tr th:only-of-type {\n",
       "        vertical-align: middle;\n",
       "    }\n",
       "\n",
       "    .dataframe tbody tr th {\n",
       "        vertical-align: top;\n",
       "    }\n",
       "\n",
       "    .dataframe thead th {\n",
       "        text-align: right;\n",
       "    }\n",
       "</style>\n",
       "<table border=\"1\" class=\"dataframe\">\n",
       "  <thead>\n",
       "    <tr style=\"text-align: right;\">\n",
       "      <th></th>\n",
       "      <th>id</th>\n",
       "      <th>authors</th>\n",
       "      <th>title</th>\n",
       "      <th>categories</th>\n",
       "      <th>abstract</th>\n",
       "      <th>update_dt</th>\n",
       "      <th>clean</th>\n",
       "      <th>tokens</th>\n",
       "    </tr>\n",
       "  </thead>\n",
       "  <tbody>\n",
       "    <tr>\n",
       "      <th>0</th>\n",
       "      <td>0704.0648</td>\n",
       "      <td>Kaushik Majumdar</td>\n",
       "      <td>Behavioral response to strong aversive stimuli: A neurodynamical model</td>\n",
       "      <td>q-bio.NC</td>\n",
       "      <td>In this paper a theoretical model of functioning of a neural circuit during a\\nbehavioral response has been proposed. A neural circuit can be thought of as a\\ndirected multigraph whose each vertex is a neuron and each edge is a synapse.\\nIt has been assumed in this paper that the behavior of such circuits is\\nmanifested through the collective behavior of neurons belonging to that\\ncircuit. Behavioral information of each neuron is contained in the coefficients\\nof the fast Fourier transform (FFT) over the output spike train. Those\\ncoefficients form a vector in a multidimensional vector space. Behavioral\\ndynamics of a neuronal network in response to strong aversive stimuli has been\\nstudied in a vector space in which a suitable pseudometric has been defined.\\nThe neurodynamical model of network behavior has been formulated in terms of\\nexisting memory, synaptic plasticity and feelings. The model has an analogy in\\nclassical electrostatics, by which the notion of force and potential energy has\\nbeen introduced. Since the model takes input from each neuron in a network and\\nproduces a behavior as the output, it would be extremely difficult or may even\\nbe impossible to implement. But with the help of the model a possible\\nexplanation for an hitherto unexplained neurological observation in human brain\\nhas been offered. The model is compatible with a recent model of sequential\\nbehavioral dynamics. The model is based on electrophysiology, but its relevance\\nto hemodynamics has been outlined.\\n</td>\n",
       "      <td>2007-05-23</td>\n",
       "      <td>in this paper a theoretical model of functioning of a neural circuit during a behavioral response has been proposed a neural circuit can be thought of as a directed multigraph whose each vertex is a neuron and each edge is a synapse it has been assumed in this paper that the behavior of such circuits is manifested through the collective behavior of neurons belonging to that circuit behavioral information of each neuron is contained in the coefficients of the fast fourier transform fft over the output spike train those coefficients form a vector in a multidimensional vector space behavioral dynamics of a neuronal network in response to strong aversive stimuli has been studied in a vector space in which a suitable pseudometric has been defined the neurodynamical model of network behavior has been formulated in terms of existing memory synaptic plasticity and feelings the model has an analogy in classical electrostatics by which the notion of force and potential energy has been introduced since the model takes input from each neuron in a network and produces a behavior as the output it would be extremely difficult or may even be impossible to implement but with the help of the model a possible explanation for an hitherto unexplained neurological observation in human brain has been offered the model is compatible with a recent model of sequential behavioral dynamics the model is based on electrophysiology but its relevance to hemodynamics has been outlined</td>\n",
       "      <td>[paper, theoretical, model, functioning, neural, circuit, behavioral, response, propose, neural, circuit, think, direct, multigraph, vertex, neuron, edge, synapse, assume, paper, behavior, circuit, manifest, collective, behavior, neuron, belong, circuit, behavioral, information, neuron, contain, coefficient, fast, fourier, transform, fft, output, spike, train, coefficient, form, vector, multidimensional, vector, space, behavioral, dynamic, neuronal, network, response, strong, aversive, stimulus, study, vector, space, suitable, pseudometric, define, neurodynamical, model, network, behavior, formulate, term, exist, memory, synaptic, plasticity, feeling, model, analogy, classical, electrostatic, notion, force, potential, energy, introduce, model, take, input, neuron, network, produce, behavior, output, extremely, difficult, impossible, implement, help, model, possible, explanation, hitherto, unexplained, neurological, observation, ...]</td>\n",
       "    </tr>\n",
       "    <tr>\n",
       "      <th>1</th>\n",
       "      <td>0704.1394</td>\n",
       "      <td>Tarik Hadzic, Rune Moller Jensen, Henrik Reif Andersen</td>\n",
       "      <td>Calculating Valid Domains for BDD-Based Interactive Configuration</td>\n",
       "      <td>cs.AI</td>\n",
       "      <td>In these notes we formally describe the functionality of Calculating Valid\\nDomains from the BDD representing the solution space of valid configurations.\\nThe formalization is largely based on the CLab configuration framework.\\n</td>\n",
       "      <td>2007-05-23</td>\n",
       "      <td>in these notes we formally describe the functionality of calculating valid domains from the bdd representing the solution space of valid configurations the formalization is largely based on the clab configuration framework</td>\n",
       "      <td>[note, formally, describe, functionality, calculate, valid, domain, bdd, represent, solution, space, valid, configuration, formalization, largely, base, clab, configuration, framework]</td>\n",
       "    </tr>\n",
       "    <tr>\n",
       "      <th>2</th>\n",
       "      <td>0704.1829</td>\n",
       "      <td>Stefan Felsner, Kamil Kloch, Grzegorz Matecki, and Piotr Micek</td>\n",
       "      <td>On-line Chain Partitions of Up-growing Semi-orders</td>\n",
       "      <td>cs.DM</td>\n",
       "      <td>On-line chain partition is a two-player game between Spoiler and Algorithm.\\nSpoiler presents a partially ordered set, point by point. Algorithm assigns\\nincoming points (immediately and irrevocably) to the chains which constitute a\\nchain partition of the order. The value of the game for orders of width $w$ is\\na minimum number $\\fVal(w)$ such that Algorithm has a strategy using at most\\n$\\fVal(w)$ chains on orders of width at most $w$. We analyze the chain\\npartition game for up-growing semi-orders. Surprisingly, the golden ratio comes\\ninto play and the value of the game is $\\lfloor\\frac{1+\\sqrt{5}}{2}\\; w\\n\\rfloor$.\\n</td>\n",
       "      <td>2011-02-22</td>\n",
       "      <td>on line chain partition is a two player game between spoiler and algorithm spoiler presents a partially ordered set point by point algorithm assigns incoming points immediately and irrevocably to the chains which constitute a chain partition of the order the value of the game for orders of width w is a minimum number fval w such that algorithm has a strategy using at most fval w chains on orders of width at most w we analyze the chain partition game for up growing semi orders surprisingly the golden ratio comes into play and the value of the game is lfloor frac number sqrt number number w rfloor</td>\n",
       "      <td>[line, chain, partition, player, game, spoiler, algorithm, spoiler, present, partially, order, set, point, point, algorithm, assign, incoming, point, immediately, irrevocably, chain, constitute, chain, partition, order, value, game, order, width, minimum, number, fval, algorithm, strategy, fval, chain, order, width, analyze, chain, partition, game, grow, semi, order, surprisingly, golden, ratio, come, play, value, game, lfloor, frac, number, sqrt, number, number, rfloor]</td>\n",
       "    </tr>\n",
       "  </tbody>\n",
       "</table>\n",
       "</div>"
      ],
      "text/plain": [
       "          id                                                         authors  \\\n",
       "0  0704.0648                                                Kaushik Majumdar   \n",
       "1  0704.1394          Tarik Hadzic, Rune Moller Jensen, Henrik Reif Andersen   \n",
       "2  0704.1829  Stefan Felsner, Kamil Kloch, Grzegorz Matecki, and Piotr Micek   \n",
       "\n",
       "                                                                    title  \\\n",
       "0  Behavioral response to strong aversive stimuli: A neurodynamical model   \n",
       "1       Calculating Valid Domains for BDD-Based Interactive Configuration   \n",
       "2                      On-line Chain Partitions of Up-growing Semi-orders   \n",
       "\n",
       "  categories  \\\n",
       "0   q-bio.NC   \n",
       "1      cs.AI   \n",
       "2      cs.DM   \n",
       "\n",
       "                                                                                                                                                                                                                                                                                                                                                                                                                                                                                                                                                                                                                                                                                                                                                                                                                                                                                                                                                                                                                                                                                                                                                                                                                                                                                                                                                                                                                                                                                                                                                                        abstract  \\\n",
       "0    In this paper a theoretical model of functioning of a neural circuit during a\\nbehavioral response has been proposed. A neural circuit can be thought of as a\\ndirected multigraph whose each vertex is a neuron and each edge is a synapse.\\nIt has been assumed in this paper that the behavior of such circuits is\\nmanifested through the collective behavior of neurons belonging to that\\ncircuit. Behavioral information of each neuron is contained in the coefficients\\nof the fast Fourier transform (FFT) over the output spike train. Those\\ncoefficients form a vector in a multidimensional vector space. Behavioral\\ndynamics of a neuronal network in response to strong aversive stimuli has been\\nstudied in a vector space in which a suitable pseudometric has been defined.\\nThe neurodynamical model of network behavior has been formulated in terms of\\nexisting memory, synaptic plasticity and feelings. The model has an analogy in\\nclassical electrostatics, by which the notion of force and potential energy has\\nbeen introduced. Since the model takes input from each neuron in a network and\\nproduces a behavior as the output, it would be extremely difficult or may even\\nbe impossible to implement. But with the help of the model a possible\\nexplanation for an hitherto unexplained neurological observation in human brain\\nhas been offered. The model is compatible with a recent model of sequential\\nbehavioral dynamics. The model is based on electrophysiology, but its relevance\\nto hemodynamics has been outlined.\\n   \n",
       "1                                                                                                                                                                                                                                                                                                                                                                                                                                                                                                                                                                                                                                                                                                                                                                                                                                                                                                                                                                                                                                                                                                                                                                                                                                                                                                                                           In these notes we formally describe the functionality of Calculating Valid\\nDomains from the BDD representing the solution space of valid configurations.\\nThe formalization is largely based on the CLab configuration framework.\\n   \n",
       "2                                                                                                                                                                                                                                                                                                                                                                                                                                                                                                                                                                                                                                                                                                                                                                                                                                                                                                                          On-line chain partition is a two-player game between Spoiler and Algorithm.\\nSpoiler presents a partially ordered set, point by point. Algorithm assigns\\nincoming points (immediately and irrevocably) to the chains which constitute a\\nchain partition of the order. The value of the game for orders of width $w$ is\\na minimum number $\\fVal(w)$ such that Algorithm has a strategy using at most\\n$\\fVal(w)$ chains on orders of width at most $w$. We analyze the chain\\npartition game for up-growing semi-orders. Surprisingly, the golden ratio comes\\ninto play and the value of the game is $\\lfloor\\frac{1+\\sqrt{5}}{2}\\; w\\n\\rfloor$.\\n   \n",
       "\n",
       "    update_dt  \\\n",
       "0  2007-05-23   \n",
       "1  2007-05-23   \n",
       "2  2011-02-22   \n",
       "\n",
       "                                                                                                                                                                                                                                                                                                                                                                                                                                                                                                                                                                                                                                                                                                                                                                                                                                                                                                                                                                                                                                                                                                                                                                                                                                                                                                                                                                                                                                                                                                                                  clean  \\\n",
       "0  in this paper a theoretical model of functioning of a neural circuit during a behavioral response has been proposed a neural circuit can be thought of as a directed multigraph whose each vertex is a neuron and each edge is a synapse it has been assumed in this paper that the behavior of such circuits is manifested through the collective behavior of neurons belonging to that circuit behavioral information of each neuron is contained in the coefficients of the fast fourier transform fft over the output spike train those coefficients form a vector in a multidimensional vector space behavioral dynamics of a neuronal network in response to strong aversive stimuli has been studied in a vector space in which a suitable pseudometric has been defined the neurodynamical model of network behavior has been formulated in terms of existing memory synaptic plasticity and feelings the model has an analogy in classical electrostatics by which the notion of force and potential energy has been introduced since the model takes input from each neuron in a network and produces a behavior as the output it would be extremely difficult or may even be impossible to implement but with the help of the model a possible explanation for an hitherto unexplained neurological observation in human brain has been offered the model is compatible with a recent model of sequential behavioral dynamics the model is based on electrophysiology but its relevance to hemodynamics has been outlined   \n",
       "1                                                                                                                                                                                                                                                                                                                                                                                                                                                                                                                                                                                                                                                                                                                                                                                                                                                                                                                                                                                                                                                                                                                                                                                                                                                                                                        in these notes we formally describe the functionality of calculating valid domains from the bdd representing the solution space of valid configurations the formalization is largely based on the clab configuration framework   \n",
       "2                                                                                                                                                                                                                                                                                                                                                                                                                                                                                                                                                                                                                                                                                                                                                                                                                                                                                                            on line chain partition is a two player game between spoiler and algorithm spoiler presents a partially ordered set point by point algorithm assigns incoming points immediately and irrevocably to the chains which constitute a chain partition of the order the value of the game for orders of width w is a minimum number fval w such that algorithm has a strategy using at most fval w chains on orders of width at most w we analyze the chain partition game for up growing semi orders surprisingly the golden ratio comes into play and the value of the game is lfloor frac number sqrt number number w rfloor   \n",
       "\n",
       "                                                                                                                                                                                                                                                                                                                                                                                                                                                                                                                                                                                                                                                                                                                                                                                                                                                                                                                                                                               tokens  \n",
       "0  [paper, theoretical, model, functioning, neural, circuit, behavioral, response, propose, neural, circuit, think, direct, multigraph, vertex, neuron, edge, synapse, assume, paper, behavior, circuit, manifest, collective, behavior, neuron, belong, circuit, behavioral, information, neuron, contain, coefficient, fast, fourier, transform, fft, output, spike, train, coefficient, form, vector, multidimensional, vector, space, behavioral, dynamic, neuronal, network, response, strong, aversive, stimulus, study, vector, space, suitable, pseudometric, define, neurodynamical, model, network, behavior, formulate, term, exist, memory, synaptic, plasticity, feeling, model, analogy, classical, electrostatic, notion, force, potential, energy, introduce, model, take, input, neuron, network, produce, behavior, output, extremely, difficult, impossible, implement, help, model, possible, explanation, hitherto, unexplained, neurological, observation, ...]  \n",
       "1                                                                                                                                                                                                                                                                                                                                                                                                                                                                                                                                                                                                                                                                                                                                                                                            [note, formally, describe, functionality, calculate, valid, domain, bdd, represent, solution, space, valid, configuration, formalization, largely, base, clab, configuration, framework]  \n",
       "2                                                                                                                                                                                                                                                                                                                                                                                                                                                                                         [line, chain, partition, player, game, spoiler, algorithm, spoiler, present, partially, order, set, point, point, algorithm, assign, incoming, point, immediately, irrevocably, chain, constitute, chain, partition, order, value, game, order, width, minimum, number, fval, algorithm, strategy, fval, chain, order, width, analyze, chain, partition, game, grow, semi, order, surprisingly, golden, ratio, come, play, value, game, lfloor, frac, number, sqrt, number, number, rfloor]  "
      ]
     },
     "execution_count": 80,
     "metadata": {},
     "output_type": "execute_result"
    }
   ],
   "source": [
    "data_df.head(n=3)"
   ]
  },
  {
   "cell_type": "markdown",
   "id": "12b2e779",
   "metadata": {},
   "source": [
    "## Create a tfidf vectorizer with dummy tokenizer\n",
    "### We've already tokenized and saved the results, so don't do it again"
   ]
  },
  {
   "cell_type": "code",
   "execution_count": 8,
   "id": "95347edb",
   "metadata": {},
   "outputs": [],
   "source": [
    "def dummy_tokenizer(doc):\n",
    "    return doc\n",
    "\n",
    "tfidf = TfidfVectorizer(\n",
    "    analyzer='word',\n",
    "    tokenizer=dummy_tokenizer,\n",
    "    preprocessor=dummy_tokenizer,\n",
    "    token_pattern=None)  "
   ]
  },
  {
   "cell_type": "code",
   "execution_count": 10,
   "id": "90e09e32",
   "metadata": {},
   "outputs": [
    {
     "data": {
      "text/plain": [
       "TfidfVectorizer(preprocessor=<function dummy_tokenizer at 0x136af64c0>,\n",
       "                token_pattern=None,\n",
       "                tokenizer=<function dummy_tokenizer at 0x136af64c0>)"
      ]
     },
     "execution_count": 10,
     "metadata": {},
     "output_type": "execute_result"
    }
   ],
   "source": [
    "tfidf.fit(data_df[\"tokens\"])"
   ]
  },
  {
   "cell_type": "code",
   "execution_count": 18,
   "id": "d28faa6e",
   "metadata": {},
   "outputs": [
    {
     "name": "stdout",
     "output_type": "stream",
     "text": [
      "vocab size for corpus:  34007\n"
     ]
    }
   ],
   "source": [
    "print(\"vocab size for corpus: \", len(tfidf.vocabulary_))"
   ]
  },
  {
   "cell_type": "code",
   "execution_count": 79,
   "id": "d692e423",
   "metadata": {},
   "outputs": [
    {
     "name": "stdout",
     "output_type": "stream",
     "text": [
      "[('paper', 22052), ('theoretical', 30450), ('model', 19006), ('functioning', 11676), ('neural', 20103), ('circuit', 4786), ('behavioral', 2708), ('response', 25884), ('propose', 24175), ('think', 30513), ('direct', 8025), ('multigraph', 19506), ('vertex', 32715), ('neuron', 20168), ('edge', 9077), ('synapse', 29757), ('assume', 1941), ('behavior', 2707), ('manifest', 17693), ('collective', 5257), ('belong', 2747), ('information', 14771), ('contain', 5914), ('coefficient', 5162), ('fast', 10697), ('fourier', 11423), ('transform', 31048), ('fft', 10888), ('output', 21767), ('spike', 28526), ('train', 30982), ('form', 11353), ('vector', 32603), ('multidimensional', 19482), ('space', 28373), ('dynamic', 8888), ('neuronal', 20169), ('network', 20089), ('strong', 29082), ('aversive', 2279), ('stimulus', 28930), ('study', 29115), ('suitable', 29434), ('pseudometric', 24319), ('define', 7317), ('neurodynamical', 20132), ('formulate', 11382), ('term', 30287), ('exist', 10322), ('memory', 18246), ('synaptic', 29759), ('plasticity', 23090), ('feeling', 10817), ('analogy', 1156), ('classical', 4885), ('electrostatic', 9338), ('notion', 20670), ('force', 11299), ('potential', 23540), ('energy', 9628), ('introduce', 15319), ('take', 29935), ('input', 14891), ('produce', 24022), ('extremely', 10517), ('difficult', 7914), ('impossible', 14371), ('implement', 14334), ('help', 13110), ('possible', 23491), ('explanation', 10392), ('hitherto', 13365), ('unexplained', 31895), ('neurological', 20149), ('observation', 21032), ('human', 13682), ('brain', 3517), ('offer', 21158), ('compatible', 5458), ('recent', 25143), ('sequential', 27363), ('base', 2545), ('electrophysiology', 9333), ('relevance', 25539), ('hemodynamic', 13132), ('outline', 21754), ('note', 20656), ('formally', 11368), ('describe', 7623), ('functionality', 11671), ('calculate', 3875), ('valid', 32476), ('domain', 8523), ('bdd', 2643), ('represent', 25724), ('solution', 28257), ('configuration', 5708), ('formalization', 11365), ('largely', 16508), ('clab', 4856)]\n"
     ]
    }
   ],
   "source": [
    "print(list(tfidf.vocabulary_.items())[0:100])"
   ]
  },
  {
   "cell_type": "code",
   "execution_count": 55,
   "id": "c2c46a3f",
   "metadata": {},
   "outputs": [],
   "source": [
    "index_to_word = {v:k for k,v in tfidf.vocabulary_.items()}\n",
    "assert len(index_to_word) == len(tfidf.vocabulary_)"
   ]
  },
  {
   "cell_type": "markdown",
   "id": "579f3cdc",
   "metadata": {},
   "source": [
    "### Example of applying to an article"
   ]
  },
  {
   "cell_type": "code",
   "execution_count": 64,
   "id": "773a04ff",
   "metadata": {},
   "outputs": [],
   "source": [
    "example_index = 140"
   ]
  },
  {
   "cell_type": "code",
   "execution_count": 65,
   "id": "15b259fa",
   "metadata": {},
   "outputs": [
    {
     "name": "stdout",
     "output_type": "stream",
     "text": [
      "q-bio.TO\n",
      "\n",
      "\n",
      "  We consider a system of differential equations the behavior of which\n",
      "solutions possesses several properties characteristic of the blood pressure\n",
      "distribution. The system can be used for a compartmental modeling of the\n",
      "cardiovascular system. It admits a unique bounded solution such that all\n",
      "coordinates of the solution are separated from zero by positive numbers, and\n",
      "which is periodic, eventually periodic or almost periodic depending on the\n",
      "moments of heart contraction. Appropriate numerical simulations are provided.\n",
      "\n"
     ]
    }
   ],
   "source": [
    "print(data_df[\"categories\"][example_index])\n",
    "print(\"\\n\")\n",
    "print(data_df[\"abstract\"][example_index])"
   ]
  },
  {
   "cell_type": "code",
   "execution_count": 66,
   "id": "632f7d5e",
   "metadata": {},
   "outputs": [],
   "source": [
    "article = data_df[\"tokens\"][example_index] # some article\n",
    "article_vector = tfidf.transform([article])"
   ]
  },
  {
   "cell_type": "code",
   "execution_count": 67,
   "id": "60684b3e",
   "metadata": {},
   "outputs": [
    {
     "name": "stdout",
     "output_type": "stream",
     "text": [
      "type:  <class 'scipy.sparse.csr.csr_matrix'>\n",
      "shape:  (1, 34007)\n"
     ]
    }
   ],
   "source": [
    "print(\"type: \", type(article_vector))\n",
    "print(\"shape: \", article_vector.shape)"
   ]
  },
  {
   "cell_type": "code",
   "execution_count": 68,
   "id": "07e8f494",
   "metadata": {},
   "outputs": [
    {
     "data": {
      "text/plain": [
       "<1x34007 sparse matrix of type '<class 'numpy.float64'>'\n",
       "\twith 33 stored elements in Compressed Sparse Row format>"
      ]
     },
     "execution_count": 68,
     "metadata": {},
     "output_type": "execute_result"
    }
   ],
   "source": [
    "article_vector"
   ]
  },
  {
   "cell_type": "markdown",
   "id": "21dea34d",
   "metadata": {},
   "source": [
    "### This is a sparse data representation.\n",
    "#### You can see the dense values by:"
   ]
  },
  {
   "cell_type": "code",
   "execution_count": 73,
   "id": "336b97ef",
   "metadata": {},
   "outputs": [
    {
     "data": {
      "text/plain": [
       "array([0.15195732, 0.13329723, 0.18696145, 0.26677865, 0.11154637,\n",
       "       0.14333664, 0.06602832, 0.09221215, 0.16208947, 0.16708562,\n",
       "       0.12458595, 0.51960124, 0.13238785, 0.05118854, 0.17320041,\n",
       "       0.1217968 , 0.16623365, 0.16766869, 0.13271505, 0.10350198,\n",
       "       0.15367056, 0.11331238, 0.16068389, 0.18467431, 0.08384972,\n",
       "       0.22616587, 0.11704111, 0.21267056, 0.16023094, 0.16357108,\n",
       "       0.10177242, 0.12596579, 0.16208947])"
      ]
     },
     "execution_count": 73,
     "metadata": {},
     "output_type": "execute_result"
    }
   ],
   "source": [
    "article_vector.data"
   ]
  },
  {
   "cell_type": "code",
   "execution_count": 74,
   "id": "3c04de36",
   "metadata": {},
   "outputs": [
    {
     "data": {
      "text/plain": [
       "array([33929, 31994, 29833, 28257, 27802, 27335, 24271, 24155, 23836,\n",
       "       23483, 23474, 22557, 20921, 20791, 19096, 19015, 13051, 10185,\n",
       "        9875,  8334,  7906,  7543,  6085,  5981,  5837,  5449,  4529,\n",
       "        4051,  3458,  3237,  2707,  1561,   451], dtype=int32)"
      ]
     },
     "execution_count": 74,
     "metadata": {},
     "output_type": "execute_result"
    }
   ],
   "source": [
    "article_vector.indices"
   ]
  },
  {
   "cell_type": "code",
   "execution_count": 75,
   "id": "08c56734",
   "metadata": {},
   "outputs": [
    {
     "data": {
      "text/plain": [
       "[['zero', 0.1519573171576311],\n",
       " ['unique', 0.13329722958442347],\n",
       " ['system', 0.18696145350825027],\n",
       " ['solution', 0.2667786505546979],\n",
       " ['simulation', 0.11154636801321519],\n",
       " ['separate', 0.14333663774005878],\n",
       " ['provide', 0.06602832219576134],\n",
       " ['property', 0.09221214963779113],\n",
       " ['pressure', 0.16208947451004996],\n",
       " ['possess', 0.16708562207782512],\n",
       " ['positive', 0.12458594710664395],\n",
       " ['periodic', 0.5196012375316503],\n",
       " ['numerical', 0.13238784781539145],\n",
       " ['number', 0.05118853680647198],\n",
       " ['moment', 0.1732004125105501],\n",
       " ['modeling', 0.12179680154667646],\n",
       " ['heart', 0.16623364843465258],\n",
       " ['eventually', 0.16766868545425911],\n",
       " ['equation', 0.13271505104451778],\n",
       " ['distribution', 0.10350197710793171],\n",
       " ['differential', 0.15367055905267332],\n",
       " ['depend', 0.1133123798759304],\n",
       " ['coordinate', 0.16068388719221488],\n",
       " ['contraction', 0.18467430872935095],\n",
       " ['consider', 0.08384972087164698],\n",
       " ['compartmental', 0.226165867498939],\n",
       " ['characteristic', 0.11704111335726215],\n",
       " ['cardiovascular', 0.21267056153252253],\n",
       " ['bounded', 0.16023093564225696],\n",
       " ['blood', 0.1635710755933005],\n",
       " ['behavior', 0.10177242419120344],\n",
       " ['appropriate', 0.12596579187222343],\n",
       " ['admit', 0.16208947451004996]]"
      ]
     },
     "execution_count": 75,
     "metadata": {},
     "output_type": "execute_result"
    }
   ],
   "source": [
    "article_words = [[index_to_word[feature_index],  article_vector.data[i]]\n",
    "                  for i, feature_index in enumerate(article_vector.indices)]\n",
    "article_words"
   ]
  }
 ],
 "metadata": {
  "kernelspec": {
   "display_name": "Python 3 (ipykernel)",
   "language": "python",
   "name": "python3"
  },
  "language_info": {
   "codemirror_mode": {
    "name": "ipython",
    "version": 3
   },
   "file_extension": ".py",
   "mimetype": "text/x-python",
   "name": "python",
   "nbconvert_exporter": "python",
   "pygments_lexer": "ipython3",
   "version": "3.9.7"
  }
 },
 "nbformat": 4,
 "nbformat_minor": 5
}
