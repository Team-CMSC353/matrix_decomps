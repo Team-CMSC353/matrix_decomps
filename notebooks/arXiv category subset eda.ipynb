{
 "cells": [
  {
   "cell_type": "markdown",
   "id": "2ec45e79",
   "metadata": {},
   "source": [
    "# arXiv data subset eda"
   ]
  },
  {
   "cell_type": "code",
   "execution_count": 1,
   "id": "e1ea76b6",
   "metadata": {},
   "outputs": [],
   "source": [
    "import os\n",
    "import sys\n",
    "parent_dr = os.path.split(os.getcwd())[0]\n",
    "if parent_dr not in sys.path:\n",
    "    sys.path.append(parent_dr)"
   ]
  },
  {
   "cell_type": "code",
   "execution_count": 2,
   "id": "01e95818",
   "metadata": {},
   "outputs": [],
   "source": [
    "import pandas as pd\n",
    "from core.util.basic_io import *\n",
    "from core.util.plot_util import *\n",
    "from core.data.arxiv_data_io import *"
   ]
  },
  {
   "cell_type": "code",
   "execution_count": 3,
   "id": "21692088",
   "metadata": {},
   "outputs": [],
   "source": [
    "pd.set_option('display.max_columns', None)\n",
    "pd.set_option('display.max_rows', None)\n",
    "pd.set_option('display.max_colwidth', None)"
   ]
  },
  {
   "cell_type": "code",
   "execution_count": 4,
   "id": "2448f8e9",
   "metadata": {},
   "outputs": [],
   "source": [
    "file_name = \"arxiv_subset_15540.json\"\n",
    "full_path = os.path.join(parent_dr, \"core\", \"resources\", file_name)\n",
    "data = read_json_to_dict(full_path)"
   ]
  },
  {
   "cell_type": "code",
   "execution_count": 5,
   "id": "5a5aa810",
   "metadata": {},
   "outputs": [],
   "source": [
    "data_df = create_arxiv_df(data)"
   ]
  },
  {
   "cell_type": "code",
   "execution_count": 6,
   "id": "c8acf7d6",
   "metadata": {},
   "outputs": [
    {
     "data": {
      "text/html": [
       "<div>\n",
       "<style scoped>\n",
       "    .dataframe tbody tr th:only-of-type {\n",
       "        vertical-align: middle;\n",
       "    }\n",
       "\n",
       "    .dataframe tbody tr th {\n",
       "        vertical-align: top;\n",
       "    }\n",
       "\n",
       "    .dataframe thead th {\n",
       "        text-align: right;\n",
       "    }\n",
       "</style>\n",
       "<table border=\"1\" class=\"dataframe\">\n",
       "  <thead>\n",
       "    <tr style=\"text-align: right;\">\n",
       "      <th></th>\n",
       "      <th>id</th>\n",
       "      <th>authors</th>\n",
       "      <th>title</th>\n",
       "      <th>categories</th>\n",
       "      <th>abstract</th>\n",
       "      <th>update_dt</th>\n",
       "    </tr>\n",
       "  </thead>\n",
       "  <tbody>\n",
       "    <tr>\n",
       "      <th>0</th>\n",
       "      <td>0704.0648</td>\n",
       "      <td>Kaushik Majumdar</td>\n",
       "      <td>Behavioral response to strong aversive stimuli: A neurodynamical model</td>\n",
       "      <td>q-bio.NC</td>\n",
       "      <td>In this paper a theoretical model of functioning of a neural circuit during a\\nbehavioral response has been proposed. A neural circuit can be thought of as a\\ndirected multigraph whose each vertex is a neuron and each edge is a synapse.\\nIt has been assumed in this paper that the behavior of such circuits is\\nmanifested through the collective behavior of neurons belonging to that\\ncircuit. Behavioral information of each neuron is contained in the coefficients\\nof the fast Fourier transform (FFT) over the output spike train. Those\\ncoefficients form a vector in a multidimensional vector space. Behavioral\\ndynamics of a neuronal network in response to strong aversive stimuli has been\\nstudied in a vector space in which a suitable pseudometric has been defined.\\nThe neurodynamical model of network behavior has been formulated in terms of\\nexisting memory, synaptic plasticity and feelings. The model has an analogy in\\nclassical electrostatics, by which the notion of force and potential energy has\\nbeen introduced. Since the model takes input from each neuron in a network and\\nproduces a behavior as the output, it would be extremely difficult or may even\\nbe impossible to implement. But with the help of the model a possible\\nexplanation for an hitherto unexplained neurological observation in human brain\\nhas been offered. The model is compatible with a recent model of sequential\\nbehavioral dynamics. The model is based on electrophysiology, but its relevance\\nto hemodynamics has been outlined.\\n</td>\n",
       "      <td>2007-05-23</td>\n",
       "    </tr>\n",
       "    <tr>\n",
       "      <th>1</th>\n",
       "      <td>0704.1394</td>\n",
       "      <td>Tarik Hadzic, Rune Moller Jensen, Henrik Reif Andersen</td>\n",
       "      <td>Calculating Valid Domains for BDD-Based Interactive Configuration</td>\n",
       "      <td>cs.AI</td>\n",
       "      <td>In these notes we formally describe the functionality of Calculating Valid\\nDomains from the BDD representing the solution space of valid configurations.\\nThe formalization is largely based on the CLab configuration framework.\\n</td>\n",
       "      <td>2007-05-23</td>\n",
       "    </tr>\n",
       "    <tr>\n",
       "      <th>2</th>\n",
       "      <td>0704.1829</td>\n",
       "      <td>Stefan Felsner, Kamil Kloch, Grzegorz Matecki, and Piotr Micek</td>\n",
       "      <td>On-line Chain Partitions of Up-growing Semi-orders</td>\n",
       "      <td>cs.DM</td>\n",
       "      <td>On-line chain partition is a two-player game between Spoiler and Algorithm.\\nSpoiler presents a partially ordered set, point by point. Algorithm assigns\\nincoming points (immediately and irrevocably) to the chains which constitute a\\nchain partition of the order. The value of the game for orders of width $w$ is\\na minimum number $\\fVal(w)$ such that Algorithm has a strategy using at most\\n$\\fVal(w)$ chains on orders of width at most $w$. We analyze the chain\\npartition game for up-growing semi-orders. Surprisingly, the golden ratio comes\\ninto play and the value of the game is $\\lfloor\\frac{1+\\sqrt{5}}{2}\\; w\\n\\rfloor$.\\n</td>\n",
       "      <td>2011-02-22</td>\n",
       "    </tr>\n",
       "    <tr>\n",
       "      <th>3</th>\n",
       "      <td>0704.2010</td>\n",
       "      <td>Juliana S Bernardes, Alberto Davila, Vitor Santos Costa, Gerson\\n  Zaverucha</td>\n",
       "      <td>A study of structural properties on profiles HMMs</td>\n",
       "      <td>cs.AI</td>\n",
       "      <td>Motivation: Profile hidden Markov Models (pHMMs) are a popular and very\\nuseful tool in the detection of the remote homologue protein families.\\nUnfortunately, their performance is not always satisfactory when proteins are\\nin the 'twilight zone'. We present HMMER-STRUCT, a model construction algorithm\\nand tool that tries to improve pHMM performance by using structural information\\nwhile training pHMMs. As a first step, HMMER-STRUCT constructs a set of pHMMs.\\nEach pHMM is constructed by weighting each residue in an aligned protein\\naccording to a specific structural property of the residue. Properties used\\nwere primary, secondary and tertiary structures, accessibility and packing.\\nHMMER-STRUCT then prioritizes the results by voting. Results: We used the SCOP\\ndatabase to perform our experiments. Throughout, we apply leave-one-family-out\\ncross-validation over protein superfamilies. First, we used the MAMMOTH-mult\\nstructural aligner to align the training set proteins. Then, we performed two\\nsets of experiments. In a first experiment, we compared structure weighted\\nmodels against standard pHMMs and against each other. In a second experiment,\\nwe compared the voting model against individual pHMMs. We compare method\\nperformance through ROC curves and through Precision/Recall curves, and assess\\nsignificance through the paired two tailed t-test. Our results show significant\\nperformance improvements of all structurally weighted models over default\\nHMMER, and a significant improvement in sensitivity of the combined models over\\nboth the original model and the structurally weighted models.\\n</td>\n",
       "      <td>2008-12-11</td>\n",
       "    </tr>\n",
       "    <tr>\n",
       "      <th>4</th>\n",
       "      <td>0704.3263</td>\n",
       "      <td>Karim Hnia, G\\'erald Hugon, Ahmed Masmoudi, Jacques Mercier,\\n  Fran\\c{c}ois Rivier, Dominique Jean-Marie Mornet</td>\n",
       "      <td>Effect of beta-Dystroglycan Processing on Utrophin / DP116 Anchorage in\\n  Normal and MDX Mouse Schwann Cell Membrane</td>\n",
       "      <td>q-bio.NC</td>\n",
       "      <td>In the peripheral nervous system, utrophin and the short dystrophin isoform\\n(Dp116) are co-localized at the outermost layer of the myelin sheath of nerve\\nfibers; together with the dystroglycan complex. In peripheral nerve, matrix\\nmetalloproteinase (MMP) creates a 30 kDa fragment of beta-dystroglycan, leading\\nto a disruption of the link between the extracellular matrix and the cell\\nmembrane. Here we asked if the processing of the beta-dystroglycan could\\ninfluence the anchorage of Dp116 or/and utrophin in normal and mdx Schwann cell\\nmembrane. We showed that MMP-9 was more activated in mdx nerve than in\\nwild-type one. This activation leads to an accumulation of the 30 kDa\\nbeta-dystroglycan isoform and have an impact on the anchorage of Dp116 and\\nutrophin isoforms in mdx Schwann cells membrane. Our results showed that Dp116\\nhad greater affinity to the full length form of beta-dystroglycan than the 30\\nkDa form. Moreover, we showed for the first time that the short isoform of\\nutrophin (Up71) was over-expressed in mdx Schwann cells compared to wild-type.\\nIn addition, this utrophin isoform (Up71) seems to have greater affinity to the\\n30 kDa beta-dystroglycan which could explain a more stabilization of this 30\\nkDa at the membrane compartment. Our results highlight the potential\\nparticipation of the short utrophin isoform and the cleaved form of\\nbeta-dystroglycan in mdx Schwann cell membrane architecture.\\n</td>\n",
       "      <td>2007-05-23</td>\n",
       "    </tr>\n",
       "  </tbody>\n",
       "</table>\n",
       "</div>"
      ],
      "text/plain": [
       "          id  \\\n",
       "0  0704.0648   \n",
       "1  0704.1394   \n",
       "2  0704.1829   \n",
       "3  0704.2010   \n",
       "4  0704.3263   \n",
       "\n",
       "                                                                                                            authors  \\\n",
       "0                                                                                                  Kaushik Majumdar   \n",
       "1                                                            Tarik Hadzic, Rune Moller Jensen, Henrik Reif Andersen   \n",
       "2                                                    Stefan Felsner, Kamil Kloch, Grzegorz Matecki, and Piotr Micek   \n",
       "3                                      Juliana S Bernardes, Alberto Davila, Vitor Santos Costa, Gerson\\n  Zaverucha   \n",
       "4  Karim Hnia, G\\'erald Hugon, Ahmed Masmoudi, Jacques Mercier,\\n  Fran\\c{c}ois Rivier, Dominique Jean-Marie Mornet   \n",
       "\n",
       "                                                                                                                   title  \\\n",
       "0                                                 Behavioral response to strong aversive stimuli: A neurodynamical model   \n",
       "1                                                      Calculating Valid Domains for BDD-Based Interactive Configuration   \n",
       "2                                                                     On-line Chain Partitions of Up-growing Semi-orders   \n",
       "3                                                                      A study of structural properties on profiles HMMs   \n",
       "4  Effect of beta-Dystroglycan Processing on Utrophin / DP116 Anchorage in\\n  Normal and MDX Mouse Schwann Cell Membrane   \n",
       "\n",
       "  categories  \\\n",
       "0   q-bio.NC   \n",
       "1      cs.AI   \n",
       "2      cs.DM   \n",
       "3      cs.AI   \n",
       "4   q-bio.NC   \n",
       "\n",
       "                                                                                                                                                                                                                                                                                                                                                                                                                                                                                                                                                                                                                                                                                                                                                                                                                                                                                                                                                                                                                                                                                                                                                                                                                                                                                                                                                                                                                                                                                                                                                                                                                                                                                 abstract  \\\n",
       "0                                                                                                             In this paper a theoretical model of functioning of a neural circuit during a\\nbehavioral response has been proposed. A neural circuit can be thought of as a\\ndirected multigraph whose each vertex is a neuron and each edge is a synapse.\\nIt has been assumed in this paper that the behavior of such circuits is\\nmanifested through the collective behavior of neurons belonging to that\\ncircuit. Behavioral information of each neuron is contained in the coefficients\\nof the fast Fourier transform (FFT) over the output spike train. Those\\ncoefficients form a vector in a multidimensional vector space. Behavioral\\ndynamics of a neuronal network in response to strong aversive stimuli has been\\nstudied in a vector space in which a suitable pseudometric has been defined.\\nThe neurodynamical model of network behavior has been formulated in terms of\\nexisting memory, synaptic plasticity and feelings. The model has an analogy in\\nclassical electrostatics, by which the notion of force and potential energy has\\nbeen introduced. Since the model takes input from each neuron in a network and\\nproduces a behavior as the output, it would be extremely difficult or may even\\nbe impossible to implement. But with the help of the model a possible\\nexplanation for an hitherto unexplained neurological observation in human brain\\nhas been offered. The model is compatible with a recent model of sequential\\nbehavioral dynamics. The model is based on electrophysiology, but its relevance\\nto hemodynamics has been outlined.\\n   \n",
       "1                                                                                                                                                                                                                                                                                                                                                                                                                                                                                                                                                                                                                                                                                                                                                                                                                                                                                                                                                                                                                                                                                                                                                                                                                                                                                                                                                                                                                                                    In these notes we formally describe the functionality of Calculating Valid\\nDomains from the BDD representing the solution space of valid configurations.\\nThe formalization is largely based on the CLab configuration framework.\\n   \n",
       "2                                                                                                                                                                                                                                                                                                                                                                                                                                                                                                                                                                                                                                                                                                                                                                                                                                                                                                                                                                                                                                   On-line chain partition is a two-player game between Spoiler and Algorithm.\\nSpoiler presents a partially ordered set, point by point. Algorithm assigns\\nincoming points (immediately and irrevocably) to the chains which constitute a\\nchain partition of the order. The value of the game for orders of width $w$ is\\na minimum number $\\fVal(w)$ such that Algorithm has a strategy using at most\\n$\\fVal(w)$ chains on orders of width at most $w$. We analyze the chain\\npartition game for up-growing semi-orders. Surprisingly, the golden ratio comes\\ninto play and the value of the game is $\\lfloor\\frac{1+\\sqrt{5}}{2}\\; w\\n\\rfloor$.\\n   \n",
       "3    Motivation: Profile hidden Markov Models (pHMMs) are a popular and very\\nuseful tool in the detection of the remote homologue protein families.\\nUnfortunately, their performance is not always satisfactory when proteins are\\nin the 'twilight zone'. We present HMMER-STRUCT, a model construction algorithm\\nand tool that tries to improve pHMM performance by using structural information\\nwhile training pHMMs. As a first step, HMMER-STRUCT constructs a set of pHMMs.\\nEach pHMM is constructed by weighting each residue in an aligned protein\\naccording to a specific structural property of the residue. Properties used\\nwere primary, secondary and tertiary structures, accessibility and packing.\\nHMMER-STRUCT then prioritizes the results by voting. Results: We used the SCOP\\ndatabase to perform our experiments. Throughout, we apply leave-one-family-out\\ncross-validation over protein superfamilies. First, we used the MAMMOTH-mult\\nstructural aligner to align the training set proteins. Then, we performed two\\nsets of experiments. In a first experiment, we compared structure weighted\\nmodels against standard pHMMs and against each other. In a second experiment,\\nwe compared the voting model against individual pHMMs. We compare method\\nperformance through ROC curves and through Precision/Recall curves, and assess\\nsignificance through the paired two tailed t-test. Our results show significant\\nperformance improvements of all structurally weighted models over default\\nHMMER, and a significant improvement in sensitivity of the combined models over\\nboth the original model and the structurally weighted models.\\n   \n",
       "4                                                                                                                                                                                          In the peripheral nervous system, utrophin and the short dystrophin isoform\\n(Dp116) are co-localized at the outermost layer of the myelin sheath of nerve\\nfibers; together with the dystroglycan complex. In peripheral nerve, matrix\\nmetalloproteinase (MMP) creates a 30 kDa fragment of beta-dystroglycan, leading\\nto a disruption of the link between the extracellular matrix and the cell\\nmembrane. Here we asked if the processing of the beta-dystroglycan could\\ninfluence the anchorage of Dp116 or/and utrophin in normal and mdx Schwann cell\\nmembrane. We showed that MMP-9 was more activated in mdx nerve than in\\nwild-type one. This activation leads to an accumulation of the 30 kDa\\nbeta-dystroglycan isoform and have an impact on the anchorage of Dp116 and\\nutrophin isoforms in mdx Schwann cells membrane. Our results showed that Dp116\\nhad greater affinity to the full length form of beta-dystroglycan than the 30\\nkDa form. Moreover, we showed for the first time that the short isoform of\\nutrophin (Up71) was over-expressed in mdx Schwann cells compared to wild-type.\\nIn addition, this utrophin isoform (Up71) seems to have greater affinity to the\\n30 kDa beta-dystroglycan which could explain a more stabilization of this 30\\nkDa at the membrane compartment. Our results highlight the potential\\nparticipation of the short utrophin isoform and the cleaved form of\\nbeta-dystroglycan in mdx Schwann cell membrane architecture.\\n   \n",
       "\n",
       "    update_dt  \n",
       "0  2007-05-23  \n",
       "1  2007-05-23  \n",
       "2  2011-02-22  \n",
       "3  2008-12-11  \n",
       "4  2007-05-23  "
      ]
     },
     "execution_count": 6,
     "metadata": {},
     "output_type": "execute_result"
    }
   ],
   "source": [
    "data_df.head()"
   ]
  },
  {
   "cell_type": "code",
   "execution_count": 7,
   "id": "7a0ec0e7",
   "metadata": {},
   "outputs": [],
   "source": [
    "cat_descriptions = []\n",
    "for cat_str in data_df['categories'].unique():\n",
    "    cat_list = cat_str.split(\" \")\n",
    "    for cat in cat_list:\n",
    "        brief_desc = CATEGORY_DICT[cat] if cat in CATEGORY_DICT else \"NONE FOUND\"\n",
    "        long_desc = CATEGORY_DESCR[cat] if cat in CATEGORY_DESCR else \"NONE FOUND\"\n",
    "        cat_descriptions.append([cat, brief_desc, long_desc])"
   ]
  },
  {
   "cell_type": "code",
   "execution_count": 8,
   "id": "5521658d",
   "metadata": {},
   "outputs": [
    {
     "data": {
      "text/html": [
       "<div>\n",
       "<style scoped>\n",
       "    .dataframe tbody tr th:only-of-type {\n",
       "        vertical-align: middle;\n",
       "    }\n",
       "\n",
       "    .dataframe tbody tr th {\n",
       "        vertical-align: top;\n",
       "    }\n",
       "\n",
       "    .dataframe thead th {\n",
       "        text-align: right;\n",
       "    }\n",
       "</style>\n",
       "<table border=\"1\" class=\"dataframe\">\n",
       "  <thead>\n",
       "    <tr style=\"text-align: right;\">\n",
       "      <th></th>\n",
       "      <th>Code</th>\n",
       "      <th>Category</th>\n",
       "      <th>Descr</th>\n",
       "    </tr>\n",
       "  </thead>\n",
       "  <tbody>\n",
       "    <tr>\n",
       "      <th>1</th>\n",
       "      <td>cs.AI</td>\n",
       "      <td>Artificial Intelligence</td>\n",
       "      <td>Covers all areas of AI except Vision, Robotics, Machine Learning,Multiagent Systems, and Computation and Language (Natural Language Processing), which have separate subject areas. In particular, includes Expert Systems, Theorem Proving (although this may overlap with Logic in Computer Science), Knowledge Representation, Planning, and Uncertainty in AI.</td>\n",
       "    </tr>\n",
       "    <tr>\n",
       "      <th>3</th>\n",
       "      <td>cs.CY</td>\n",
       "      <td>Computers and Society</td>\n",
       "      <td>Covers impact of computers on society, computer ethics, information technology and public policy, legal aspects of computing, computers and education.</td>\n",
       "    </tr>\n",
       "    <tr>\n",
       "      <th>2</th>\n",
       "      <td>cs.DM</td>\n",
       "      <td>Discrete Mathematics</td>\n",
       "      <td>Covers combinatorics, graph theory, applications of probability.</td>\n",
       "    </tr>\n",
       "    <tr>\n",
       "      <th>5</th>\n",
       "      <td>econ.TH</td>\n",
       "      <td>Theoretical Economics</td>\n",
       "      <td>Includes theoretical contributions to Contract Theory, Decision Theory, Game Theory, General Equilibrium, Growth, Learning and Evolution, Macroeconomics, Market and Mechanism Design, and Social Choice.</td>\n",
       "    </tr>\n",
       "    <tr>\n",
       "      <th>6</th>\n",
       "      <td>eess.AS</td>\n",
       "      <td>Audio and Speech Processing</td>\n",
       "      <td>Theory and methods for processing signals representing audio, speech, and language, and their applications. This includes analysis, synthesis, enhancement, transformation, classification and interpretation of such signals as well as the design, development, and evaluation of associated signal processing systems. Machine learning and pattern analysis applied to any of the above areas is also welcome.</td>\n",
       "    </tr>\n",
       "    <tr>\n",
       "      <th>0</th>\n",
       "      <td>q-bio.NC</td>\n",
       "      <td>Neurons and Cognition</td>\n",
       "      <td>Synapse, cortex, neuronal dynamics, neural network, sensorimotor control, behavior, attention</td>\n",
       "    </tr>\n",
       "    <tr>\n",
       "      <th>4</th>\n",
       "      <td>q-bio.TO</td>\n",
       "      <td>Tissues and Organs</td>\n",
       "      <td>Blood flow in vessels, biomechanics of bones, electrical waves, endocrine system, tumor growth</td>\n",
       "    </tr>\n",
       "  </tbody>\n",
       "</table>\n",
       "</div>"
      ],
      "text/plain": [
       "       Code                     Category  \\\n",
       "1     cs.AI      Artificial Intelligence   \n",
       "3     cs.CY        Computers and Society   \n",
       "2     cs.DM         Discrete Mathematics   \n",
       "5   econ.TH        Theoretical Economics   \n",
       "6   eess.AS  Audio and Speech Processing   \n",
       "0  q-bio.NC        Neurons and Cognition   \n",
       "4  q-bio.TO           Tissues and Organs   \n",
       "\n",
       "                                                                                                                                                                                                                                                                                                                                                                                                                Descr  \n",
       "1                                                  Covers all areas of AI except Vision, Robotics, Machine Learning,Multiagent Systems, and Computation and Language (Natural Language Processing), which have separate subject areas. In particular, includes Expert Systems, Theorem Proving (although this may overlap with Logic in Computer Science), Knowledge Representation, Planning, and Uncertainty in AI.  \n",
       "3                                                                                                                                                                                                                                                              Covers impact of computers on society, computer ethics, information technology and public policy, legal aspects of computing, computers and education.  \n",
       "2                                                                                                                                                                                                                                                                                                                                                    Covers combinatorics, graph theory, applications of probability.  \n",
       "5                                                                                                                                                                                                           Includes theoretical contributions to Contract Theory, Decision Theory, Game Theory, General Equilibrium, Growth, Learning and Evolution, Macroeconomics, Market and Mechanism Design, and Social Choice.  \n",
       "6  Theory and methods for processing signals representing audio, speech, and language, and their applications. This includes analysis, synthesis, enhancement, transformation, classification and interpretation of such signals as well as the design, development, and evaluation of associated signal processing systems. Machine learning and pattern analysis applied to any of the above areas is also welcome.  \n",
       "0                                                                                                                                                                                                                                                                                                                       Synapse, cortex, neuronal dynamics, neural network, sensorimotor control, behavior, attention  \n",
       "4                                                                                                                                                                                                                                                                                                                      Blood flow in vessels, biomechanics of bones, electrical waves, endocrine system, tumor growth  "
      ]
     },
     "execution_count": 8,
     "metadata": {},
     "output_type": "execute_result"
    }
   ],
   "source": [
    "category_df = pd.DataFrame(cat_descriptions, columns=['Code', 'Category', 'Descr'])\n",
    "category_df.sort_values(by=['Code'], inplace=True)\n",
    "category_df"
   ]
  },
  {
   "cell_type": "code",
   "execution_count": 11,
   "id": "6de271bf",
   "metadata": {},
   "outputs": [
    {
     "data": {
      "image/png": "[encoded data removed]",
      "text/plain": [
       "<Figure size 1440x432 with 1 Axes>"
      ]
     },
     "metadata": {
      "needs_background": "light"
     },
     "output_type": "display_data"
    }
   ],
   "source": [
    "cat_counts = create_count_data(data_df, \"categories\")\n",
    "create_barplot(cat_counts, \"categories\", \"count\", f\"Num articles by Category\\n(Total = {len(data_df)})\")"
   ]
  }
 ],
 "metadata": {
  "kernelspec": {
   "display_name": "Python 3 (ipykernel)",
   "language": "python",
   "name": "python3"
  },
  "language_info": {
   "codemirror_mode": {
    "name": "ipython",
    "version": 3
   },
   "file_extension": ".py",
   "mimetype": "text/x-python",
   "name": "python",
   "nbconvert_exporter": "python",
   "pygments_lexer": "ipython3",
   "version": "3.9.7"
  }
 },
 "nbformat": 4,
 "nbformat_minor": 5
}
