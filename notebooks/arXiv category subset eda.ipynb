{
 "cells": [
  {
   "cell_type": "markdown",
   "id": "c85755be",
   "metadata": {},
   "source": [
    "# arXiv data subset eda"
   ]
  },
  {
   "cell_type": "code",
   "execution_count": 1,
   "id": "ab35de86",
   "metadata": {},
   "outputs": [],
   "source": [
    "import os\n",
    "import sys\n",
    "parent_dr = os.path.split(os.getcwd())[0]\n",
    "if parent_dr not in sys.path:\n",
    "    sys.path.append(parent_dr)"
   ]
  },
  {
   "cell_type": "code",
   "execution_count": 13,
   "id": "1204e80a",
   "metadata": {},
   "outputs": [],
   "source": [
    "import pandas as pd\n",
    "from core.util.basic_io import *\n",
    "from core.util.plot_util import *\n",
    "from core.data.arxiv_data_io import *"
   ]
  },
  {
   "cell_type": "code",
   "execution_count": null,
   "id": "04041c8e",
   "metadata": {},
   "outputs": [],
   "source": [
    "pd.set_option('display.max_columns', None)\n",
    "pd.set_option('display.max_rows', None)\n",
    "pd.set_option('display.max_colwidth', None)"
   ]
  },
  {
   "cell_type": "code",
   "execution_count": 3,
   "id": "8c32fc2a",
   "metadata": {},
   "outputs": [],
   "source": [
    "file_name = \"arxiv_subset_15540.json\"\n",
    "full_path = os.path.join(parent_dr, \"core\", \"resources\", file_name)\n",
    "data = read_json_to_dict(full_path)"
   ]
  },
  {
   "cell_type": "code",
   "execution_count": 8,
   "id": "2c29a1e7",
   "metadata": {},
   "outputs": [],
   "source": [
    "data_by_cat = {}\n",
    "for article in data:\n",
    "    all_cats = article[\"categories\"]\n",
    "    article_list = data_by_cat.get(all_cats, [])\n",
    "    article_list.append(article)\n",
    "    data_by_cat[all_cats] = article_list"
   ]
  },
  {
   "cell_type": "code",
   "execution_count": 10,
   "id": "721eff53",
   "metadata": {},
   "outputs": [],
   "source": [
    "cat_descriptions = []\n",
    "for cat_str in data_by_cat:\n",
    "    cat_list = cat_str.split(\" \")\n",
    "    for cat in cat_list:\n",
    "        brief_desc = CATEGORY_DICT[cat] if cat in CATEGORY_DICT else \"NONE FOUND\"\n",
    "        long_desc = CATEGORY_DESCR[cat] if cat in CATEGORY_DESCR else \"NONE FOUND\"\n",
    "        cat_descriptions.append([cat, brief_desc, long_desc])"
   ]
  },
  {
   "cell_type": "code",
   "execution_count": 19,
   "id": "1fff451d",
   "metadata": {},
   "outputs": [
    {
     "data": {
      "text/html": [
       "<div>\n",
       "<style scoped>\n",
       "    .dataframe tbody tr th:only-of-type {\n",
       "        vertical-align: middle;\n",
       "    }\n",
       "\n",
       "    .dataframe tbody tr th {\n",
       "        vertical-align: top;\n",
       "    }\n",
       "\n",
       "    .dataframe thead th {\n",
       "        text-align: right;\n",
       "    }\n",
       "</style>\n",
       "<table border=\"1\" class=\"dataframe\">\n",
       "  <thead>\n",
       "    <tr style=\"text-align: right;\">\n",
       "      <th></th>\n",
       "      <th>Code</th>\n",
       "      <th>Category</th>\n",
       "      <th>Descr</th>\n",
       "    </tr>\n",
       "  </thead>\n",
       "  <tbody>\n",
       "    <tr>\n",
       "      <th>1</th>\n",
       "      <td>cs.AI</td>\n",
       "      <td>Artificial Intelligence</td>\n",
       "      <td>Covers all areas of AI except Vision, Robotics, Machine Learning,Multiagent Systems, and Computation and Language (Natural Language Processing), which have separate subject areas. In particular, includes Expert Systems, Theorem Proving (although this may overlap with Logic in Computer Science), Knowledge Representation, Planning, and Uncertainty in AI.</td>\n",
       "    </tr>\n",
       "    <tr>\n",
       "      <th>3</th>\n",
       "      <td>cs.CY</td>\n",
       "      <td>Computers and Society</td>\n",
       "      <td>Covers impact of computers on society, computer ethics, information technology and public policy, legal aspects of computing, computers and education.</td>\n",
       "    </tr>\n",
       "    <tr>\n",
       "      <th>2</th>\n",
       "      <td>cs.DM</td>\n",
       "      <td>Discrete Mathematics</td>\n",
       "      <td>Covers combinatorics, graph theory, applications of probability.</td>\n",
       "    </tr>\n",
       "    <tr>\n",
       "      <th>5</th>\n",
       "      <td>econ.TH</td>\n",
       "      <td>Theoretical Economics</td>\n",
       "      <td>Includes theoretical contributions to Contract Theory, Decision Theory, Game Theory, General Equilibrium, Growth, Learning and Evolution, Macroeconomics, Market and Mechanism Design, and Social Choice.</td>\n",
       "    </tr>\n",
       "    <tr>\n",
       "      <th>6</th>\n",
       "      <td>eess.AS</td>\n",
       "      <td>Audio and Speech Processing</td>\n",
       "      <td>Theory and methods for processing signals representing audio, speech, and language, and their applications. This includes analysis, synthesis, enhancement, transformation, classification and interpretation of such signals as well as the design, development, and evaluation of associated signal processing systems. Machine learning and pattern analysis applied to any of the above areas is also welcome.</td>\n",
       "    </tr>\n",
       "    <tr>\n",
       "      <th>0</th>\n",
       "      <td>q-bio.NC</td>\n",
       "      <td>Neurons and Cognition</td>\n",
       "      <td>Synapse, cortex, neuronal dynamics, neural network, sensorimotor control, behavior, attention</td>\n",
       "    </tr>\n",
       "    <tr>\n",
       "      <th>4</th>\n",
       "      <td>q-bio.TO</td>\n",
       "      <td>Tissues and Organs</td>\n",
       "      <td>Blood flow in vessels, biomechanics of bones, electrical waves, endocrine system, tumor growth</td>\n",
       "    </tr>\n",
       "  </tbody>\n",
       "</table>\n",
       "</div>"
      ],
      "text/plain": [
       "       Code                     Category                                                                                                                                                                                                                                                                                                                                                                                                               Descr\n",
       "1     cs.AI      Artificial Intelligence                                                  Covers all areas of AI except Vision, Robotics, Machine Learning,Multiagent Systems, and Computation and Language (Natural Language Processing), which have separate subject areas. In particular, includes Expert Systems, Theorem Proving (although this may overlap with Logic in Computer Science), Knowledge Representation, Planning, and Uncertainty in AI.\n",
       "3     cs.CY        Computers and Society                                                                                                                                                                                                                                                              Covers impact of computers on society, computer ethics, information technology and public policy, legal aspects of computing, computers and education.\n",
       "2     cs.DM         Discrete Mathematics                                                                                                                                                                                                                                                                                                                                                    Covers combinatorics, graph theory, applications of probability.\n",
       "5   econ.TH        Theoretical Economics                                                                                                                                                                                                           Includes theoretical contributions to Contract Theory, Decision Theory, Game Theory, General Equilibrium, Growth, Learning and Evolution, Macroeconomics, Market and Mechanism Design, and Social Choice.\n",
       "6   eess.AS  Audio and Speech Processing  Theory and methods for processing signals representing audio, speech, and language, and their applications. This includes analysis, synthesis, enhancement, transformation, classification and interpretation of such signals as well as the design, development, and evaluation of associated signal processing systems. Machine learning and pattern analysis applied to any of the above areas is also welcome.\n",
       "0  q-bio.NC        Neurons and Cognition                                                                                                                                                                                                                                                                                                                       Synapse, cortex, neuronal dynamics, neural network, sensorimotor control, behavior, attention\n",
       "4  q-bio.TO           Tissues and Organs                                                                                                                                                                                                                                                                                                                      Blood flow in vessels, biomechanics of bones, electrical waves, endocrine system, tumor growth"
      ]
     },
     "execution_count": 19,
     "metadata": {},
     "output_type": "execute_result"
    }
   ],
   "source": [
    "category_df = pd.DataFrame(cat_descriptions, columns=['Code', 'Category', 'Descr'])\n",
    "category_df.sort_values(by=['Code'], inplace=True)\n",
    "category_df"
   ]
  },
  {
   "cell_type": "code",
   "execution_count": null,
   "id": "2eea42f5",
   "metadata": {},
   "outputs": [],
   "source": []
  }
 ],
 "metadata": {
  "kernelspec": {
   "display_name": "Python 3 (ipykernel)",
   "language": "python",
   "name": "python3"
  },
  "language_info": {
   "codemirror_mode": {
    "name": "ipython",
    "version": 3
   },
   "file_extension": ".py",
   "mimetype": "text/x-python",
   "name": "python",
   "nbconvert_exporter": "python",
   "pygments_lexer": "ipython3",
   "version": "3.9.7"
  }
 },
 "nbformat": 4,
 "nbformat_minor": 5
}
